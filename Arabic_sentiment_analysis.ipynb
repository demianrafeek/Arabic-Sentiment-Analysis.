{
  "nbformat": 4,
  "nbformat_minor": 0,
  "metadata": {
    "colab": {
      "provenance": [],
      "gpuType": "T4",
      "collapsed_sections": [
        "BGFtArftWFUp",
        "bwbWj2ufH7kl"
      ]
    },
    "kernelspec": {
      "name": "python3",
      "display_name": "Python 3"
    },
    "language_info": {
      "name": "python"
    },
    "gpuClass": "standard",
    "accelerator": "GPU"
  },
  "cells": [
    {
      "cell_type": "code",
      "source": [
        "from google.colab import drive\n",
        "drive.mount('gdrive')"
      ],
      "metadata": {
        "colab": {
          "base_uri": "https://localhost:8080/"
        },
        "id": "4W65kt_2YQ5B",
        "outputId": "9c1589aa-ba39-4be1-a6e1-25442c4248d9"
      },
      "execution_count": null,
      "outputs": [
        {
          "output_type": "stream",
          "name": "stdout",
          "text": [
            "Drive already mounted at gdrive; to attempt to forcibly remount, call drive.mount(\"gdrive\", force_remount=True).\n"
          ]
        }
      ]
    },
    {
      "cell_type": "code",
      "source": [
        "import pandas as pd\n",
        "import matplotlib.pyplot as plt\n",
        "import numpy as np\n"
      ],
      "metadata": {
        "id": "3xFPeM5gYREo"
      },
      "execution_count": null,
      "outputs": []
    },
    {
      "cell_type": "code",
      "source": [
        "# 1- create a directory called \"kaggle\" in root to copy json file to it\n",
        "!mkdir ~/.kaggle/\n",
        "# 2- copy the file to the directory >> this a heddin file .kaggle\n",
        "!cp /content/gdrive/MyDrive/Deep_learning/kaggle.json ~/.kaggle/"
      ],
      "metadata": {
        "id": "d4FYSoO-TEcn",
        "colab": {
          "base_uri": "https://localhost:8080/"
        },
        "outputId": "8a793cce-b288-4ff5-b79a-490dce121ef9"
      },
      "execution_count": null,
      "outputs": [
        {
          "output_type": "stream",
          "name": "stdout",
          "text": [
            "mkdir: cannot create directory ‘/root/.kaggle/’: File exists\n"
          ]
        }
      ]
    },
    {
      "cell_type": "markdown",
      "source": [
        "## Collecting data"
      ],
      "metadata": {
        "id": "pGv0iFtkVgrr"
      }
    },
    {
      "cell_type": "code",
      "source": [
        "df1 = pd.read_csv('/content/gdrive/MyDrive/Arete/Arabic_sentiment_analysis/Arabic_tweets_negative.csv')\n",
        "df1.drop_duplicates(inplace=True)\n",
        "print(df1.shape)\n",
        "df1.rename(columns=({str(df1.columns[0]):'labels',str(df1.columns[1]):'text'}),inplace=True)\n",
        "print(df1.head(10))"
      ],
      "metadata": {
        "colab": {
          "base_uri": "https://localhost:8080/"
        },
        "id": "0wNo0mD9YRO1",
        "outputId": "fb8a0f53-0a0b-454c-ba8d-5d2fc45bf083"
      },
      "execution_count": null,
      "outputs": [
        {
          "output_type": "stream",
          "name": "stdout",
          "text": [
            "(18420, 2)\n",
            "  labels                                               text\n",
            "0    neg     راح فين كلامك الي كنتي بتقوليه 💔 رايكو في صوتي\n",
            "1    neg  كلام اهلها انهم دخلوها مستشفى الامل لمدة شهر ع...\n",
            "2    neg                              ليش عم تسبنا يامخرف 😡\n",
            "3    neg  #السعاده_دايما_هي اشتقت ل حديثك ، و كأني لم اح...\n",
            "4    neg   الله يستر 💔 والله مو قادرة أتخيل سيناريو الخسارة\n",
            "5    neg  حقيقي احس بشيء من الحزن لما اشوف اولاد او بنات...\n",
            "6    neg                            من اول .. مو من الحين 🌚\n",
            "7    neg                                  اشفيه صالح غيمه 😞\n",
            "8    neg  بموت ضحك بتس لهم ثلاث سنوات عشان يحولون الناس ...\n",
            "9    neg  قبضوا امنجي في في نقطة تفتيش معاه مسدس و قيل م...\n"
          ]
        }
      ]
    },
    {
      "cell_type": "code",
      "source": [
        "df2 = pd.read_csv('/content/gdrive/MyDrive/Arete/Arabic_sentiment_analysis/Arabic_tweets_positive.csv')\n",
        "df2.rename(columns=({str(df2.columns[0]):'labels',str(df2.columns[1]):'text'}),inplace=True)\n",
        "df2.drop_duplicates(inplace=True)\n",
        "print(df2.shape)\n",
        "print(df2.head(10))"
      ],
      "metadata": {
        "colab": {
          "base_uri": "https://localhost:8080/"
        },
        "id": "z-jGsU2MYRZ6",
        "outputId": "cf8b7d04-3488-4c8f-a756-0bf79e40cf60"
      },
      "execution_count": null,
      "outputs": [
        {
          "output_type": "stream",
          "name": "stdout",
          "text": [
            "(17438, 2)\n",
            "  labels                                               text\n",
            "0    pos  طيار عراقي يسال برج المراقبة في سلطنة عمان عن ...\n",
            "1    pos                       علمهم تكفى حسبي الله عليهم 🙂\n",
            "2    pos  🍀 وعن ذكر الله لا تغفلون لا إله إلا الله لا إل...\n",
            "3    pos  كثير من جمهور #الاهلي يقول لي عطنا تشكيلة #اله...\n",
            "4    pos  🦋 . . . . \"فيني #قليل من الفرح وأغلب تفاصيلي ز...\n",
            "5    pos  #الاهلي_الهلال الحمدلله 💙 آه يا عمري يا الزعيم...\n",
            "6    pos  أغنية تايلور سويفت #القوس مع غاري لايتبودي #ال...\n",
            "7    pos  🌅 تذكير مهم 🌅 . قال رسول الله ﷺ: لا يحافظ على ...\n",
            "8    pos        جنابو زاتو محتار \" اتنين في يومين يجماعه\" 😂\n",
            "9    pos  اليوم ليلة جلد مدلل جدة وغدا جلد العالمي المزي...\n"
          ]
        }
      ]
    },
    {
      "cell_type": "code",
      "source": [
        "df3 = pd.read_csv('/content/gdrive/MyDrive/Arete/Arabic_sentiment_analysis/Arabic_tweets_negative_2019.csv')\n",
        "df3.drop_duplicates(inplace=True)\n",
        "print(df3.shape)\n",
        "df3.rename(columns=({str(df3.columns[0]):'labels',str(df3.columns[1]):'text'}),inplace=True)\n",
        "print(df3.head(10))"
      ],
      "metadata": {
        "colab": {
          "base_uri": "https://localhost:8080/"
        },
        "id": "QG4gEzk3vo1L",
        "outputId": "0758d11f-01c6-479b-9c21-d1580196bd1a"
      },
      "execution_count": null,
      "outputs": [
        {
          "output_type": "stream",
          "name": "stdout",
          "text": [
            "(45885, 2)\n",
            "  labels                                               text\n",
            "0    neg  صدااع من الغباء لي ساعه افكر وش اقول بس غبائها...\n",
            "1    neg  قتيلا وجريحا… حصيلة تفرقة المتظاهرين في كربلاء...\n",
            "2    neg  اللهم من أصلح شأنهم وجمع كلمتهم ووحد صفهم ياقا...\n",
            "3    neg  كوميديا.. الذهبية تذهب بالخطأ لصاحبة المركز ال...\n",
            "4    neg  : #فن || بالصور.. السوبر ستار #نانسي_عجرم تتأل...\n",
            "5    neg         أقدر اقاوم كلشي الا عيونها وريحة عطرها : (\n",
            "6    neg  : ومن خبرتي فيك أقول لو كنت اشتغلت في #قطر أول...\n",
            "7    neg  : كلنا امل بعد الله بسيدي خادم الحرمين الشريفي...\n",
            "8    neg               : دخلت على أمي وهي تتابع التلفزيون 😩\n",
            "9    neg  #وزارة_الخارجية تدين قيام بعض المتظاهرين بالاع...\n"
          ]
        }
      ]
    },
    {
      "cell_type": "code",
      "source": [
        "df4 = pd.read_csv('/content/gdrive/MyDrive/Arete/Arabic_sentiment_analysis/Arabic_tweets_positive_2019.csv')\n",
        "df4.drop_duplicates(inplace=True)\n",
        "print(df4.shape)\n",
        "df4.rename(columns=({str(df4.columns[0]):'labels',str(df4.columns[1]):'text'}),inplace=True)\n",
        "print(df4.head(10))"
      ],
      "metadata": {
        "colab": {
          "base_uri": "https://localhost:8080/"
        },
        "id": "rIzCQ3x1yj-q",
        "outputId": "06342f35-91c2-4081-8b9c-d614280362f6"
      },
      "execution_count": null,
      "outputs": [
        {
          "output_type": "stream",
          "name": "stdout",
          "text": [
            "(44067, 2)\n",
            "  labels                                               text\n",
            "0    pos                                    موجود ماسافرت 😊\n",
            "1    pos  : مسابقة #43 #متابعي_شامخ فقط# 🔘السحب على200💰ر...\n",
            "2    pos                                       اللهم امين 🌺\n",
            "3    pos                        يعني اذا ما احبج احب منو؟ 💘\n",
            "4    pos                  : اصبحنا على الله متوكلين 💜 #ببجي\n",
            "5    pos                             خالد مسعد بعد البخار 😀\n",
            "6    pos  : ما رأيت أعدل من الله تدور الأيام .. وتدور دو...\n",
            "7    pos                مسابقة جديدة 💞 ان شاء الله موفقين 💞\n",
            "8    pos  : 🌸 الصبآح حنون ک أصآبع الأمھآت يجيد ربط جدآئل...\n",
            "9    pos                                     : صباح النور 🌹\n"
          ]
        }
      ]
    },
    {
      "cell_type": "code",
      "source": [
        "df5 = pd.read_csv('/content/gdrive/MyDrive/Arete/Arabic_sentiment_analysis/neg_20181206.csv')\n",
        "df5.drop_duplicates(inplace=True)\n",
        "print(df5.shape)\n",
        "df5.rename(columns=({str(df5.columns[0]):'labels',str(df5.columns[1]):'text'}),inplace=True)\n",
        "print(df5.head(10))"
      ],
      "metadata": {
        "colab": {
          "base_uri": "https://localhost:8080/"
        },
        "id": "SbKF-BSzy5nV",
        "outputId": "aa51d46f-a559-493f-cca2-5343bba3445e"
      },
      "execution_count": null,
      "outputs": [
        {
          "output_type": "stream",
          "name": "stdout",
          "text": [
            "(16133, 2)\n",
            "   labels                                               text\n",
            "0     neg  🕊 📨 ⇣ \" بــ ؏ ــض ُ آلـبـش َ ــر أخــلآقـه ُ ـ...\n",
            "1     neg  أحيانا ً تظن أنك تشع ُ ر بحاجة شديدة للإختفاء ...\n",
            "2     neg  ☤ العتب مثل التعب نفس الحروف وكلما زاد العتب ....\n",
            "3     neg           • . . . . إن لم ت ُ حسن فلا تؤذي . { 🔕 }\n",
            "4     neg  ( و َ اج ْ ع َ ل ل ِ ّ ي ل ِ س َ ان َ ص ِ د ْ ...\n",
            "5     neg  📵 🎵 🔕 \" . . بحـة جفـا صـوتك ولـو كنـت زعـلان ت...\n",
            "6     neg  📵 🎵 🔕 \" . . كنت احبك وكنت توحشني واجيك ما كرهت...\n",
            "7     neg  🔕 محد يبقـى لـك مثــل ﻣــا كان واغلب ھ البشر خ...\n",
            "8     neg  لا قيمة لأراء الناس مادامت أفعالك تمنحك ضميرا ...\n",
            "10    neg  ⠀ ⠀ ⠀ بعـض آلغيـاب يمـر فـي آلقلـب عـادي يطـري...\n"
          ]
        }
      ]
    },
    {
      "cell_type": "code",
      "source": [
        "df6 = pd.read_csv('/content/gdrive/MyDrive/Arete/Arabic_sentiment_analysis/pos_20181206.csv')\n",
        "df6.drop_duplicates(inplace=True)\n",
        "print(df6.shape)\n",
        "df6.rename(columns=({str(df6.columns[0]):'labels',str(df6.columns[1]):'text'}),inplace=True)\n",
        "print(df6.head(10))"
      ],
      "metadata": {
        "colab": {
          "base_uri": "https://localhost:8080/"
        },
        "id": "Dj8SsdZhzPTj",
        "outputId": "72c833f4-ae3a-4926-c37a-8dae0de10be7"
      },
      "execution_count": null,
      "outputs": [
        {
          "output_type": "stream",
          "name": "stdout",
          "text": [
            "(11985, 2)\n",
            "  labels                                               text\n",
            "0    pos                                      باليمين 😌 😌 💕\n",
            "1    pos                                  كفووك الطيب 😍 💕 💕\n",
            "2    pos  إذا صادفتك أزمة فليكن قلبك مطمئن بأن الله سيفر...\n",
            "3    pos  كلي ندم اني ما حضرت الملتقى . . 💔 اعتقد انو ال...\n",
            "4    pos  س ُ ئل أح َ د الص َ ّ الحين أي شيء ي َ فعل الل...\n",
            "5    pos                                      مساء الخيير 💕\n",
            "6    pos  في زحام من الن ِ عم . . اللهم لك الحمد ولك الش...\n",
            "7    pos                             احلى مسااء ي شييخه 🤤 💕\n",
            "8    pos                          اخر العنقود سكر معقود 💕 ☺\n",
            "9    pos  ك ُ ن ممتنا ً لكل صبآح وأنت بكامل صحتك وعافيتك...\n"
          ]
        }
      ]
    },
    {
      "cell_type": "code",
      "source": [
        "df7 = pd.read_csv('/content/gdrive/MyDrive/Arete/Arabic_sentiment_analysis/arabic_texts.csv')\n",
        "df7.drop_duplicates(inplace=True)\n",
        "print(df7.shape)\n",
        "df7.head()"
      ],
      "metadata": {
        "id": "zIB-fRom-QSz",
        "colab": {
          "base_uri": "https://localhost:8080/",
          "height": 224
        },
        "outputId": "442326d6-920e-41ac-845f-775e09ab9e7a"
      },
      "execution_count": null,
      "outputs": [
        {
          "output_type": "stream",
          "name": "stdout",
          "text": [
            "(36849, 2)\n"
          ]
        },
        {
          "output_type": "execute_result",
          "data": {
            "text/plain": [
              "  labels                                               text\n",
              "0    pos  نحن الذين يتحول كل ما نود أن نقوله إلى دعاء لل...\n",
              "1    pos  وفي النهاية لن يبقىٰ معك آحدإلا من رأىٰ الجمال...\n",
              "2    pos                      نمش ننوم ما دا ديل ولادنا 💚\\n\n",
              "3    pos                               تعدل النت وشفتها ✌\\n\n",
              "4    pos  🎥 المهمة الأولى في \"جدة\" ✔💪🏼 💙 #الهلال #فيديو_..."
            ],
            "text/html": [
              "\n",
              "  <div id=\"df-b28c2cea-f900-45ec-9f05-7147a6a66bb9\">\n",
              "    <div class=\"colab-df-container\">\n",
              "      <div>\n",
              "<style scoped>\n",
              "    .dataframe tbody tr th:only-of-type {\n",
              "        vertical-align: middle;\n",
              "    }\n",
              "\n",
              "    .dataframe tbody tr th {\n",
              "        vertical-align: top;\n",
              "    }\n",
              "\n",
              "    .dataframe thead th {\n",
              "        text-align: right;\n",
              "    }\n",
              "</style>\n",
              "<table border=\"1\" class=\"dataframe\">\n",
              "  <thead>\n",
              "    <tr style=\"text-align: right;\">\n",
              "      <th></th>\n",
              "      <th>labels</th>\n",
              "      <th>text</th>\n",
              "    </tr>\n",
              "  </thead>\n",
              "  <tbody>\n",
              "    <tr>\n",
              "      <th>0</th>\n",
              "      <td>pos</td>\n",
              "      <td>نحن الذين يتحول كل ما نود أن نقوله إلى دعاء لل...</td>\n",
              "    </tr>\n",
              "    <tr>\n",
              "      <th>1</th>\n",
              "      <td>pos</td>\n",
              "      <td>وفي النهاية لن يبقىٰ معك آحدإلا من رأىٰ الجمال...</td>\n",
              "    </tr>\n",
              "    <tr>\n",
              "      <th>2</th>\n",
              "      <td>pos</td>\n",
              "      <td>نمش ننوم ما دا ديل ولادنا 💚\\n</td>\n",
              "    </tr>\n",
              "    <tr>\n",
              "      <th>3</th>\n",
              "      <td>pos</td>\n",
              "      <td>تعدل النت وشفتها ✌\\n</td>\n",
              "    </tr>\n",
              "    <tr>\n",
              "      <th>4</th>\n",
              "      <td>pos</td>\n",
              "      <td>🎥 المهمة الأولى في \"جدة\" ✔💪🏼 💙 #الهلال #فيديو_...</td>\n",
              "    </tr>\n",
              "  </tbody>\n",
              "</table>\n",
              "</div>\n",
              "      <button class=\"colab-df-convert\" onclick=\"convertToInteractive('df-b28c2cea-f900-45ec-9f05-7147a6a66bb9')\"\n",
              "              title=\"Convert this dataframe to an interactive table.\"\n",
              "              style=\"display:none;\">\n",
              "        \n",
              "  <svg xmlns=\"http://www.w3.org/2000/svg\" height=\"24px\"viewBox=\"0 0 24 24\"\n",
              "       width=\"24px\">\n",
              "    <path d=\"M0 0h24v24H0V0z\" fill=\"none\"/>\n",
              "    <path d=\"M18.56 5.44l.94 2.06.94-2.06 2.06-.94-2.06-.94-.94-2.06-.94 2.06-2.06.94zm-11 1L8.5 8.5l.94-2.06 2.06-.94-2.06-.94L8.5 2.5l-.94 2.06-2.06.94zm10 10l.94 2.06.94-2.06 2.06-.94-2.06-.94-.94-2.06-.94 2.06-2.06.94z\"/><path d=\"M17.41 7.96l-1.37-1.37c-.4-.4-.92-.59-1.43-.59-.52 0-1.04.2-1.43.59L10.3 9.45l-7.72 7.72c-.78.78-.78 2.05 0 2.83L4 21.41c.39.39.9.59 1.41.59.51 0 1.02-.2 1.41-.59l7.78-7.78 2.81-2.81c.8-.78.8-2.07 0-2.86zM5.41 20L4 18.59l7.72-7.72 1.47 1.35L5.41 20z\"/>\n",
              "  </svg>\n",
              "      </button>\n",
              "      \n",
              "  <style>\n",
              "    .colab-df-container {\n",
              "      display:flex;\n",
              "      flex-wrap:wrap;\n",
              "      gap: 12px;\n",
              "    }\n",
              "\n",
              "    .colab-df-convert {\n",
              "      background-color: #E8F0FE;\n",
              "      border: none;\n",
              "      border-radius: 50%;\n",
              "      cursor: pointer;\n",
              "      display: none;\n",
              "      fill: #1967D2;\n",
              "      height: 32px;\n",
              "      padding: 0 0 0 0;\n",
              "      width: 32px;\n",
              "    }\n",
              "\n",
              "    .colab-df-convert:hover {\n",
              "      background-color: #E2EBFA;\n",
              "      box-shadow: 0px 1px 2px rgba(60, 64, 67, 0.3), 0px 1px 3px 1px rgba(60, 64, 67, 0.15);\n",
              "      fill: #174EA6;\n",
              "    }\n",
              "\n",
              "    [theme=dark] .colab-df-convert {\n",
              "      background-color: #3B4455;\n",
              "      fill: #D2E3FC;\n",
              "    }\n",
              "\n",
              "    [theme=dark] .colab-df-convert:hover {\n",
              "      background-color: #434B5C;\n",
              "      box-shadow: 0px 1px 3px 1px rgba(0, 0, 0, 0.15);\n",
              "      filter: drop-shadow(0px 1px 2px rgba(0, 0, 0, 0.3));\n",
              "      fill: #FFFFFF;\n",
              "    }\n",
              "  </style>\n",
              "\n",
              "      <script>\n",
              "        const buttonEl =\n",
              "          document.querySelector('#df-b28c2cea-f900-45ec-9f05-7147a6a66bb9 button.colab-df-convert');\n",
              "        buttonEl.style.display =\n",
              "          google.colab.kernel.accessAllowed ? 'block' : 'none';\n",
              "\n",
              "        async function convertToInteractive(key) {\n",
              "          const element = document.querySelector('#df-b28c2cea-f900-45ec-9f05-7147a6a66bb9');\n",
              "          const dataTable =\n",
              "            await google.colab.kernel.invokeFunction('convertToInteractive',\n",
              "                                                     [key], {});\n",
              "          if (!dataTable) return;\n",
              "\n",
              "          const docLinkHtml = 'Like what you see? Visit the ' +\n",
              "            '<a target=\"_blank\" href=https://colab.research.google.com/notebooks/data_table.ipynb>data table notebook</a>'\n",
              "            + ' to learn more about interactive tables.';\n",
              "          element.innerHTML = '';\n",
              "          dataTable['output_type'] = 'display_data';\n",
              "          await google.colab.output.renderOutput(dataTable, element);\n",
              "          const docLink = document.createElement('div');\n",
              "          docLink.innerHTML = docLinkHtml;\n",
              "          element.appendChild(docLink);\n",
              "        }\n",
              "      </script>\n",
              "    </div>\n",
              "  </div>\n",
              "  "
            ]
          },
          "metadata": {},
          "execution_count": 11
        }
      ]
    },
    {
      "cell_type": "code",
      "source": [
        "!kaggle datasets download -d abedkhooli/arabic-100k-reviews\n",
        "! unzip arabic-100k-reviews"
      ],
      "metadata": {
        "id": "Kkcaer_o-QYm",
        "colab": {
          "base_uri": "https://localhost:8080/"
        },
        "outputId": "86e49c4d-21dc-4282-b987-00833674ff1d"
      },
      "execution_count": null,
      "outputs": [
        {
          "output_type": "stream",
          "name": "stdout",
          "text": [
            "arabic-100k-reviews.zip: Skipping, found more recently modified local copy (use --force to force download)\n",
            "Archive:  arabic-100k-reviews.zip\n",
            "replace ar_reviews_100k.tsv? [y]es, [n]o, [A]ll, [N]one, [r]ename: n\n"
          ]
        }
      ]
    },
    {
      "cell_type": "code",
      "source": [
        "df8=pd.read_csv('/content/ar_reviews_100k.tsv',delimiter='\\t')\n",
        "df8 = df8[df8['label'] != 'Mixed']\n",
        "df8.rename(columns=({'label':'labels'}),inplace=True)\n",
        "df8['labels'] = df8['labels'].map({'Positive':'pos','Negative':'neg'})\n",
        "df8.head()"
      ],
      "metadata": {
        "colab": {
          "base_uri": "https://localhost:8080/",
          "height": 206
        },
        "id": "QMiviKCfvLO7",
        "outputId": "8d422bc3-4e86-4151-d0b2-e7d78453cbd8"
      },
      "execution_count": null,
      "outputs": [
        {
          "output_type": "execute_result",
          "data": {
            "text/plain": [
              "  labels                                               text\n",
              "0    pos  ممتاز نوعا ما . النظافة والموقع والتجهيز والشا...\n",
              "1    pos  أحد أسباب نجاح الإمارات أن كل شخص في هذه الدول...\n",
              "2    pos  هادفة .. وقوية. تنقلك من صخب شوارع القاهرة الى...\n",
              "3    pos  خلصنا .. مبدئيا اللي مستني ابهار زي الفيل الاز...\n",
              "4    pos  ياسات جلوريا جزء لا يتجزأ من دبي . فندق متكامل..."
            ],
            "text/html": [
              "\n",
              "  <div id=\"df-da0493ee-8ec3-4301-91bb-87903a2f9c75\">\n",
              "    <div class=\"colab-df-container\">\n",
              "      <div>\n",
              "<style scoped>\n",
              "    .dataframe tbody tr th:only-of-type {\n",
              "        vertical-align: middle;\n",
              "    }\n",
              "\n",
              "    .dataframe tbody tr th {\n",
              "        vertical-align: top;\n",
              "    }\n",
              "\n",
              "    .dataframe thead th {\n",
              "        text-align: right;\n",
              "    }\n",
              "</style>\n",
              "<table border=\"1\" class=\"dataframe\">\n",
              "  <thead>\n",
              "    <tr style=\"text-align: right;\">\n",
              "      <th></th>\n",
              "      <th>labels</th>\n",
              "      <th>text</th>\n",
              "    </tr>\n",
              "  </thead>\n",
              "  <tbody>\n",
              "    <tr>\n",
              "      <th>0</th>\n",
              "      <td>pos</td>\n",
              "      <td>ممتاز نوعا ما . النظافة والموقع والتجهيز والشا...</td>\n",
              "    </tr>\n",
              "    <tr>\n",
              "      <th>1</th>\n",
              "      <td>pos</td>\n",
              "      <td>أحد أسباب نجاح الإمارات أن كل شخص في هذه الدول...</td>\n",
              "    </tr>\n",
              "    <tr>\n",
              "      <th>2</th>\n",
              "      <td>pos</td>\n",
              "      <td>هادفة .. وقوية. تنقلك من صخب شوارع القاهرة الى...</td>\n",
              "    </tr>\n",
              "    <tr>\n",
              "      <th>3</th>\n",
              "      <td>pos</td>\n",
              "      <td>خلصنا .. مبدئيا اللي مستني ابهار زي الفيل الاز...</td>\n",
              "    </tr>\n",
              "    <tr>\n",
              "      <th>4</th>\n",
              "      <td>pos</td>\n",
              "      <td>ياسات جلوريا جزء لا يتجزأ من دبي . فندق متكامل...</td>\n",
              "    </tr>\n",
              "  </tbody>\n",
              "</table>\n",
              "</div>\n",
              "      <button class=\"colab-df-convert\" onclick=\"convertToInteractive('df-da0493ee-8ec3-4301-91bb-87903a2f9c75')\"\n",
              "              title=\"Convert this dataframe to an interactive table.\"\n",
              "              style=\"display:none;\">\n",
              "        \n",
              "  <svg xmlns=\"http://www.w3.org/2000/svg\" height=\"24px\"viewBox=\"0 0 24 24\"\n",
              "       width=\"24px\">\n",
              "    <path d=\"M0 0h24v24H0V0z\" fill=\"none\"/>\n",
              "    <path d=\"M18.56 5.44l.94 2.06.94-2.06 2.06-.94-2.06-.94-.94-2.06-.94 2.06-2.06.94zm-11 1L8.5 8.5l.94-2.06 2.06-.94-2.06-.94L8.5 2.5l-.94 2.06-2.06.94zm10 10l.94 2.06.94-2.06 2.06-.94-2.06-.94-.94-2.06-.94 2.06-2.06.94z\"/><path d=\"M17.41 7.96l-1.37-1.37c-.4-.4-.92-.59-1.43-.59-.52 0-1.04.2-1.43.59L10.3 9.45l-7.72 7.72c-.78.78-.78 2.05 0 2.83L4 21.41c.39.39.9.59 1.41.59.51 0 1.02-.2 1.41-.59l7.78-7.78 2.81-2.81c.8-.78.8-2.07 0-2.86zM5.41 20L4 18.59l7.72-7.72 1.47 1.35L5.41 20z\"/>\n",
              "  </svg>\n",
              "      </button>\n",
              "      \n",
              "  <style>\n",
              "    .colab-df-container {\n",
              "      display:flex;\n",
              "      flex-wrap:wrap;\n",
              "      gap: 12px;\n",
              "    }\n",
              "\n",
              "    .colab-df-convert {\n",
              "      background-color: #E8F0FE;\n",
              "      border: none;\n",
              "      border-radius: 50%;\n",
              "      cursor: pointer;\n",
              "      display: none;\n",
              "      fill: #1967D2;\n",
              "      height: 32px;\n",
              "      padding: 0 0 0 0;\n",
              "      width: 32px;\n",
              "    }\n",
              "\n",
              "    .colab-df-convert:hover {\n",
              "      background-color: #E2EBFA;\n",
              "      box-shadow: 0px 1px 2px rgba(60, 64, 67, 0.3), 0px 1px 3px 1px rgba(60, 64, 67, 0.15);\n",
              "      fill: #174EA6;\n",
              "    }\n",
              "\n",
              "    [theme=dark] .colab-df-convert {\n",
              "      background-color: #3B4455;\n",
              "      fill: #D2E3FC;\n",
              "    }\n",
              "\n",
              "    [theme=dark] .colab-df-convert:hover {\n",
              "      background-color: #434B5C;\n",
              "      box-shadow: 0px 1px 3px 1px rgba(0, 0, 0, 0.15);\n",
              "      filter: drop-shadow(0px 1px 2px rgba(0, 0, 0, 0.3));\n",
              "      fill: #FFFFFF;\n",
              "    }\n",
              "  </style>\n",
              "\n",
              "      <script>\n",
              "        const buttonEl =\n",
              "          document.querySelector('#df-da0493ee-8ec3-4301-91bb-87903a2f9c75 button.colab-df-convert');\n",
              "        buttonEl.style.display =\n",
              "          google.colab.kernel.accessAllowed ? 'block' : 'none';\n",
              "\n",
              "        async function convertToInteractive(key) {\n",
              "          const element = document.querySelector('#df-da0493ee-8ec3-4301-91bb-87903a2f9c75');\n",
              "          const dataTable =\n",
              "            await google.colab.kernel.invokeFunction('convertToInteractive',\n",
              "                                                     [key], {});\n",
              "          if (!dataTable) return;\n",
              "\n",
              "          const docLinkHtml = 'Like what you see? Visit the ' +\n",
              "            '<a target=\"_blank\" href=https://colab.research.google.com/notebooks/data_table.ipynb>data table notebook</a>'\n",
              "            + ' to learn more about interactive tables.';\n",
              "          element.innerHTML = '';\n",
              "          dataTable['output_type'] = 'display_data';\n",
              "          await google.colab.output.renderOutput(dataTable, element);\n",
              "          const docLink = document.createElement('div');\n",
              "          docLink.innerHTML = docLinkHtml;\n",
              "          element.appendChild(docLink);\n",
              "        }\n",
              "      </script>\n",
              "    </div>\n",
              "  </div>\n",
              "  "
            ]
          },
          "metadata": {},
          "execution_count": 13
        }
      ]
    },
    {
      "cell_type": "code",
      "source": [
        "plt.hist(df8['labels'])\n",
        "data = df8"
      ],
      "metadata": {
        "colab": {
          "base_uri": "https://localhost:8080/",
          "height": 430
        },
        "id": "8eSbELBCwugB",
        "outputId": "eefd358d-0ff4-4acf-95ab-e78d24d2bccb"
      },
      "execution_count": null,
      "outputs": [
        {
          "output_type": "display_data",
          "data": {
            "text/plain": [
              "<Figure size 640x480 with 1 Axes>"
            ],
            "image/png": "[encoded data removed]"
          },
          "metadata": {}
        }
      ]
    },
    {
      "cell_type": "code",
      "source": [],
      "metadata": {
        "id": "hMsB-ezlGjxl"
      },
      "execution_count": null,
      "outputs": []
    },
    {
      "cell_type": "code",
      "source": [],
      "metadata": {
        "id": "M_nEUZeQGsD3"
      },
      "execution_count": null,
      "outputs": []
    },
    {
      "cell_type": "code",
      "source": [
        "data = pd.concat([df1,df2,df3,df4,df5,df6,df7,df8]) #  \n",
        "print(data.shape)\n",
        "data.iloc[97,1]"
      ],
      "metadata": {
        "colab": {
          "base_uri": "https://localhost:8080/",
          "height": 53
        },
        "id": "MNp1rFot4QUY",
        "outputId": "bb5016e9-5121-48b5-f06c-e275724cdbeb"
      },
      "execution_count": null,
      "outputs": [
        {
          "output_type": "stream",
          "name": "stdout",
          "text": [
            "(257443, 2)\n"
          ]
        },
        {
          "output_type": "execute_result",
          "data": {
            "text/plain": [
              "'انا نفسي اهوي دماغي كده زيها وربنا تحس كده ان اختي عايشه ف كوكب الروقان 😏'"
            ],
            "application/vnd.google.colaboratory.intrinsic+json": {
              "type": "string"
            }
          },
          "metadata": {},
          "execution_count": 15
        }
      ]
    },
    {
      "cell_type": "code",
      "source": [],
      "metadata": {
        "id": "M22jVZ_Bw_4K"
      },
      "execution_count": null,
      "outputs": []
    },
    {
      "cell_type": "code",
      "source": [
        "data.iloc[42856]['text']"
      ],
      "metadata": {
        "colab": {
          "base_uri": "https://localhost:8080/",
          "height": 87
        },
        "id": "azMuXMVhrNbl",
        "outputId": "206fb9ad-0972-425a-a56a-3a5fd0afec3a"
      },
      "execution_count": null,
      "outputs": [
        {
          "output_type": "execute_result",
          "data": {
            "text/plain": [
              "'كنت على استعداد لأواجه كل العالم بك أنت وحدك، كل العالم بسوئه ووحشيته، كنت أعيش الإيمان بك، أعتنق صوتك وضحكتك وملا…\\nneg\\tعظم الله اجركم 💔\\nneg\\t: - مآلك ! ،، = مش عآرف .. مش عآرف مآلي مش حآسس بحآجة بتفرحني ولآ حاجة بتزعلني .. بقيت ولا قآدر اضحگ ولآ قادر اعيط .. كل حآجة ب…\\nneg\\tاحب ام بسيم مره مره ♥️😭😭\\nneg\\t: 🎙عمر السومة :( إدارة #النصر تفاوضت معي وأعطيتهم الموافقة ثم اعتذرت ، بعد ذلك أتى حمدالله بعدي وحقق الهداف ).\\nneg\\tوتقول كلامنا اهل جدة قريب للهجة الشامية ❗️❗️ 😒 هذا غير انه جدة كلها حضارم ❗️🌚\\nneg\\t: . ┈┉┅━❀❀━┅┉┈ . وانتهت مسيرتي بتويتر ،، كسبت منها قلوب نقية بيضاء لن أنساها ما حييت أحببتكم وسأظل أحبكم .. فاذكروني بخير واغف…\\nneg\\tجمال الحرامي ابن الكلب ورجال الحاشية الفاسدة مش الأعمال استولا علي البلد حسبي الله في كل ظالم أمر استراتيجي ومزايا…'"
            ],
            "application/vnd.google.colaboratory.intrinsic+json": {
              "type": "string"
            }
          },
          "metadata": {},
          "execution_count": 15
        }
      ]
    },
    {
      "cell_type": "code",
      "source": [
        "data.iloc[118848]['text']"
      ],
      "metadata": {
        "colab": {
          "base_uri": "https://localhost:8080/",
          "height": 122
        },
        "id": "G6BKDJqP8mq-",
        "outputId": "fa4483df-009e-4228-e442-c40a5f8d26ff"
      },
      "execution_count": null,
      "outputs": [
        {
          "output_type": "execute_result",
          "data": {
            "text/plain": [
              "'صباح الخير ، للساعين نحو الحياة بكل ما أوتوا من أمل يومكم موفق 🌺\\npos\\t: ترقص !؟ - ارقص غصب عني ارقص 💜\\npos\\tصباح الخير ❤️🌹. 🌚 خففوا من النفاق الاجتماعي.\\npos\\t: وانا رايح المدرسة زمان وقت الثانوية العامة كنت بقف نفس الوقفة مستني انط في الاتوبيس وهو بيجري لكن كنت مبسوط وبضحك من ك…\\npos\\t: امين وياكم اجمعين 🌺\\npos\\t: اصبحنا و اصبح الملك لله و الحمد لله على نعمة يوم جديد 🍃\\npos\\t: #ذعار_العتيبي أجمل مارأيت ايش رأيكم براه 😍\\npos\\t: و قلبہ\\u200c\\u200dي في حبہ\\u200c\\u200dها ضاع و اكتفہ\\u200c\\u200dى ♡ #بہ\\u200c\\u200dوح_الياسمۧيڹ #أمۧجہ\\u200c\\u200dد_البابوريﹻٰۧے\\npos\\t: ❥ لا تحدثني .. عن حبگ دعني أراه !!\\npos\\t: اللهم اجعل هذا الصباح حاملا لنا من الخير فوق مانرجو، واجعله صباح خير لأمورنا كلها صباح الخير ❤️\\npos\\t#مبادل_القصيم #سالب_القصيم #موجب_القصيم. الف وخمسس للفخم اقل من ☺️\\npos\\tبعد شوي هي 🤡\\npos\\t: انا مغرم فيك ولا اسمع فيك ابدقول قايل ❤️\\npos\\tامين يارب ❤️\\npos\\t: لاضاق صدرك من عسيرات الايام لاتلتجي للخلق وتنسى من خلقها سبحانه وتعالى ❤️\\npos\\t: #صباح_الكنوز 💐 قال أنس:كانﷺيكثر أن يقول:يامقلب القلوب ثبت قلبي على دينك\" فقلت:يارسول الله آمنا بك وبما جئت به،فهل ت…'"
            ],
            "application/vnd.google.colaboratory.intrinsic+json": {
              "type": "string"
            }
          },
          "metadata": {},
          "execution_count": 16
        }
      ]
    },
    {
      "cell_type": "code",
      "source": [
        "print(data.duplicated().sum())\n",
        "data.drop_duplicates(inplace=True)\n",
        "data.dropna(inplace=True)\n",
        "print(data.shape)"
      ],
      "metadata": {
        "colab": {
          "base_uri": "https://localhost:8080/"
        },
        "id": "1SNDZO5kJ-mc",
        "outputId": "c73e7c9f-75fb-49a0-fa18-03fada933672"
      },
      "execution_count": null,
      "outputs": [
        {
          "output_type": "stream",
          "name": "stdout",
          "text": [
            "336\n",
            "(257106, 2)\n"
          ]
        }
      ]
    },
    {
      "cell_type": "code",
      "source": [
        "pos_txt = []\n",
        "neg_txt = []\n",
        "invalid_text = []\n",
        "c = 0\n",
        "for txt in data['text']:\n",
        "  if  '\\npos\\t' in txt:\n",
        "    c+=1\n",
        "    invalid_text.append(txt)\n",
        "    pos_txt.extend(txt.split(sep='pos'))\n",
        "  elif '\\nneg\\t' in txt:\n",
        "    c+=1\n",
        "    invalid_text.append(txt)\n",
        "    neg_txt.extend(txt.split(sep='neg'))\n",
        "\n",
        "data = data[~data['text'].isin(invalid_text)]\n",
        "data = data[~data['text'].isin(invalid_text)]\n",
        "\n",
        "print(len(pos_txt),len(neg_txt),c)\n",
        "pos_txt[:5],neg_txt[:5]"
      ],
      "metadata": {
        "colab": {
          "base_uri": "https://localhost:8080/"
        },
        "id": "mD6z1fA-AtBT",
        "outputId": "98c65cca-e212-4f1c-d5b2-832565020cbd"
      },
      "execution_count": null,
      "outputs": [
        {
          "output_type": "stream",
          "name": "stdout",
          "text": [
            "3053 2038 197\n"
          ]
        },
        {
          "output_type": "execute_result",
          "data": {
            "text/plain": [
              "([' حي الصباح إللي تنفس بالأذكار يشرح صدور .. إللي يعانون ضيقه سبح ، وهلل ، واسلك .. دروب الأبرار…\\n',\n",
              "  '\\tيارب الراحه ل قلبي 💛\\n',\n",
              "  '\\tابي قربك . . وابيك بدنيتي تبقى 💙\\n',\n",
              "  '\\tالنفسيه ضاربه بعد عني 🌚\\n',\n",
              "  '\\tبيقطعوك حتت ويقلوك فى الزيت 😂 😂 😂 😂 😂 😂 😂\\n'],\n",
              " [' خلف الصمت ، أرواح كرهت الحديث 💔 【🎱】 ➤\\n',\n",
              "  '\\tقعدني من النوم 😒\\n',\n",
              "  '\\tإدارة الوصل بعد ما ساءت العلاقة مع الجماهير وعزوفها عن الحضور قامت بجلب فطوم وريمو وشيخو، على قولتهم (جميلات الشاشة…\\n',\n",
              "  '\\tمع بدء العد التنازلي ل #رمضان، يجب أن نتفطن للألعوبة الخبيثة التي تقوم بها أخطر فئات المجتمع: الخادمات! 😒 مقالي.…\\n',\n",
              "  '\\t#رايك_في_الحب الحب فوق ما نتصور .. 💔\\n'])"
            ]
          },
          "metadata": {},
          "execution_count": 17
        }
      ]
    },
    {
      "cell_type": "code",
      "source": [
        "pos_df = pd.DataFrame({'labels':('pos '*len(pos_txt)).split(),'text':pos_txt})\n",
        "neg_df = pd.DataFrame({'labels':('neg '*len(neg_txt)).split(),'text':neg_txt})\n",
        "data = pd.concat([data, pos_df, neg_df])"
      ],
      "metadata": {
        "id": "rf64KWSLEahr"
      },
      "execution_count": null,
      "outputs": []
    },
    {
      "cell_type": "code",
      "source": [
        "data.head(100)"
      ],
      "metadata": {
        "colab": {
          "base_uri": "https://localhost:8080/",
          "height": 424
        },
        "id": "undDCZ4L5Ojq",
        "outputId": "37f7331c-c847-471d-cd07-34a220f41ec3"
      },
      "execution_count": null,
      "outputs": [
        {
          "output_type": "execute_result",
          "data": {
            "text/plain": [
              "    labels                                               text\n",
              "0      neg     راح فين كلامك الي كنتي بتقوليه 💔 رايكو في صوتي\n",
              "1      neg  كلام اهلها انهم دخلوها مستشفى الامل لمدة شهر ع...\n",
              "2      neg                              ليش عم تسبنا يامخرف 😡\n",
              "3      neg  #السعاده_دايما_هي اشتقت ل حديثك ، و كأني لم اح...\n",
              "4      neg   الله يستر 💔 والله مو قادرة أتخيل سيناريو الخسارة\n",
              "..     ...                                                ...\n",
              "99     neg  لو بعرفها كان رحتلها جراي وحكتلها احمد هارون ب...\n",
              "100    neg  إستعيدوا روح الفةنله الحمراء فأنتم أبطال القار...\n",
              "101    neg  انا نفسي اهوي دماغي كده زيها وربنا تحس كده ان ...\n",
              "102    neg  الله يرحم بابا يارب و الله اشتقت له 😔 #المقدم_...\n",
              "103    neg  عندي ميتنج بعد ساعه في المنصوره ومقومتش من الس...\n",
              "\n",
              "[100 rows x 2 columns]"
            ],
            "text/html": [
              "\n",
              "  <div id=\"df-983cd346-a120-4b9e-b840-3a8e0890d66e\">\n",
              "    <div class=\"colab-df-container\">\n",
              "      <div>\n",
              "<style scoped>\n",
              "    .dataframe tbody tr th:only-of-type {\n",
              "        vertical-align: middle;\n",
              "    }\n",
              "\n",
              "    .dataframe tbody tr th {\n",
              "        vertical-align: top;\n",
              "    }\n",
              "\n",
              "    .dataframe thead th {\n",
              "        text-align: right;\n",
              "    }\n",
              "</style>\n",
              "<table border=\"1\" class=\"dataframe\">\n",
              "  <thead>\n",
              "    <tr style=\"text-align: right;\">\n",
              "      <th></th>\n",
              "      <th>labels</th>\n",
              "      <th>text</th>\n",
              "    </tr>\n",
              "  </thead>\n",
              "  <tbody>\n",
              "    <tr>\n",
              "      <th>0</th>\n",
              "      <td>neg</td>\n",
              "      <td>راح فين كلامك الي كنتي بتقوليه 💔 رايكو في صوتي</td>\n",
              "    </tr>\n",
              "    <tr>\n",
              "      <th>1</th>\n",
              "      <td>neg</td>\n",
              "      <td>كلام اهلها انهم دخلوها مستشفى الامل لمدة شهر ع...</td>\n",
              "    </tr>\n",
              "    <tr>\n",
              "      <th>2</th>\n",
              "      <td>neg</td>\n",
              "      <td>ليش عم تسبنا يامخرف 😡</td>\n",
              "    </tr>\n",
              "    <tr>\n",
              "      <th>3</th>\n",
              "      <td>neg</td>\n",
              "      <td>#السعاده_دايما_هي اشتقت ل حديثك ، و كأني لم اح...</td>\n",
              "    </tr>\n",
              "    <tr>\n",
              "      <th>4</th>\n",
              "      <td>neg</td>\n",
              "      <td>الله يستر 💔 والله مو قادرة أتخيل سيناريو الخسارة</td>\n",
              "    </tr>\n",
              "    <tr>\n",
              "      <th>...</th>\n",
              "      <td>...</td>\n",
              "      <td>...</td>\n",
              "    </tr>\n",
              "    <tr>\n",
              "      <th>99</th>\n",
              "      <td>neg</td>\n",
              "      <td>لو بعرفها كان رحتلها جراي وحكتلها احمد هارون ب...</td>\n",
              "    </tr>\n",
              "    <tr>\n",
              "      <th>100</th>\n",
              "      <td>neg</td>\n",
              "      <td>إستعيدوا روح الفةنله الحمراء فأنتم أبطال القار...</td>\n",
              "    </tr>\n",
              "    <tr>\n",
              "      <th>101</th>\n",
              "      <td>neg</td>\n",
              "      <td>انا نفسي اهوي دماغي كده زيها وربنا تحس كده ان ...</td>\n",
              "    </tr>\n",
              "    <tr>\n",
              "      <th>102</th>\n",
              "      <td>neg</td>\n",
              "      <td>الله يرحم بابا يارب و الله اشتقت له 😔 #المقدم_...</td>\n",
              "    </tr>\n",
              "    <tr>\n",
              "      <th>103</th>\n",
              "      <td>neg</td>\n",
              "      <td>عندي ميتنج بعد ساعه في المنصوره ومقومتش من الس...</td>\n",
              "    </tr>\n",
              "  </tbody>\n",
              "</table>\n",
              "<p>100 rows × 2 columns</p>\n",
              "</div>\n",
              "      <button class=\"colab-df-convert\" onclick=\"convertToInteractive('df-983cd346-a120-4b9e-b840-3a8e0890d66e')\"\n",
              "              title=\"Convert this dataframe to an interactive table.\"\n",
              "              style=\"display:none;\">\n",
              "        \n",
              "  <svg xmlns=\"http://www.w3.org/2000/svg\" height=\"24px\"viewBox=\"0 0 24 24\"\n",
              "       width=\"24px\">\n",
              "    <path d=\"M0 0h24v24H0V0z\" fill=\"none\"/>\n",
              "    <path d=\"M18.56 5.44l.94 2.06.94-2.06 2.06-.94-2.06-.94-.94-2.06-.94 2.06-2.06.94zm-11 1L8.5 8.5l.94-2.06 2.06-.94-2.06-.94L8.5 2.5l-.94 2.06-2.06.94zm10 10l.94 2.06.94-2.06 2.06-.94-2.06-.94-.94-2.06-.94 2.06-2.06.94z\"/><path d=\"M17.41 7.96l-1.37-1.37c-.4-.4-.92-.59-1.43-.59-.52 0-1.04.2-1.43.59L10.3 9.45l-7.72 7.72c-.78.78-.78 2.05 0 2.83L4 21.41c.39.39.9.59 1.41.59.51 0 1.02-.2 1.41-.59l7.78-7.78 2.81-2.81c.8-.78.8-2.07 0-2.86zM5.41 20L4 18.59l7.72-7.72 1.47 1.35L5.41 20z\"/>\n",
              "  </svg>\n",
              "      </button>\n",
              "      \n",
              "  <style>\n",
              "    .colab-df-container {\n",
              "      display:flex;\n",
              "      flex-wrap:wrap;\n",
              "      gap: 12px;\n",
              "    }\n",
              "\n",
              "    .colab-df-convert {\n",
              "      background-color: #E8F0FE;\n",
              "      border: none;\n",
              "      border-radius: 50%;\n",
              "      cursor: pointer;\n",
              "      display: none;\n",
              "      fill: #1967D2;\n",
              "      height: 32px;\n",
              "      padding: 0 0 0 0;\n",
              "      width: 32px;\n",
              "    }\n",
              "\n",
              "    .colab-df-convert:hover {\n",
              "      background-color: #E2EBFA;\n",
              "      box-shadow: 0px 1px 2px rgba(60, 64, 67, 0.3), 0px 1px 3px 1px rgba(60, 64, 67, 0.15);\n",
              "      fill: #174EA6;\n",
              "    }\n",
              "\n",
              "    [theme=dark] .colab-df-convert {\n",
              "      background-color: #3B4455;\n",
              "      fill: #D2E3FC;\n",
              "    }\n",
              "\n",
              "    [theme=dark] .colab-df-convert:hover {\n",
              "      background-color: #434B5C;\n",
              "      box-shadow: 0px 1px 3px 1px rgba(0, 0, 0, 0.15);\n",
              "      filter: drop-shadow(0px 1px 2px rgba(0, 0, 0, 0.3));\n",
              "      fill: #FFFFFF;\n",
              "    }\n",
              "  </style>\n",
              "\n",
              "      <script>\n",
              "        const buttonEl =\n",
              "          document.querySelector('#df-983cd346-a120-4b9e-b840-3a8e0890d66e button.colab-df-convert');\n",
              "        buttonEl.style.display =\n",
              "          google.colab.kernel.accessAllowed ? 'block' : 'none';\n",
              "\n",
              "        async function convertToInteractive(key) {\n",
              "          const element = document.querySelector('#df-983cd346-a120-4b9e-b840-3a8e0890d66e');\n",
              "          const dataTable =\n",
              "            await google.colab.kernel.invokeFunction('convertToInteractive',\n",
              "                                                     [key], {});\n",
              "          if (!dataTable) return;\n",
              "\n",
              "          const docLinkHtml = 'Like what you see? Visit the ' +\n",
              "            '<a target=\"_blank\" href=https://colab.research.google.com/notebooks/data_table.ipynb>data table notebook</a>'\n",
              "            + ' to learn more about interactive tables.';\n",
              "          element.innerHTML = '';\n",
              "          dataTable['output_type'] = 'display_data';\n",
              "          await google.colab.output.renderOutput(dataTable, element);\n",
              "          const docLink = document.createElement('div');\n",
              "          docLink.innerHTML = docLinkHtml;\n",
              "          element.appendChild(docLink);\n",
              "        }\n",
              "      </script>\n",
              "    </div>\n",
              "  </div>\n",
              "  "
            ]
          },
          "metadata": {},
          "execution_count": 20
        }
      ]
    },
    {
      "cell_type": "code",
      "source": [
        "print(data.duplicated().sum())\n",
        "data.drop_duplicates(inplace=True)\n",
        "data.shape"
      ],
      "metadata": {
        "colab": {
          "base_uri": "https://localhost:8080/"
        },
        "id": "oizatK6V5tHX",
        "outputId": "6365ffe0-2e67-4e50-a8c9-3c57169f52f7"
      },
      "execution_count": null,
      "outputs": [
        {
          "output_type": "stream",
          "name": "stdout",
          "text": [
            "633\n"
          ]
        },
        {
          "output_type": "execute_result",
          "data": {
            "text/plain": [
              "(261367, 2)"
            ]
          },
          "metadata": {},
          "execution_count": 19
        }
      ]
    },
    {
      "cell_type": "code",
      "source": [
        "plt.hist(data.iloc[:,0])"
      ],
      "metadata": {
        "id": "95pL8kLI9D3Q",
        "colab": {
          "base_uri": "https://localhost:8080/",
          "height": 502
        },
        "outputId": "6cefeb1f-dee0-46ce-f074-ae8684271058"
      },
      "execution_count": null,
      "outputs": [
        {
          "output_type": "execute_result",
          "data": {
            "text/plain": [
              "(array([134116.,      0.,      0.,      0.,      0.,      0.,      0.,\n",
              "             0.,      0., 127251.]),\n",
              " array([0. , 0.1, 0.2, 0.3, 0.4, 0.5, 0.6, 0.7, 0.8, 0.9, 1. ]),\n",
              " <BarContainer object of 10 artists>)"
            ]
          },
          "metadata": {},
          "execution_count": 22
        },
        {
          "output_type": "display_data",
          "data": {
            "text/plain": [
              "<Figure size 640x480 with 1 Axes>"
            ],
            "image/png": "[encoded data removed]"
          },
          "metadata": {}
        }
      ]
    },
    {
      "cell_type": "code",
      "source": [],
      "metadata": {
        "id": "wcol6-GT5tVc"
      },
      "execution_count": null,
      "outputs": []
    },
    {
      "cell_type": "code",
      "source": [],
      "metadata": {
        "id": "I305EekC6qiu"
      },
      "execution_count": null,
      "outputs": []
    },
    {
      "cell_type": "markdown",
      "source": [
        "## data preprocessing"
      ],
      "metadata": {
        "id": "bvhUwPnSVqnc"
      }
    },
    {
      "cell_type": "code",
      "source": [
        "data"
      ],
      "metadata": {
        "id": "bs_YfQnV6tBz",
        "colab": {
          "base_uri": "https://localhost:8080/",
          "height": 424
        },
        "outputId": "6df73866-deed-4935-a449-d7469f4500d1"
      },
      "execution_count": null,
      "outputs": [
        {
          "output_type": "execute_result",
          "data": {
            "text/plain": [
              "     labels                                               text\n",
              "0       neg     راح فين كلامك الي كنتي بتقوليه 💔 رايكو في صوتي\n",
              "1       neg  كلام اهلها انهم دخلوها مستشفى الامل لمدة شهر ع...\n",
              "2       neg                              ليش عم تسبنا يامخرف 😡\n",
              "3       neg  #السعاده_دايما_هي اشتقت ل حديثك ، و كأني لم اح...\n",
              "4       neg   الله يستر 💔 والله مو قادرة أتخيل سيناريو الخسارة\n",
              "...     ...                                                ...\n",
              "2031    neg  \\tرحم الله والديه كاتب هذه الكلمات الصادقة ورح...\n",
              "2033    neg           \\tمتى ياتي الحب اتعبتنا الوحدة 😢 😢 😢 😢\\n\n",
              "2035    neg                              \\tبالتوفيق والرزق 😢\\n\n",
              "2036    neg  \\tوالله خاطيني تو نا يسخفكمش حالي متوحشة جدي 😢...\n",
              "2037    neg  \\tأستر وجعي يا الله ، لا تعري انكساري بنظرة شف...\n",
              "\n",
              "[261367 rows x 2 columns]"
            ],
            "text/html": [
              "\n",
              "  <div id=\"df-6bf82c7f-f0cc-40a0-ab73-1fbeee80b135\">\n",
              "    <div class=\"colab-df-container\">\n",
              "      <div>\n",
              "<style scoped>\n",
              "    .dataframe tbody tr th:only-of-type {\n",
              "        vertical-align: middle;\n",
              "    }\n",
              "\n",
              "    .dataframe tbody tr th {\n",
              "        vertical-align: top;\n",
              "    }\n",
              "\n",
              "    .dataframe thead th {\n",
              "        text-align: right;\n",
              "    }\n",
              "</style>\n",
              "<table border=\"1\" class=\"dataframe\">\n",
              "  <thead>\n",
              "    <tr style=\"text-align: right;\">\n",
              "      <th></th>\n",
              "      <th>labels</th>\n",
              "      <th>text</th>\n",
              "    </tr>\n",
              "  </thead>\n",
              "  <tbody>\n",
              "    <tr>\n",
              "      <th>0</th>\n",
              "      <td>neg</td>\n",
              "      <td>راح فين كلامك الي كنتي بتقوليه 💔 رايكو في صوتي</td>\n",
              "    </tr>\n",
              "    <tr>\n",
              "      <th>1</th>\n",
              "      <td>neg</td>\n",
              "      <td>كلام اهلها انهم دخلوها مستشفى الامل لمدة شهر ع...</td>\n",
              "    </tr>\n",
              "    <tr>\n",
              "      <th>2</th>\n",
              "      <td>neg</td>\n",
              "      <td>ليش عم تسبنا يامخرف 😡</td>\n",
              "    </tr>\n",
              "    <tr>\n",
              "      <th>3</th>\n",
              "      <td>neg</td>\n",
              "      <td>#السعاده_دايما_هي اشتقت ل حديثك ، و كأني لم اح...</td>\n",
              "    </tr>\n",
              "    <tr>\n",
              "      <th>4</th>\n",
              "      <td>neg</td>\n",
              "      <td>الله يستر 💔 والله مو قادرة أتخيل سيناريو الخسارة</td>\n",
              "    </tr>\n",
              "    <tr>\n",
              "      <th>...</th>\n",
              "      <td>...</td>\n",
              "      <td>...</td>\n",
              "    </tr>\n",
              "    <tr>\n",
              "      <th>2031</th>\n",
              "      <td>neg</td>\n",
              "      <td>\\tرحم الله والديه كاتب هذه الكلمات الصادقة ورح...</td>\n",
              "    </tr>\n",
              "    <tr>\n",
              "      <th>2033</th>\n",
              "      <td>neg</td>\n",
              "      <td>\\tمتى ياتي الحب اتعبتنا الوحدة 😢 😢 😢 😢\\n</td>\n",
              "    </tr>\n",
              "    <tr>\n",
              "      <th>2035</th>\n",
              "      <td>neg</td>\n",
              "      <td>\\tبالتوفيق والرزق 😢\\n</td>\n",
              "    </tr>\n",
              "    <tr>\n",
              "      <th>2036</th>\n",
              "      <td>neg</td>\n",
              "      <td>\\tوالله خاطيني تو نا يسخفكمش حالي متوحشة جدي 😢...</td>\n",
              "    </tr>\n",
              "    <tr>\n",
              "      <th>2037</th>\n",
              "      <td>neg</td>\n",
              "      <td>\\tأستر وجعي يا الله ، لا تعري انكساري بنظرة شف...</td>\n",
              "    </tr>\n",
              "  </tbody>\n",
              "</table>\n",
              "<p>261367 rows × 2 columns</p>\n",
              "</div>\n",
              "      <button class=\"colab-df-convert\" onclick=\"convertToInteractive('df-6bf82c7f-f0cc-40a0-ab73-1fbeee80b135')\"\n",
              "              title=\"Convert this dataframe to an interactive table.\"\n",
              "              style=\"display:none;\">\n",
              "        \n",
              "  <svg xmlns=\"http://www.w3.org/2000/svg\" height=\"24px\"viewBox=\"0 0 24 24\"\n",
              "       width=\"24px\">\n",
              "    <path d=\"M0 0h24v24H0V0z\" fill=\"none\"/>\n",
              "    <path d=\"M18.56 5.44l.94 2.06.94-2.06 2.06-.94-2.06-.94-.94-2.06-.94 2.06-2.06.94zm-11 1L8.5 8.5l.94-2.06 2.06-.94-2.06-.94L8.5 2.5l-.94 2.06-2.06.94zm10 10l.94 2.06.94-2.06 2.06-.94-2.06-.94-.94-2.06-.94 2.06-2.06.94z\"/><path d=\"M17.41 7.96l-1.37-1.37c-.4-.4-.92-.59-1.43-.59-.52 0-1.04.2-1.43.59L10.3 9.45l-7.72 7.72c-.78.78-.78 2.05 0 2.83L4 21.41c.39.39.9.59 1.41.59.51 0 1.02-.2 1.41-.59l7.78-7.78 2.81-2.81c.8-.78.8-2.07 0-2.86zM5.41 20L4 18.59l7.72-7.72 1.47 1.35L5.41 20z\"/>\n",
              "  </svg>\n",
              "      </button>\n",
              "      \n",
              "  <style>\n",
              "    .colab-df-container {\n",
              "      display:flex;\n",
              "      flex-wrap:wrap;\n",
              "      gap: 12px;\n",
              "    }\n",
              "\n",
              "    .colab-df-convert {\n",
              "      background-color: #E8F0FE;\n",
              "      border: none;\n",
              "      border-radius: 50%;\n",
              "      cursor: pointer;\n",
              "      display: none;\n",
              "      fill: #1967D2;\n",
              "      height: 32px;\n",
              "      padding: 0 0 0 0;\n",
              "      width: 32px;\n",
              "    }\n",
              "\n",
              "    .colab-df-convert:hover {\n",
              "      background-color: #E2EBFA;\n",
              "      box-shadow: 0px 1px 2px rgba(60, 64, 67, 0.3), 0px 1px 3px 1px rgba(60, 64, 67, 0.15);\n",
              "      fill: #174EA6;\n",
              "    }\n",
              "\n",
              "    [theme=dark] .colab-df-convert {\n",
              "      background-color: #3B4455;\n",
              "      fill: #D2E3FC;\n",
              "    }\n",
              "\n",
              "    [theme=dark] .colab-df-convert:hover {\n",
              "      background-color: #434B5C;\n",
              "      box-shadow: 0px 1px 3px 1px rgba(0, 0, 0, 0.15);\n",
              "      filter: drop-shadow(0px 1px 2px rgba(0, 0, 0, 0.3));\n",
              "      fill: #FFFFFF;\n",
              "    }\n",
              "  </style>\n",
              "\n",
              "      <script>\n",
              "        const buttonEl =\n",
              "          document.querySelector('#df-6bf82c7f-f0cc-40a0-ab73-1fbeee80b135 button.colab-df-convert');\n",
              "        buttonEl.style.display =\n",
              "          google.colab.kernel.accessAllowed ? 'block' : 'none';\n",
              "\n",
              "        async function convertToInteractive(key) {\n",
              "          const element = document.querySelector('#df-6bf82c7f-f0cc-40a0-ab73-1fbeee80b135');\n",
              "          const dataTable =\n",
              "            await google.colab.kernel.invokeFunction('convertToInteractive',\n",
              "                                                     [key], {});\n",
              "          if (!dataTable) return;\n",
              "\n",
              "          const docLinkHtml = 'Like what you see? Visit the ' +\n",
              "            '<a target=\"_blank\" href=https://colab.research.google.com/notebooks/data_table.ipynb>data table notebook</a>'\n",
              "            + ' to learn more about interactive tables.';\n",
              "          element.innerHTML = '';\n",
              "          dataTable['output_type'] = 'display_data';\n",
              "          await google.colab.output.renderOutput(dataTable, element);\n",
              "          const docLink = document.createElement('div');\n",
              "          docLink.innerHTML = docLinkHtml;\n",
              "          element.appendChild(docLink);\n",
              "        }\n",
              "      </script>\n",
              "    </div>\n",
              "  </div>\n",
              "  "
            ]
          },
          "metadata": {},
          "execution_count": 23
        }
      ]
    },
    {
      "cell_type": "code",
      "source": [],
      "metadata": {
        "id": "qksrkCEs_77E"
      },
      "execution_count": null,
      "outputs": []
    },
    {
      "cell_type": "code",
      "source": [
        "# import emoji,re\n",
        "txt = 'pos الله يسعدكم 😂😂😭😭 كما اسعدتوني 😚 😚 وشاكره لكم دعمكم'\n",
        "# unicodedata.normalize('NFKD', txt).encode('utf-8', 'ignore').decode('ascii', 'ignore')\n",
        "# # txt.encode('ascii', 'ignore').decode('ascii')\n"
      ],
      "metadata": {
        "id": "yeLZRAiPdpVp"
      },
      "execution_count": null,
      "outputs": []
    },
    {
      "cell_type": "code",
      "source": [
        "! pip install pyarabic\n",
        "! pip install emoji"
      ],
      "metadata": {
        "colab": {
          "base_uri": "https://localhost:8080/"
        },
        "id": "cRSbusQCOrZv",
        "outputId": "8b466f10-e242-49cd-bd01-f21fd9030b28"
      },
      "execution_count": null,
      "outputs": [
        {
          "output_type": "stream",
          "name": "stdout",
          "text": [
            "Looking in indexes: https://pypi.org/simple, https://us-python.pkg.dev/colab-wheels/public/simple/\n",
            "Collecting pyarabic\n",
            "  Downloading PyArabic-0.6.15-py3-none-any.whl (126 kB)\n",
            "\u001b[2K     \u001b[90m━━━━━━━━━━━━━━━━━━━━━━━━━━━━━━━━━━━━━━━\u001b[0m \u001b[32m126.4/126.4 kB\u001b[0m \u001b[31m4.1 MB/s\u001b[0m eta \u001b[36m0:00:00\u001b[0m\n",
            "\u001b[?25hRequirement already satisfied: six>=1.14.0 in /usr/local/lib/python3.10/dist-packages (from pyarabic) (1.16.0)\n",
            "Installing collected packages: pyarabic\n",
            "Successfully installed pyarabic-0.6.15\n",
            "Looking in indexes: https://pypi.org/simple, https://us-python.pkg.dev/colab-wheels/public/simple/\n",
            "Collecting emoji\n",
            "  Downloading emoji-2.2.0.tar.gz (240 kB)\n",
            "\u001b[2K     \u001b[90m━━━━━━━━━━━━━━━━━━━━━━━━━━━━━━━━━━━━━━━\u001b[0m \u001b[32m240.9/240.9 kB\u001b[0m \u001b[31m6.6 MB/s\u001b[0m eta \u001b[36m0:00:00\u001b[0m\n",
            "\u001b[?25h  Preparing metadata (setup.py) ... \u001b[?25l\u001b[?25hdone\n",
            "Building wheels for collected packages: emoji\n",
            "  Building wheel for emoji (setup.py) ... \u001b[?25l\u001b[?25hdone\n",
            "  Created wheel for emoji: filename=emoji-2.2.0-py3-none-any.whl size=234926 sha256=c09e340c42d567e7bcdd4afa394ff315d602e74be8702286c9ee933f4d823b45\n",
            "  Stored in directory: /root/.cache/pip/wheels/02/3d/88/51a592b9ad17e7899126563698b4e3961983ebe85747228ba6\n",
            "Successfully built emoji\n",
            "Installing collected packages: emoji\n",
            "Successfully installed emoji-2.2.0\n"
          ]
        }
      ]
    },
    {
      "cell_type": "code",
      "source": [
        "import re\n",
        "import unicodedata\n",
        "from nltk.tokenize import word_tokenize\n",
        "import nltk\n",
        "nltk.download('punkt')\n",
        "nltk.download('stopwords')\n",
        "import string\n",
        "import pyarabic.araby as araby\n",
        "from nltk.corpus import stopwords\n",
        "from textblob import TextBlob\n",
        "\n",
        "stops = stopwords.words(\"arabic\")\n",
        "# stops.extend([\"،\",\"آض\",\"آمينَ\",\"آه\",\"آهاً\",\"آي\",\"أ\",'الله', 'علي', 'انا', '…', 'اللي', 'اللهم', 'والله', 'الي', '؟', 'يارب',\n",
        "#               \"أب\",\"أجل\",\"أجمع\",\"أخ\",\"أخذ\",\"أصبح\",\"أضحى\",\"أقبل\",\"أقل\",\"أكثر\",\"ألا\",\"أم\",\"أما\",\"أمامك\",\"أمامكَ\",\"أمسى\",\"أمّا\",\"أن\",\"أنا\",\"أنت\",\"أنتم\",\"أنتما\",\"أنتن\",\"أنتِ\",\"أنشأ\",\"أنّى\"\n",
        "#               ,\"أو\",\"أوشك\",\"أولئك\",\"أولئكم\",\"أولاء\",\"أولالك\",\"أوّهْ\",\"أي\",\"أيا\",\"أين\",\"أينما\",\"أيّ\",\"أَنَّ\",\"أََيُّ\",\"أُفٍّ\",\"إذ\",\"إذا\",\"إذاً\",\"إذما\",\"إذن\",\"إلى\",\"إليكم\",\"إليكما\",\"إليكنّ\",\"إليكَ\",\"إلَيْكَ\"\n",
        "#               ,\"إلّا\",\"إمّا\",\"إن\",\"إنّما\",\"إي\",\"إياك\",\"إياكم\",\"إياكما\",\"إياكن\",\"إيانا\",\"إياه\",\"إياها\",\"إياهم\",\"إياهما\",\"إياهن\",\"إياي\",\"إيهٍ\",\"إِنَّ\",\"ا\",\"ابتدأ\",\"اثر\",\"اجل\",\"احد\",\"اخرى\",\"اخلولق\",\"اذا\"\n",
        "#               ,\"اربعة\",\"ارتدّ\",\"استحال\",\"اطار\",\"اعادة\",\"اعلنت\",\"اف\",\"اكثر\",\"اكد\",\"الألاء\",\"الألى\",\"الا\",\"الاخيرة\",\"الان\",\"الاول\",\"الاولى\",\"التى\",\"التي\",\"الثاني\",\"الثانية\",\"الذاتي\",\"الذى\",\"الذي\"\n",
        "#               ,\"الذين\",\"السابق\",\"الف\",\"اللائي\",\"اللاتي\",\"اللتان\",\"اللتيا\",\"اللتين\",\"اللذان\",\"اللذين\",\"اللواتي\",\"الماضي\",\"المقبل\",\"الوقت\",\"الى\",\"اليوم\",\"اما\",\"امام\",\"امس\",\"ان\",\"انبرى\",\"انقلب\",\"انه\"\n",
        "#               ,\"انها\",\"او\",\"اول\",\"اي\",\"ايار\",\"ايام\",\"ايضا\",\"ب\",\"بات\",\"باسم\",\"بان\",\"بخٍ\",\"برس\",\"بسبب\",\"بسّ\",\"بشكل\",\"بضع\",\"بطآن\",\"بعد\",\"بعض\",\"بك\",\"بكم\",\"بكما\",\"بكن\",\"بل\",\"بلى\"\n",
        "#               ,\"بما\",\"بماذا\",\"بمن\",\"بن\",\"بنا\",\"به\",\"بها\",\"بي\",\"بيد\",\"بين\",\"بَسْ\",\"بَلْهَ\",\"بِئْسَ\",\"تانِ\",\"تانِك\",\"تبدّل\",\"تجاه\",\"تحوّل\",\"تلقاء\",\"تلك\",\"تلكم\",\"تلكما\",\"تم\",\"تينك\",\"تَيْنِ\",\"تِه\",\"تِي\"\n",
        "#               ,\"ثلاثة\",\"ثم\",\"ثمّ\",\"ثمّة\",\"ثُمَّ\",\"جعل\",\"جلل\",\"جميع\",\"جير\",\"حار\",\"حاشا\",\"حاليا\",\"حاي\",\"حتى\",\"حرى\",\"حسب\",\"حم\",\"حوالى\",\"حول\",\"حيث\",\"حيثما\",\"حين\",\"حيَّ\",\"حَبَّذَا\",\"حَتَّى\"\n",
        "#               ,\"حَذارِ\",\"خلا\",\"خلال\",\"دون\",\"دونك\",\"ذا\",\"ذات\",\"ذاك\",\"ذانك\",\"ذانِ\",\"ذلك\",\"ذلكم\",\"ذلكما\",\"ذلكن\",\"ذو\",\"ذوا\",\"ذواتا\",\"ذواتي\",\"ذيت\",\"ذينك\",\"ذَيْنِ\",\"ذِه\",\"ذِي\",\"راح\",\"رجع\"\n",
        "#               ,\"رويدك\",\"ريث\",\"رُبَّ\",\"زيارة\",\"سبحان\",\"سرعان\",\"سنة\",\"سنوات\",\"سوف\",\"سوى\",\"سَاءَ\",\"سَاءَمَا\",\"شبه\",\"شخصا\",\"شرع\",\"شَتَّانَ\",\"صار\",\"صباح\",\"صفر\",\"صهٍ\",\"صهْ\",\"ضد\"\n",
        "#               ,\"ضمن\",\"طاق\",\"طالما\",\"طفق\",\"طَق\",\"ظلّ\",\"عاد\",\"عام\",\"عاما\",\"عامة\",\"عدا\",\"عدة\",\"عدد\",\"عدم\",\"عسى\",\"عشر\",\"عشرة\",\"علق\",\"على\",\"عليك\",\"عليه\",\"عليها\",\"علًّ\",\"عن\"\n",
        "#               ,\"عند\",\"عندما\",\"عوض\",\"عين\",\"عَدَسْ\",\"عَمَّا\",\"غدا\",\"غير\",\"ـ\",\"ف\",\"فان\",\"فلان\",\"فو\",\"فى\",\"في\",\"فيم\",\"فيما\",\"فيه\",\"فيها\",\"قال\",\"قام\",\"قبل\",\"قد\",\"قطّ\",\"قلما\",\"قوة\",\n",
        "#               \"كأنّما\",\"كأين\",\"كأيّ\",\"كأيّن\",\"كاد\",\"كان\",\"كانت\",\"كذا\",\"كذلك\",\"كرب\",\"كل\",\"كلا\",\"كلاهما\",\"كلتا\",\"كلم\",\"كليكما\",\"كليهما\",\"كلّما\",\"كلَّا\",\"كم\",\"كما\",\"كي\",\"كيت\",\"كيف\",\n",
        "#               \"كيفما\",\"كَأَنَّ\",\"كِخ\",\"لئن\",\"لا\",\"لات\",\"لاسيما\",\"لدن\",\"لدى\",\"لعمر\",\"لقاء\",\"لك\",\"لكم\",\"لكما\",\"لكن\",\"لكنَّما\",\"لكي\",\"لكيلا\",\"للامم\",\"لم\",\"لما\",\"لمّا\",\"لن\",\"لنا\",\"له\",\"لها\",\n",
        "#               \"لو\",\"لوكالة\",\"لولا\",\"لوما\",\"لي\",\"لَسْتَ\",\"لَسْتُ\",\"لَسْتُم\",\"لَسْتُمَا\",\"لَسْتُنَّ\",\"لَسْتِ\",\"لَسْنَ\",\"لَعَلَّ\",\"لَكِنَّ\",\"لَيْتَ\",\"لَيْسَ\",\"لَيْسَا\",\"لَيْسَتَا\",\"لَيْسَتْ\",\"لَيْسُوا\",\"لَِسْنَا\",\"ما\",\"ماانفك\",\"مابرح\",\"يوم\",\n",
        "#               \"مادام\",\"ماذا\",\"مازال\",\"مافتئ\",\"مايو\",\"متى\",\"مثل\",\"مذ\",\"مساء\",\"مع\",\"معاذ\",\"مقابل\",\"مكانكم\",\"مكانكما\",\"مكانكنّ\",\"مكانَك\",\"مليار\",\"مليون\",\"مما\",\"ممن\",\"من\",\"منذ\",\"منها\",\"مه\",\n",
        "#               \"مهما\",\"مَنْ\",\"مِن\",\"نحن\",\"نحو\",\"نعم\",\"نفس\",\"نفسه\",\"نهاية\",\"نَخْ\",\"نِعِمّا\",\"نِعْمَ\",\"ها\",\"هاؤم\",\"هاكَ\",\"هاهنا\",\"هبّ\",\"هذا\",\"هذه\",\"هكذا\",\"هل\",\"هلمَّ\",\"هلّا\",\"هم\",\"هما\",\"هن\",\"هنا\"\n",
        "#               ,\"هناك\",\"هنالك\",\"هو\",\"هي\",\"هيا\",\"هيت\",\"هيّا\",\"هَؤلاء\",\"هَاتانِ\",\"هَاتَيْنِ\",\"هَاتِه\",\"هَاتِي\",\"هَجْ\",\"هَذا\",\"هَذانِ\",\"هَذَيْنِ\",\"هَذِه\",\"هَذِي\",\"هَيْهَاتَ\",\"و\",\"و6\",\"وا\",\"واحد\",\"واضاف\",\"واضافت\"\n",
        "#               ,\"واكد\",\"وان\",\"واهاً\",\"واوضح\",\"وراءَك\",\"وفي\",\"وقال\",\"وقالت\",\"وقد\",\"وقف\",\"وكان\",\"وكانت\",\"ولا\",\"ولم\",\"ومن\",\"مَن\",\"وهو\",\"وهي\",\"ويكأنّ\",\"انت\",\"وَيْ\",\"وُشْكَانََ\",\"يكون\",\"يمكن\",\"ّأيّان\"])\n",
        "noise = re.compile(\"\"\" ّ    | # Tashdid\n",
        "                          َ    | # Fatha\n",
        "                          ً    | # Tanwin Fath\n",
        "                          ُ    | # Damma\n",
        "                          ٌ    | # Tanwin Damm\n",
        "                          ِ    | # Kasra\n",
        "                          ٍ    | # Tanwin Kasr\n",
        "                          ْ    | # Sukun\n",
        "                          ـ     # Tatwil/Kashida\n",
        "                      \"\"\", re.VERBOSE)\n",
        "\n",
        "def normalize_Arabic(text):\n",
        "    text = text.strip()\n",
        "    text = re.sub(\"[إأٱآا]\", \"ا\", text)\n",
        "    text = re.sub(\"ى\", \"ي\", text)\n",
        "    text = re.sub(\"ؤ\", \"ء\", text)\n",
        "    text = re.sub(\"ئ\", \"ء\", text)\n",
        "    text = re.sub(\"ة\", \"ه\", text) # replace \"ة\" with \"ه\"\n",
        "    text = re.sub(noise, '', text)\n",
        "    text = re.sub(r'(.)\\1+', r\"\\1\\1\", text) # Remove longation\n",
        "    return araby.strip_tashkeel(text)\n",
        "\n",
        "def remove_emojis(text):\n",
        "    text =  emoji.demojize(text)\n",
        "    text= re.sub(r'(:[!_\\-\\w]+:)', '', text)\n",
        "    return text  #emoji_pattern.sub(r'', txt)\n",
        "\n",
        "def remove_punctuation(text):\n",
        "    translator = str.maketrans('', '', string.punctuation)\n",
        "    return text.translate(translator)\n",
        "\n",
        "def replace_numbers(text):\n",
        "    return re.sub(r'\\d+', '', text)\n",
        "\n",
        "def remove_whitespaces(text):\n",
        "    return text.strip()\n",
        "\n",
        "def remove_stop_words(text):\n",
        "    words = word_tokenize(text)\n",
        "    return \" \".join([w for w in words if not w in stops and len(w)<11])\n",
        "\n",
        "def remove_urls(text):\n",
        "   #Remove URLs\n",
        "   return re.sub(r'^https?:\\/\\/.*[\\r\\n]*', '<URL>', text)\n",
        "\n",
        "\n",
        "clean_text = []\n",
        "for txt in data['text'] :\n",
        "    ## Remove Tashkeel\n",
        "    txt = normalize_Arabic(txt)\n",
        "    ## REmove Emojis\n",
        "    # txt = remove_emojis(txt)\n",
        "    txt = remove_punctuation(txt)\n",
        "    txt = replace_numbers(txt)\n",
        "    txt = remove_stop_words(txt)\n",
        "    txt = remove_whitespaces(txt)\n",
        "    txt = remove_urls(txt)\n",
        "    clean_text.append(txt)\n",
        "\n"
      ],
      "metadata": {
        "colab": {
          "base_uri": "https://localhost:8080/"
        },
        "id": "zw1hLvjiV1E_",
        "outputId": "7d413465-b0a1-4ba3-ca07-85d69cc12746"
      },
      "execution_count": null,
      "outputs": [
        {
          "output_type": "stream",
          "name": "stderr",
          "text": [
            "[nltk_data] Downloading package punkt to /root/nltk_data...\n",
            "[nltk_data]   Package punkt is already up-to-date!\n",
            "[nltk_data] Downloading package stopwords to /root/nltk_data...\n",
            "[nltk_data]   Package stopwords is already up-to-date!\n"
          ]
        }
      ]
    },
    {
      "cell_type": "code",
      "source": [
        "len(stops)"
      ],
      "metadata": {
        "id": "UsfoGsQIQGJl",
        "colab": {
          "base_uri": "https://localhost:8080/"
        },
        "outputId": "064288e5-b1c9-4395-a366-3317be9a1bcf"
      },
      "execution_count": null,
      "outputs": [
        {
          "output_type": "execute_result",
          "data": {
            "text/plain": [
              "754"
            ]
          },
          "metadata": {},
          "execution_count": 29
        }
      ]
    },
    {
      "cell_type": "code",
      "source": [
        "clean_text[1552:1569]"
      ],
      "metadata": {
        "colab": {
          "base_uri": "https://localhost:8080/"
        },
        "id": "V4bwIwjyV1Mt",
        "outputId": "4e5e5312-5931-4335-dbe9-afa972a23a9c"
      },
      "execution_count": null,
      "outputs": [
        {
          "output_type": "execute_result",
          "data": {
            "text/plain": [
              "['مين العظيمه اللي صورت الصوره دي؟ 🌚',\n",
              " 'بكل هدوء انا عايز ارووء 😔',\n",
              " 'وفي مره نتذكر نشعر وكاننا لازلنا واقفين اليوم وفي اللحظه 💔 رحم الله موتانا وموتاكم وجمعنا…',\n",
              " 'عندما تكون تستمع تفهم وضع احدهم مواقفهم ،يكون بداخلك انهم سوفي يستمعون او يتفهمو موقفك حصل ذيك…',\n",
              " '👈 يوم تشهد عليهم السنتهم وايديهم وا…',\n",
              " 'يبقي عندك ميدتيرم وترقص فرح حد متعرفوش لحد ولسه مفتحتش الماده يبقي اسمه استهتار تسيب 😑',\n",
              " 'اي غلطت كنت بحط 😭',\n",
              " 'بعيد اي شعارات حماسيه، انا الاهلي الحلوه والمره نعدي الخساره بمكسب كبير مش بعيد ربنا طبعا وفي الو…',\n",
              " 'هيك مسمووح 🙈',\n",
              " 'مءلم الشعور 😓',\n",
              " 'وانا محتار ابدا اي محاضره 😑',\n",
              " 'يعين الله 💔',\n",
              " 'تعرفي عني اني حد؟ 🌚',\n",
              " 'اللي يختفون وين يروحون 🤔',\n",
              " 'النور والسرور 💔',\n",
              " 'امان الله بشوفكم خير✋🏻🌺 نووم ♥️🌺 😴',\n",
              " 'ليتني اجرح بااقي الناس واكسر خواطر كسرني واقسي لكني كثر املك…']"
            ]
          },
          "metadata": {},
          "execution_count": 26
        }
      ]
    },
    {
      "cell_type": "code",
      "source": [
        "data_labels = data['labels'].map({'pos':1,'neg':0})\n",
        "# data_labels = data['labels']\n",
        "# data_labels = data['label'].map({'Positive':2,'Negative':0, 'Mixed':2})"
      ],
      "metadata": {
        "id": "njDZ82X0YWUk"
      },
      "execution_count": null,
      "outputs": []
    },
    {
      "cell_type": "code",
      "source": [],
      "metadata": {
        "id": "M_txGbxE9iw0"
      },
      "execution_count": null,
      "outputs": []
    },
    {
      "cell_type": "code",
      "source": [
        "for txt in clean_text:\n",
        "  if 'pos' in txt or 'neg' in txt:\n",
        "    print(txt)"
      ],
      "metadata": {
        "id": "fVPmCkJ_YWgE",
        "colab": {
          "base_uri": "https://localhost:8080/"
        },
        "outputId": "84ac9cd0-abdb-4356-945c-2ae437322f4b"
      },
      "execution_count": null,
      "outputs": [
        {
          "output_type": "stream",
          "name": "stdout",
          "text": [
            "كنت عم شوف هيدا الpost علي فايسبوك بعرف ليش فتت شوف التعليقات واكتشفت شي رح يخليني بطل حب ايه…\n",
            "New post سامسونج تحتفل بالذكري الخمسين لتاسيسها has been published on ليبانونتك الاخبار التقنيه …\n",
            "New post in انت فقط تظن هاشتاق ريمنمبرز بتويتر بقلم المغرده ⁦⁩ قمت بجمع تغريداتها رساءل الارقام …\n",
            "الخيرات والبركات 💚 FelGuide repostthis gypt alexandria\n",
            "يقول علماء الاداره انه لتحقيق الاهداف يجب وضع خطه ناجحه تعتمد علي اسس علميه وهي positive attitude Team Work …\n",
            "كنت عم شوف هيدا الpost علي فايسبوك بعرف ليش فتت شوف التعليقات واكتشفت شي رح يخليني بطل حب ايه…\n"
          ]
        }
      ]
    },
    {
      "cell_type": "code",
      "source": [],
      "metadata": {
        "id": "MZ7DGy1WNvvn"
      },
      "execution_count": null,
      "outputs": []
    },
    {
      "cell_type": "markdown",
      "source": [
        "## data tokenization"
      ],
      "metadata": {
        "id": "mEbJZgmAV3CI"
      }
    },
    {
      "cell_type": "code",
      "source": [
        "from sklearn.model_selection import train_test_split\n",
        "\n",
        "x_train,x_test,y_train,y_test = train_test_split(clean_text,data_labels,test_size=.4,shuffle=True,random_state=1)\n",
        "\n",
        "x_valid,x_test,y_valid,y_test = train_test_split(x_test,y_test,test_size=.25,shuffle=True,random_state=1)\n",
        "\n",
        "len(x_train),len(y_train),len(x_valid),len(y_valid),len(x_test),len(y_test)"
      ],
      "metadata": {
        "colab": {
          "base_uri": "https://localhost:8080/"
        },
        "id": "x7F4jQO5V1UI",
        "outputId": "fe630334-f818-42ca-b700-a63b44f13cda"
      },
      "execution_count": null,
      "outputs": [
        {
          "output_type": "execute_result",
          "data": {
            "text/plain": [
              "(156820, 156820, 78410, 78410, 26137, 26137)"
            ]
          },
          "metadata": {},
          "execution_count": 22
        }
      ]
    },
    {
      "cell_type": "code",
      "source": [
        "from tensorflow.keras.preprocessing.sequence import pad_sequences\n",
        "from tensorflow.keras.preprocessing.text import Tokenizer\n",
        "tokenizer = Tokenizer(oov_token='UNK')\n",
        "tokenizer.fit_on_texts(x_train)\n",
        "tokenizer.word_index"
      ],
      "metadata": {
        "colab": {
          "base_uri": "https://localhost:8080/"
        },
        "id": "Ah3XnZleWECB",
        "outputId": "268c1dcf-3790-453c-f266-5242b5abc1be"
      },
      "execution_count": null,
      "outputs": [
        {
          "output_type": "execute_result",
          "data": {
            "text/plain": [
              "{'UNK': 1,\n",
              " 'ان': 2,\n",
              " 'علي': 3,\n",
              " '،': 4,\n",
              " 'الله': 5,\n",
              " 'جدا': 6,\n",
              " 'الي': 7,\n",
              " '💔': 8,\n",
              " 'الروايه': 9,\n",
              " 'انا': 10,\n",
              " 'او': 11,\n",
              " 'الكتاب': 12,\n",
              " 'اللي': 13,\n",
              " '😂': 14,\n",
              " 'الا': 15,\n",
              " 'الفندق': 16,\n",
              " '😭': 17,\n",
              " 'انه': 18,\n",
              " 'حتي': 19,\n",
              " 'كانت': 20,\n",
              " 'اي': 21,\n",
              " 'اكثر': 22,\n",
              " '؟': 23,\n",
              " 'مش': 24,\n",
              " 'كنت': 25,\n",
              " 'روايه': 26,\n",
              " 'شي': 27,\n",
              " 'اني': 28,\n",
              " 'الكاتب': 29,\n",
              " 'اللهم': 30,\n",
              " 'كتاب': 31,\n",
              " 'والله': 32,\n",
              " 'شيء': 33,\n",
              " 'انها': 34,\n",
              " '🌹': 35,\n",
              " 'مره': 36,\n",
              " 'فقط': 37,\n",
              " '😔': 38,\n",
              " 'انت': 39,\n",
              " 'اذا': 40,\n",
              " '❤': 41,\n",
              " 'جيد': 42,\n",
              " 'يوم': 43,\n",
              " '…': 44,\n",
              " 'اول': 45,\n",
              " 'الناس': 46,\n",
              " 'يكون': 47,\n",
              " 'يارب': 48,\n",
              " 'راءع': 49,\n",
              " 'الاستقبال': 50,\n",
              " 'الغرفه': 51,\n",
              " '💙': 52,\n",
              " 'الخير': 53,\n",
              " '️': 54,\n",
              " 'جميل': 55,\n",
              " 'ده': 56,\n",
              " 'ممتاز': 57,\n",
              " 'الحياه': 58,\n",
              " 'احد': 59,\n",
              " 'وانا': 60,\n",
              " 'بشكل': 61,\n",
              " 'فندق': 62,\n",
              " 'اخر': 63,\n",
              " 'دي': 64,\n",
              " 'الغرف': 65,\n",
              " 'يعني': 66,\n",
              " 'اليوم': 67,\n",
              " 'يوجد': 68,\n",
              " '😍': 69,\n",
              " 'عشان': 70,\n",
              " '❤️': 71,\n",
              " 'تكون': 72,\n",
              " 'قال': 73,\n",
              " 'وان': 74,\n",
              " 'ضعيف': 75,\n",
              " 'حاجه': 76,\n",
              " 'عندما': 77,\n",
              " 'افضل': 78,\n",
              " 'قلبي': 79,\n",
              " 'الحب': 80,\n",
              " '⠀': 81,\n",
              " 'الموقع': 82,\n",
              " 'يمكن': 83,\n",
              " 'سيء': 84,\n",
              " '🌚': 85,\n",
              " '😒': 86,\n",
              " '💛': 87,\n",
              " 'قصه': 88,\n",
              " '😢': 89,\n",
              " 'انك': 90,\n",
              " 'عدم': 91,\n",
              " 'ايه': 92,\n",
              " 'سيءه': 93,\n",
              " 'اخري': 94,\n",
              " 'بكل': 95,\n",
              " 'ولم': 96,\n",
              " 'حد': 97,\n",
              " 'جميله': 98,\n",
              " 'الاحداث': 99,\n",
              " 'لان': 100,\n",
              " 'عليها': 101,\n",
              " 'ابدا': 102,\n",
              " 'النظافه': 103,\n",
              " 'مو': 104,\n",
              " 'اما': 105,\n",
              " '💕': 106,\n",
              " 'النهايه': 107,\n",
              " 'الكثير': 108,\n",
              " '🤔': 109,\n",
              " 'خير': 110,\n",
              " 'فعلا': 111,\n",
              " 'راءعه': 112,\n",
              " 'ايضا': 113,\n",
              " 'القصه': 114,\n",
              " 'محمد': 115,\n",
              " 'نفسي': 116,\n",
              " 'رغم': 117,\n",
              " 'اجمل': 118,\n",
              " 'وجود': 119,\n",
              " 'واحده': 120,\n",
              " 'للاسف': 121,\n",
              " '🙂': 122,\n",
              " 'كده': 123,\n",
              " 'اسلوب': 124,\n",
              " 'وفي': 125,\n",
              " 'ام': 126,\n",
              " 'شخص': 127,\n",
              " 'ممكن': 128,\n",
              " 'انصح': 129,\n",
              " 'تم': 130,\n",
              " 'بان': 131,\n",
              " 'العمل': 132,\n",
              " '،،': 133,\n",
              " 'زي': 134,\n",
              " 'فكره': 135,\n",
              " 'العالم': 136,\n",
              " 'نفسه': 137,\n",
              " 'الاول': 138,\n",
              " 'وقت': 139,\n",
              " 'ال': 140,\n",
              " 'يقول': 141,\n",
              " '🌸': 142,\n",
              " 'احمد': 143,\n",
              " 'الدنيا': 144,\n",
              " 'احب': 145,\n",
              " 'ربما': 146,\n",
              " 'الوقت': 147,\n",
              " 'بالنسبه': 148,\n",
              " 'بدون': 149,\n",
              " 'الانسان': 150,\n",
              " 'المكان': 151,\n",
              " 'مكان': 152,\n",
              " 'مخيب': 153,\n",
              " '😁': 154,\n",
              " 'قراءه': 155,\n",
              " 'هه': 156,\n",
              " 'لكل': 157,\n",
              " 'شء': 158,\n",
              " 'للامل': 159,\n",
              " 'قرات': 160,\n",
              " 'اقرا': 161,\n",
              " 'نجوم': 162,\n",
              " 'ليه': 163,\n",
              " 'جيده': 164,\n",
              " 'كتير': 165,\n",
              " 'جديد': 166,\n",
              " 'شخصيه': 167,\n",
              " 'الاولي': 168,\n",
              " 'القراءه': 169,\n",
              " 'حب': 170,\n",
              " 'داءما': 171,\n",
              " 'انني': 172,\n",
              " 'عنه': 173,\n",
              " 'حياه': 174,\n",
              " 'لله': 175,\n",
              " 'اعجبني': 176,\n",
              " 'وش': 177,\n",
              " 'عام': 178,\n",
              " 'بسبب': 179,\n",
              " 'كبير': 180,\n",
              " 'يكن': 181,\n",
              " 'اكتر': 182,\n",
              " 'وانت': 183,\n",
              " 'خدمه': 184,\n",
              " 'وهي': 185,\n",
              " 'الان': 186,\n",
              " 'ربي': 187,\n",
              " 'كتب': 188,\n",
              " 'الحرم': 189,\n",
              " 'خلال': 190,\n",
              " 'كلها': 191,\n",
              " '😏': 192,\n",
              " 'الافطار': 193,\n",
              " '👌': 194,\n",
              " 'عندي': 195,\n",
              " 'اقل': 196,\n",
              " 'يستحق': 197,\n",
              " 'بالله': 198,\n",
              " 'صفحه': 199,\n",
              " 'لانه': 200,\n",
              " 'استثناءي': 201,\n",
              " 'ساعه': 202,\n",
              " 'دا': 203,\n",
              " 'صباحك': 204,\n",
              " 'الكتب': 205,\n",
              " '😩': 206,\n",
              " 'شكرا': 207,\n",
              " 'الساعه': 208,\n",
              " 'كله': 209,\n",
              " 'نهايه': 210,\n",
              " 'يعجبني': 211,\n",
              " 'القلب': 212,\n",
              " 'لمن': 213,\n",
              " 'الدين': 214,\n",
              " 'وكان': 215,\n",
              " 'كثير': 216,\n",
              " '😊': 217,\n",
              " 'سنه': 218,\n",
              " 'اقول': 219,\n",
              " 'بلا': 220,\n",
              " 'اعرف': 221,\n",
              " '؛': 222,\n",
              " 'عنها': 223,\n",
              " 'موقع': 224,\n",
              " '😑': 225,\n",
              " '✨': 226,\n",
              " 'اتمني': 227,\n",
              " 'وهذا': 228,\n",
              " 'حلو': 229,\n",
              " 'شاء': 230,\n",
              " 'طيب': 231,\n",
              " 'بدايه': 232,\n",
              " 'المراه': 233,\n",
              " '✋': 234,\n",
              " 'عادي': 235,\n",
              " 'قريب': 236,\n",
              " 'حول': 237,\n",
              " 'اعتقد': 238,\n",
              " 'حلوه': 239,\n",
              " '💜': 240,\n",
              " 'اليه': 241,\n",
              " 'وكل': 242,\n",
              " 'يجب': 243,\n",
              " 'مواقف': 244,\n",
              " 'رب': 245,\n",
              " 'لايوجد': 246,\n",
              " '😘': 247,\n",
              " 'اكبر': 248,\n",
              " 'ايام': 249,\n",
              " 'الكاتبه': 250,\n",
              " 'الف': 251,\n",
              " '😐': 252,\n",
              " '😡': 253,\n",
              " 'سوي': 254,\n",
              " 'انتي': 255,\n",
              " 'الشخصيات': 256,\n",
              " 'كلام': 257,\n",
              " 'مجرد': 258,\n",
              " 'الحقيقه': 259,\n",
              " 'فقد': 260,\n",
              " 'امين': 261,\n",
              " 'غرفه': 262,\n",
              " 'السعر': 263,\n",
              " 'احداث': 264,\n",
              " 'الصباح': 265,\n",
              " 'الكلام': 266,\n",
              " '👍': 267,\n",
              " 'شيءا': 268,\n",
              " 'لازم': 269,\n",
              " 'العربيه': 270,\n",
              " '🌷': 271,\n",
              " 'طاقم': 272,\n",
              " 'علينا': 273,\n",
              " '💚': 274,\n",
              " 'فهو': 275,\n",
              " 'الاخر': 276,\n",
              " '\\u200d': 277,\n",
              " 'الارض': 278,\n",
              " 'تجربه': 279,\n",
              " 'اوي': 280,\n",
              " 'الخدمه': 281,\n",
              " 'مني': 282,\n",
              " '♥': 283,\n",
              " '😉': 284,\n",
              " 'داخل': 285,\n",
              " 'تماما': 286,\n",
              " '😅': 287,\n",
              " 'منهم': 288,\n",
              " 'ابي': 289,\n",
              " 'تكن': 290,\n",
              " 'قلب': 291,\n",
              " 'عمل': 292,\n",
              " 'الفكره': 293,\n",
              " 'يتم': 294,\n",
              " '😎': 295,\n",
              " 'مستوي': 296,\n",
              " 'طبعا': 297,\n",
              " 'ابو': 298,\n",
              " 'لقد': 299,\n",
              " 'ليش': 300,\n",
              " 'طريقه': 301,\n",
              " 'الامر': 302,\n",
              " 'اللغه': 303,\n",
              " 'الواقع': 304,\n",
              " 'الروايات': 305,\n",
              " 'المطعم': 306,\n",
              " 'نفسك': 307,\n",
              " 'اصلا': 308,\n",
              " 'حياتي': 309,\n",
              " 'الاسلام': 310,\n",
              " 'ابن': 311,\n",
              " 'الحمد': 312,\n",
              " 'الجزء': 313,\n",
              " 'وليس': 314,\n",
              " 'ربنا': 315,\n",
              " 'وقد': 316,\n",
              " 'بن': 317,\n",
              " 'طريق': 318,\n",
              " 'عبد': 319,\n",
              " 'وحده': 320,\n",
              " 'الثاني': 321,\n",
              " 'فاي': 322,\n",
              " 'الخدمات': 323,\n",
              " 'للغايه': 324,\n",
              " 'انهم': 325,\n",
              " 'بطريقه': 326,\n",
              " 'الحمدلله': 327,\n",
              " 'لماذا': 328,\n",
              " 'فتره': 329,\n",
              " 'كلمه': 330,\n",
              " 'الرجل': 331,\n",
              " 'الموت': 332,\n",
              " 'ناس': 333,\n",
              " 'اجد': 334,\n",
              " 'ممتازه': 335,\n",
              " 'مجموعه': 336,\n",
              " 'قديم': 337,\n",
              " 'بهذا': 338,\n",
              " 'قلبك': 339,\n",
              " 'الحمام': 340,\n",
              " 'بصراحه': 341,\n",
              " 'احلي': 342,\n",
              " 'التاريخ': 343,\n",
              " 'اجل': 344,\n",
              " '🌺': 345,\n",
              " '😞': 346,\n",
              " 'نظافه': 347,\n",
              " 'خاصه': 348,\n",
              " 'المياه': 349,\n",
              " 'لدرجه': 350,\n",
              " 'منك': 351,\n",
              " 'الاسلوب': 352,\n",
              " 'امام': 353,\n",
              " 'كثيره': 354,\n",
              " 'اعلم': 355,\n",
              " 'كبيره': 356,\n",
              " 'حسن': 357,\n",
              " 'جديده': 358,\n",
              " 'عالم': 359,\n",
              " 'تستحق': 360,\n",
              " 'احيانا': 361,\n",
              " 'احسن': 362,\n",
              " 'مصر': 363,\n",
              " 'بقي': 364,\n",
              " 'عمر': 365,\n",
              " 'القارء': 366,\n",
              " 'تعامل': 367,\n",
              " 'المجتمع': 368,\n",
              " 'السعاده': 369,\n",
              " 'بعيد': 370,\n",
              " 'تقريبا': 371,\n",
              " 'النوم': 372,\n",
              " 'تاني': 373,\n",
              " 'وجهه': 374,\n",
              " 'النور': 375,\n",
              " 'رحمه': 376,\n",
              " 'طول': 377,\n",
              " 'معني': 378,\n",
              " 'صح': 379,\n",
              " 'النفس': 380,\n",
              " '😤': 381,\n",
              " 'صغيره': 382,\n",
              " '🥀': 383,\n",
              " 'وعلي': 384,\n",
              " 'البدايه': 385,\n",
              " 'وصف': 386,\n",
              " 'الموضوع': 387,\n",
              " 'معه': 388,\n",
              " 'يبقي': 389,\n",
              " 'قلت': 390,\n",
              " 'سبب': 391,\n",
              " 'الموظفين': 392,\n",
              " '😀': 393,\n",
              " 'حقيقه': 394,\n",
              " 'السلام': 395,\n",
              " 'نجمه': 396,\n",
              " 'كتابه': 397,\n",
              " '؟؟': 398,\n",
              " 'رجل': 399,\n",
              " 'شويه': 400,\n",
              " 'الهلال': 401,\n",
              " 'لاني': 402,\n",
              " 'لكنه': 403,\n",
              " 'تري': 404,\n",
              " 'وين': 405,\n",
              " 'التعامل': 406,\n",
              " 'المواقف': 407,\n",
              " 'صوره': 408,\n",
              " 'كمان': 409,\n",
              " 'حق': 410,\n",
              " 'العربي': 411,\n",
              " 'اسم': 412,\n",
              " 'العظيم': 413,\n",
              " 'ادري': 414,\n",
              " 'قراتها': 415,\n",
              " 'القصص': 416,\n",
              " 'مشكله': 417,\n",
              " 'فهي': 418,\n",
              " 'فيك': 419,\n",
              " 'السرير': 420,\n",
              " 'راءحه': 421,\n",
              " '🙏': 422,\n",
              " 'تقول': 423,\n",
              " 'ا…': 424,\n",
              " 'اله': 425,\n",
              " 'احس': 426,\n",
              " 'جزء': 427,\n",
              " 'الجميع': 428,\n",
              " 'خلاص': 429,\n",
              " 'لكنها': 430,\n",
              " 'بجد': 431,\n",
              " 'الكتابه': 432,\n",
              " 'وسلم': 433,\n",
              " 'احنا': 434,\n",
              " 'الوحيد': 435,\n",
              " '😴': 436,\n",
              " 'العلم': 437,\n",
              " 'صوت': 438,\n",
              " 'اننا': 439,\n",
              " 'وغير': 440,\n",
              " 'نفسها': 441,\n",
              " 'مين': 442,\n",
              " '😋': 443,\n",
              " 'خالد': 444,\n",
              " 'اشعر': 445,\n",
              " 'عباره': 446,\n",
              " 'اهم': 447,\n",
              " 'عدد': 448,\n",
              " '🏻': 449,\n",
              " 'قصص': 450,\n",
              " 'الحجز': 451,\n",
              " 'شعرت': 452,\n",
              " 'نظيف': 453,\n",
              " 'حال': 454,\n",
              " 'مثلا': 455,\n",
              " 'كدا': 456,\n",
              " 'اسوا': 457,\n",
              " 'الحين': 458,\n",
              " 'حاله': 459,\n",
              " 'الاشياء': 460,\n",
              " 'الايام': 461,\n",
              " 'لغه': 462,\n",
              " '💐': 463,\n",
              " 'يوما': 464,\n",
              " 'باقي': 465,\n",
              " 'الدخول': 466,\n",
              " 'متي': 467,\n",
              " 'يعرف': 468,\n",
              " 'عليهم': 469,\n",
              " 'لهذا': 470,\n",
              " 'تاريخ': 471,\n",
              " 'لانها': 472,\n",
              " 'موظف': 473,\n",
              " 'والتي': 474,\n",
              " 'رحله': 475,\n",
              " 'قوه': 476,\n",
              " 'مقابل': 477,\n",
              " 'فان': 478,\n",
              " 'اري': 479,\n",
              " 'محمود': 480,\n",
              " 'المشكله': 481,\n",
              " 'القران': 482,\n",
              " 'خصوصا': 483,\n",
              " 'مبالغ': 484,\n",
              " 'مريح': 485,\n",
              " '🙁': 486,\n",
              " '🤣': 487,\n",
              " 'صغير': 488,\n",
              " 'نوعا': 489,\n",
              " 'لدي': 490,\n",
              " 'صباحكم': 491,\n",
              " 'يحتاج': 492,\n",
              " 'الافكار': 493,\n",
              " 'الورد': 494,\n",
              " 'انسان': 495,\n",
              " 'باب': 496,\n",
              " 'الليل': 497,\n",
              " '•': 498,\n",
              " 'واضح': 499,\n",
              " 'تعالي': 500,\n",
              " 'الشخصيه': 501,\n",
              " 'الروح': 502,\n",
              " '😬': 503,\n",
              " 'تفاصيل': 504,\n",
              " 'ممله': 505,\n",
              " 'بنت': 506,\n",
              " 'تعرف': 507,\n",
              " 'يكتب': 508,\n",
              " 'الثوره': 509,\n",
              " '🍃': 510,\n",
              " 'امي': 511,\n",
              " 'فيلم': 512,\n",
              " 'يسعد': 513,\n",
              " 'الدكتور': 514,\n",
              " 'وعدم': 515,\n",
              " 'البشر': 516,\n",
              " 'الجنه': 517,\n",
              " 'مختلفه': 518,\n",
              " 'اثناء': 519,\n",
              " '😳': 520,\n",
              " 'السرد': 521,\n",
              " 'جمال': 522,\n",
              " 'مناسب': 523,\n",
              " 'اهل': 524,\n",
              " 'المسلمين': 525,\n",
              " 'يوسف': 526,\n",
              " 'قيمه': 527,\n",
              " 'عليكم': 528,\n",
              " 'امر': 529,\n",
              " 'علشان': 530,\n",
              " '♡': 531,\n",
              " '😂😂': 532,\n",
              " 'تبقي': 533,\n",
              " 'الشيخ': 534,\n",
              " 'احبك': 535,\n",
              " 'امل': 536,\n",
              " 'وصلت': 537,\n",
              " '😕': 538,\n",
              " 'الفيلم': 539,\n",
              " 'الواحد': 540,\n",
              " 'الاتحاد': 541,\n",
              " 'ذكر': 542,\n",
              " 'صباحالخير': 543,\n",
              " 'يتحدث': 544,\n",
              " 'قراءتها': 545,\n",
              " 'اه': 546,\n",
              " 'لحظه': 547,\n",
              " 'النصر': 548,\n",
              " 'حسيت': 549,\n",
              " 'الكلمات': 550,\n",
              " 'السيارات': 551,\n",
              " 'احببت': 552,\n",
              " 'معي': 553,\n",
              " 'الادب': 554,\n",
              " 'علاقه': 555,\n",
              " 'شخصيات': 556,\n",
              " 'كاتب': 557,\n",
              " '😥': 558,\n",
              " 'الثانيه': 559,\n",
              " 'ضعيفه': 560,\n",
              " 'ممتعه': 561,\n",
              " 'البعض': 562,\n",
              " '☺': 563,\n",
              " 'لذلك': 564,\n",
              " 'النظر': 565,\n",
              " 'معك': 566,\n",
              " 'البطل': 567,\n",
              " 'عده': 568,\n",
              " 'الواي': 569,\n",
              " 'الوصول': 570,\n",
              " 'الامور': 571,\n",
              " 'الاكل': 572,\n",
              " 'الملك': 573,\n",
              " 'شوي': 574,\n",
              " 'ال…': 575,\n",
              " 'ازعاج': 576,\n",
              " 'ايش': 577,\n",
              " 'الشخص': 578,\n",
              " 'سء': 579,\n",
              " 'تقرا': 580,\n",
              " 'اشوف': 581,\n",
              " 'جداا': 582,\n",
              " 'رساله': 583,\n",
              " 'اقامه': 584,\n",
              " 'لحد': 585,\n",
              " 'التفاصيل': 586,\n",
              " 'صلي': 587,\n",
              " 'مافي': 588,\n",
              " 'اسمه': 589,\n",
              " 'وبعد': 590,\n",
              " 'بدات': 591,\n",
              " 'كانوا': 592,\n",
              " 'مصطفي': 593,\n",
              " 'الاخيره': 594,\n",
              " 'حدث': 595,\n",
              " 'الاخري': 596,\n",
              " 'الاخير': 597,\n",
              " 'الاثاث': 598,\n",
              " 'حياته': 599,\n",
              " 'مفيش': 600,\n",
              " 'اولا': 601,\n",
              " 'روح': 602,\n",
              " 'والنظافه': 603,\n",
              " 'وجه': 604,\n",
              " '🙈': 605,\n",
              " 'اعجبتني': 606,\n",
              " 'صحيح': 607,\n",
              " 'العرب': 608,\n",
              " '♀': 609,\n",
              " '🖤': 610,\n",
              " 'الجمال': 611,\n",
              " 'حبيبي': 612,\n",
              " 'المستوي': 613,\n",
              " '😚': 614,\n",
              " 'وكيف': 615,\n",
              " 'توجد': 616,\n",
              " 'وبين': 617,\n",
              " 'معها': 618,\n",
              " 'البحر': 619,\n",
              " 'وجدت': 620,\n",
              " 'الجميله': 621,\n",
              " '😌': 622,\n",
              " 'رايي': 623,\n",
              " 'نظري': 624,\n",
              " '🚶': 625,\n",
              " 'بسيطه': 626,\n",
              " 'يريد': 627,\n",
              " 'بسيط': 628,\n",
              " 'اين': 629,\n",
              " 'باذن': 630,\n",
              " 'ودي': 631,\n",
              " 'عنده': 632,\n",
              " 'وسط': 633,\n",
              " 'ضد': 634,\n",
              " 'ساعات': 635,\n",
              " '💞': 636,\n",
              " 'الكلمه': 637,\n",
              " 'شعور': 638,\n",
              " 'الوطن': 639,\n",
              " '—': 640,\n",
              " 'سرد': 641,\n",
              " 'موضوع': 642,\n",
              " 'اكتب': 643,\n",
              " 'موقف': 644,\n",
              " 'الجميل': 645,\n",
              " 'المطر': 646,\n",
              " 'يحدث': 647,\n",
              " 'المءلف': 648,\n",
              " 'الحديث': 649,\n",
              " 'عمري': 650,\n",
              " 'راحه': 651,\n",
              " 'الطريق': 652,\n",
              " 'الطعام': 653,\n",
              " 'واذا': 654,\n",
              " 'بهذه': 655,\n",
              " 'اروع': 656,\n",
              " 'للكاتب': 657,\n",
              " 'بسرعه': 658,\n",
              " 'مدري': 659,\n",
              " 'الحق': 660,\n",
              " 'انما': 661,\n",
              " 'كنا': 662,\n",
              " 'عارف': 663,\n",
              " 'عيني': 664,\n",
              " 'بانه': 665,\n",
              " 'العقل': 666,\n",
              " 'الهدوء': 667,\n",
              " '🤐': 668,\n",
              " 'مميز': 669,\n",
              " 'استطيع': 670,\n",
              " 'منا': 671,\n",
              " 'جاء': 672,\n",
              " 'اكيد': 673,\n",
              " 'شهر': 674,\n",
              " 'عاديه': 675,\n",
              " 'تحتاج': 676,\n",
              " 'تحب': 677,\n",
              " 'يبدو': 678,\n",
              " 'غالي': 679,\n",
              " 'روايات': 680,\n",
              " 'النبي': 681,\n",
              " 'امراه': 682,\n",
              " 'الرجال': 683,\n",
              " 'عجبني': 684,\n",
              " 'السبب': 685,\n",
              " 'تشعر': 686,\n",
              " 'الراحه': 687,\n",
              " 'كامل': 688,\n",
              " 'اشياء': 689,\n",
              " 'نظيفه': 690,\n",
              " 'قمه': 691,\n",
              " 'خدمات': 692,\n",
              " 'الصلاه': 693,\n",
              " 'الزمن': 694,\n",
              " 'المره': 695,\n",
              " 'طلبت': 696,\n",
              " 'لكني': 697,\n",
              " '👎': 698,\n",
              " 'النساء': 699,\n",
              " 'الشعب': 700,\n",
              " 'الاقامه': 701,\n",
              " 'اتوقع': 702,\n",
              " 'اليك': 703,\n",
              " 'اريد': 704,\n",
              " 'اصبح': 705,\n",
              " 'الحزن': 706,\n",
              " 'قليلا': 707,\n",
              " 'الصوره': 708,\n",
              " 'اكون': 709,\n",
              " 'الرغم': 710,\n",
              " 'تعجبني': 711,\n",
              " 'دبي': 712,\n",
              " 'استمتعت': 713,\n",
              " 'مرات': 714,\n",
              " 'باي': 715,\n",
              " 'نقطه': 716,\n",
              " 'قربه': 717,\n",
              " 'الانترنت': 718,\n",
              " 'نوع': 719,\n",
              " 'للروايه': 720,\n",
              " 'كلمات': 721,\n",
              " 'المفروض': 722,\n",
              " 'صفحات': 723,\n",
              " 'سنوات': 724,\n",
              " 'حقيقي': 725,\n",
              " '😗': 726,\n",
              " 'باسلوب': 727,\n",
              " 'وكذلك': 728,\n",
              " 'عبر': 729,\n",
              " 'عندك': 730,\n",
              " 'تجد': 731,\n",
              " 'قراءته': 732,\n",
              " 'عارفه': 733,\n",
              " 'قلوبنا': 734,\n",
              " '😙': 735,\n",
              " 'ياتي': 736,\n",
              " 'الفصل': 737,\n",
              " 'صراحه': 738,\n",
              " 'جيدا': 739,\n",
              " 'الاهلي': 740,\n",
              " 'اقرب': 741,\n",
              " 'مختلف': 742,\n",
              " 'روعه': 743,\n",
              " 'البيت': 744,\n",
              " 'الامل': 745,\n",
              " 'زمان': 746,\n",
              " 'موجود': 747,\n",
              " 'بالرغم': 748,\n",
              " 'السعوديه': 749,\n",
              " 'بدا': 750,\n",
              " 'افكار': 751,\n",
              " 'ابراهيم': 752,\n",
              " 'الرياض': 753,\n",
              " 'العام': 754,\n",
              " 'صاحب': 755,\n",
              " 'ليله': 756,\n",
              " 'بخير': 757,\n",
              " 'فلم': 758,\n",
              " 'الوصف': 759,\n",
              " 'ولن': 760,\n",
              " 'مراد': 761,\n",
              " 'تويتر': 762,\n",
              " '✅': 763,\n",
              " 'جميعا': 764,\n",
              " '🌿': 765,\n",
              " 'بعدها': 766,\n",
              " 'كثر': 767,\n",
              " 'الملل': 768,\n",
              " 'عجبتني': 769,\n",
              " 'بالفندق': 770,\n",
              " 'غريبه': 771,\n",
              " 'الفتره': 772,\n",
              " 'طويله': 773,\n",
              " 'ممتع': 774,\n",
              " 'فيهم': 775,\n",
              " 'فيني': 776,\n",
              " 'احلام': 777,\n",
              " 'الجو': 778,\n",
              " 'الشيء': 779,\n",
              " 'فعل': 780,\n",
              " 'حاجات': 781,\n",
              " 'الاقل': 782,\n",
              " 'ولكنه': 783,\n",
              " 'توفر': 784,\n",
              " 'دور': 785,\n",
              " 'المشاعر': 786,\n",
              " '💘': 787,\n",
              " '💪': 788,\n",
              " 'راي': 789,\n",
              " 'عني': 790,\n",
              " 'الدوله': 791,\n",
              " 'يقرا': 792,\n",
              " 'الاطفال': 793,\n",
              " 'بنفس': 794,\n",
              " 'قوي': 795,\n",
              " '💗': 796,\n",
              " 'الماء': 797,\n",
              " 'ازاي': 798,\n",
              " 'بعيدا': 799,\n",
              " 'للفندق': 800,\n",
              " 'عنك': 801,\n",
              " 'الصفحات': 802,\n",
              " 'المهم': 803,\n",
              " 'العمر': 804,\n",
              " 'النت': 805,\n",
              " 'نور': 806,\n",
              " 'السماء': 807,\n",
              " 'زياده': 808,\n",
              " 'وكانت': 809,\n",
              " '😪': 810,\n",
              " 'قدر': 811,\n",
              " '🤷': 812,\n",
              " 'اغلب': 813,\n",
              " 'ثانيه': 814,\n",
              " 'شكل': 815,\n",
              " 'فصل': 816,\n",
              " 'استطع': 817,\n",
              " 'الاطلاق': 818,\n",
              " 'الحرب': 819,\n",
              " 'الشباب': 820,\n",
              " 'بطل': 821,\n",
              " 'الفطور': 822,\n",
              " 'نص': 823,\n",
              " 'الكبير': 824,\n",
              " 'اظن': 825,\n",
              " 'كتبت': 826,\n",
              " 'القلوب': 827,\n",
              " 'المدينه': 828,\n",
              " 'اقراها': 829,\n",
              " 'حرام': 830,\n",
              " 'واللي': 831,\n",
              " 'طبيعي': 832,\n",
              " '♂': 833,\n",
              " 'الخروج': 834,\n",
              " 'نجيب': 835,\n",
              " 'حياتك': 836,\n",
              " 'سواء': 837,\n",
              " 'مر': 838,\n",
              " 'نظره': 839,\n",
              " 'توفيق': 840,\n",
              " '😣': 841,\n",
              " 'رضي': 842,\n",
              " 'كميه': 843,\n",
              " 'بيها': 844,\n",
              " 'محفوظ': 845,\n",
              " 'الفنادق': 846,\n",
              " 'عم': 847,\n",
              " 'مليون': 848,\n",
              " 'العاملين': 849,\n",
              " 'قليله': 850,\n",
              " 'بكثير': 851,\n",
              " 'وضع': 852,\n",
              " 'وحتي': 853,\n",
              " 'طلب': 854,\n",
              " 'قراته': 855,\n",
              " 'عندهم': 856,\n",
              " 'كانه': 857,\n",
              " 'رمضان': 858,\n",
              " 'كلهم': 859,\n",
              " 'الم': 860,\n",
              " '💖': 861,\n",
              " 'غريب': 862,\n",
              " 'صعب': 863,\n",
              " 'اليها': 864,\n",
              " 'ممل': 865,\n",
              " 'شفت': 866,\n",
              " 'رسول': 867,\n",
              " 'اعمال': 868,\n",
              " 'صدق': 869,\n",
              " 'محاوله': 870,\n",
              " 'مطعم': 871,\n",
              " 'خالص': 872,\n",
              " 'الباب': 873,\n",
              " 'اخذ': 874,\n",
              " 'خلق': 875,\n",
              " 'سوء': 876,\n",
              " 'الشمس': 877,\n",
              " 'معظم': 878,\n",
              " 'الشعر': 879,\n",
              " 'صل': 880,\n",
              " 'سعاده': 881,\n",
              " 'الكل': 882,\n",
              " 'البحث': 883,\n",
              " 'وعن': 884,\n",
              " 'كامله': 885,\n",
              " 'قصيره': 886,\n",
              " 'دقيقه': 887,\n",
              " 'الحكم': 888,\n",
              " 'وهم': 889,\n",
              " 'امس': 890,\n",
              " 'بالاضافه': 891,\n",
              " 'المبلغ': 892,\n",
              " 'غرف': 893,\n",
              " 'لسه': 894,\n",
              " 'مشاعر': 895,\n",
              " 'بينما': 896,\n",
              " 'الشقه': 897,\n",
              " 'تغير': 898,\n",
              " 'زمن': 899,\n",
              " 'عموما': 900,\n",
              " 'العالمين': 901,\n",
              " 'ناحيه': 902,\n",
              " 'بالفعل': 903,\n",
              " 'الوحيده': 904,\n",
              " 'روحي': 905,\n",
              " '📌': 906,\n",
              " 'لاشي': 907,\n",
              " 'الغير': 908,\n",
              " 'رد': 909,\n",
              " 'افهم': 910,\n",
              " 'الماضي': 911,\n",
              " 'ومع': 912,\n",
              " 'العراق': 913,\n",
              " 'قويه': 914,\n",
              " 'يالله': 915,\n",
              " 'اقوي': 916,\n",
              " 'فما': 917,\n",
              " 'دايما': 918,\n",
              " 'يحب': 919,\n",
              " 'تحمل': 920,\n",
              " 'بذلك': 921,\n",
              " 'انو': 922,\n",
              " 'تنتهي': 923,\n",
              " 'عربي': 924,\n",
              " 'مريحه': 925,\n",
              " 'ترا': 926,\n",
              " 'النوع': 927,\n",
              " 'مول': 928,\n",
              " 'جد': 929,\n",
              " 'عرفت': 930,\n",
              " 'ارض': 931,\n",
              " 'كلنا': 932,\n",
              " '🌼': 933,\n",
              " 'قالت': 934,\n",
              " 'سعيد': 935,\n",
              " 'فجاه': 936,\n",
              " 'نظر': 937,\n",
              " 'كويس': 938,\n",
              " 'مدي': 939,\n",
              " 'ماهو': 940,\n",
              " 'حينما': 941,\n",
              " 'الالم': 942,\n",
              " 'طوال': 943,\n",
              " 'خفيف': 944,\n",
              " 'الام': 945,\n",
              " 'البشريه': 946,\n",
              " 'درجه': 947,\n",
              " 'تدور': 948,\n",
              " 'سعر': 949,\n",
              " 'نصف': 950,\n",
              " 'امه': 951,\n",
              " 'حل': 952,\n",
              " 'تغيير': 953,\n",
              " 'دول': 954,\n",
              " '”': 955,\n",
              " 'اسلوبه': 956,\n",
              " 'باس': 957,\n",
              " 'اسعد': 958,\n",
              " 'اراد': 959,\n",
              " 'نجمتين': 960,\n",
              " 'لهذه': 961,\n",
              " 'تستطيع': 962,\n",
              " 'فهم': 963,\n",
              " 'الاخرين': 964,\n",
              " 'قرب': 965,\n",
              " 'الصور': 966,\n",
              " 'يعمل': 967,\n",
              " 'واي': 968,\n",
              " 'قليل': 969,\n",
              " 'السءال': 970,\n",
              " 'المصري': 971,\n",
              " 'وربي': 972,\n",
              " 'ولكنها': 973,\n",
              " 'تتحدث': 974,\n",
              " 'اجعل': 975,\n",
              " '😜': 976,\n",
              " 'اخيرا': 977,\n",
              " 'ومش': 978,\n",
              " 'مافيه': 979,\n",
              " 'يري': 980,\n",
              " 'لاي': 981,\n",
              " 'السنه': 982,\n",
              " 'مقارنه': 983,\n",
              " 'السياره': 984,\n",
              " 'الصبح': 985,\n",
              " 'قديمه': 986,\n",
              " 'افكر': 987,\n",
              " 'بشده': 988,\n",
              " 'شو': 989,\n",
              " 'ضيقه': 990,\n",
              " 'حكايه': 991,\n",
              " 'قل': 992,\n",
              " 'موظفي': 993,\n",
              " 'فلسطين': 994,\n",
              " 'دوره': 995,\n",
              " 'عندنا': 996,\n",
              " 'اربع': 997,\n",
              " 'صباحا': 998,\n",
              " 'و…': 999,\n",
              " 'النص': 1000,\n",
              " ...}"
            ]
          },
          "metadata": {},
          "execution_count": 23
        }
      ]
    },
    {
      "cell_type": "code",
      "source": [
        "n_words = len(tokenizer.word_index)\n",
        "n_words"
      ],
      "metadata": {
        "colab": {
          "base_uri": "https://localhost:8080/"
        },
        "id": "xpO6PEiWYUnm",
        "outputId": "23345e8b-3e10-44ed-ecc0-f4c6d5bf68d8"
      },
      "execution_count": null,
      "outputs": [
        {
          "output_type": "execute_result",
          "data": {
            "text/plain": [
              "272872"
            ]
          },
          "metadata": {},
          "execution_count": 24
        }
      ]
    },
    {
      "cell_type": "code",
      "source": [
        "# texts to sequences\n",
        "def texts2sequences(txt):\n",
        "  return tokenizer.texts_to_sequences(txt) \n",
        "\n",
        "x_train = texts2sequences(x_train)\n",
        "x_valid = texts2sequences(x_valid)\n",
        "x_test  = texts2sequences(x_test)\n",
        "\n",
        "x_train[15:20]"
      ],
      "metadata": {
        "colab": {
          "base_uri": "https://localhost:8080/"
        },
        "id": "v_TkeZgrl-0I",
        "outputId": "51412c9e-7030-448f-bd56-3113adf1a42e"
      },
      "execution_count": null,
      "outputs": [
        {
          "output_type": "execute_result",
          "data": {
            "text/plain": [
              "[[18032,\n",
              "  1401,\n",
              "  8899,\n",
              "  1401,\n",
              "  29610,\n",
              "  1401,\n",
              "  45383,\n",
              "  1401,\n",
              "  32235,\n",
              "  1401,\n",
              "  731,\n",
              "  5,\n",
              "  127104,\n",
              "  27344,\n",
              "  1843,\n",
              "  44],\n",
              " [830,\n",
              "  469,\n",
              "  82810,\n",
              "  3,\n",
              "  1971,\n",
              "  39788,\n",
              "  4120,\n",
              "  3,\n",
              "  210,\n",
              "  2282,\n",
              "  6844,\n",
              "  11,\n",
              "  8150,\n",
              "  300,\n",
              "  3,\n",
              "  1971,\n",
              "  8,\n",
              "  405,\n",
              "  575],\n",
              " [30,\n",
              "  2,\n",
              "  2442,\n",
              "  3,\n",
              "  1085,\n",
              "  12295,\n",
              "  64142,\n",
              "  3,\n",
              "  39789,\n",
              "  2,\n",
              "  11179,\n",
              "  664,\n",
              "  2188,\n",
              "  32236,\n",
              "  3,\n",
              "  7829,\n",
              "  87],\n",
              " [3374, 467, 19968, 19969, 2840, 248, 15168, 100, 1360, 522, 46, 127105, 38],\n",
              " [200, 68, 33, 3129, 2296, 86]]"
            ]
          },
          "metadata": {},
          "execution_count": 25
        }
      ]
    },
    {
      "cell_type": "code",
      "source": [
        "sentences_len = [len(sentence) for sentence in x_train if len(sentence)<150 ]\n",
        "plt.hist(sentences_len)"
      ],
      "metadata": {
        "colab": {
          "base_uri": "https://localhost:8080/",
          "height": 517
        },
        "id": "CKqLQrdSl-7j",
        "outputId": "9242bb10-dbc2-4536-bda5-6d3039b3c058"
      },
      "execution_count": null,
      "outputs": [
        {
          "output_type": "execute_result",
          "data": {
            "text/plain": [
              "(array([106354.,  35333.,   5172.,   2675.,   1728.,   1185.,    860.,\n",
              "           623.,    447.,    398.]),\n",
              " array([  0. ,  14.9,  29.8,  44.7,  59.6,  74.5,  89.4, 104.3, 119.2,\n",
              "        134.1, 149. ]),\n",
              " <BarContainer object of 10 artists>)"
            ]
          },
          "metadata": {},
          "execution_count": 26
        },
        {
          "output_type": "display_data",
          "data": {
            "text/plain": [
              "<Figure size 640x480 with 1 Axes>"
            ],
            "image/png": "[encoded data removed]"
          },
          "metadata": {}
        }
      ]
    },
    {
      "cell_type": "code",
      "source": [
        "# len([(sentence) for sentence in data['text'] if len(sentence.split())<3])\n"
      ],
      "metadata": {
        "id": "2TtnnBRaktXu"
      },
      "execution_count": null,
      "outputs": []
    },
    {
      "cell_type": "code",
      "source": [
        "# pading\n",
        "sentence_length = 100\n",
        "def padding(txt):\n",
        "  return pad_sequences(txt, maxlen = sentence_length, padding='post')\n",
        "\n",
        "x_train = padding(x_train)\n",
        "x_valid = padding(x_valid)\n",
        "x_test  = padding(x_test)\n",
        "x_train[100:105]"
      ],
      "metadata": {
        "colab": {
          "base_uri": "https://localhost:8080/"
        },
        "id": "eMnMjc3pl_Jw",
        "outputId": "c860f281-20fd-4667-a1d3-361b24c5a775"
      },
      "execution_count": null,
      "outputs": [
        {
          "output_type": "execute_result",
          "data": {
            "text/plain": [
              "array([[   743,   2673,    367,   1191,    849,     33,      0,      0,\n",
              "             0,      0,      0,      0,      0,      0,      0,      0,\n",
              "             0,      0,      0,      0,      0,      0,      0,      0,\n",
              "             0,      0,      0,      0,      0,      0,      0,      0,\n",
              "             0,      0,      0,      0,      0,      0,      0,      0,\n",
              "             0,      0,      0,      0,      0,      0,      0,      0,\n",
              "             0,      0,      0,      0,      0,      0,      0,      0,\n",
              "             0,      0,      0,      0,      0,      0,      0,      0,\n",
              "             0,      0,      0,      0,      0,      0,      0,      0,\n",
              "             0,      0,      0,      0,      0,      0,      0,      0,\n",
              "             0,      0,      0,      0,      0,      0,      0,      0,\n",
              "             0,      0,      0,      0,      0,      0,      0,      0,\n",
              "             0,      0,      0,      0],\n",
              "       [   341,  13120,   2737,    347,  19975,     51,     65,    603,\n",
              "          1403,      5,   2979,      5,     62,   1418,   1121,    227,\n",
              "             2,  39803,   1331,    701,     36,     94,      0,      0,\n",
              "             0,      0,      0,      0,      0,      0,      0,      0,\n",
              "             0,      0,      0,      0,      0,      0,      0,      0,\n",
              "             0,      0,      0,      0,      0,      0,      0,      0,\n",
              "             0,      0,      0,      0,      0,      0,      0,      0,\n",
              "             0,      0,      0,      0,      0,      0,      0,      0,\n",
              "             0,      0,      0,      0,      0,      0,      0,      0,\n",
              "             0,      0,      0,      0,      0,      0,      0,      0,\n",
              "             0,      0,      0,      0,      0,      0,      0,      0,\n",
              "             0,      0,      0,      0,      0,      0,      0,      0,\n",
              "             0,      0,      0,      0],\n",
              "       [127151,    587,    433,   3574,      3,   1089,  22362,    115,\n",
              "           587,      5,    433,    345,      0,      0,      0,      0,\n",
              "             0,      0,      0,      0,      0,      0,      0,      0,\n",
              "             0,      0,      0,      0,      0,      0,      0,      0,\n",
              "             0,      0,      0,      0,      0,      0,      0,      0,\n",
              "             0,      0,      0,      0,      0,      0,      0,      0,\n",
              "             0,      0,      0,      0,      0,      0,      0,      0,\n",
              "             0,      0,      0,      0,      0,      0,      0,      0,\n",
              "             0,      0,      0,      0,      0,      0,      0,      0,\n",
              "             0,      0,      0,      0,      0,      0,      0,      0,\n",
              "             0,      0,      0,      0,      0,      0,      0,      0,\n",
              "             0,      0,      0,      0,      0,      0,      0,      0,\n",
              "             0,      0,      0,      0],\n",
              "       [   156,   3709,   7508,   1396,  29614,    873,  82855,   1530,\n",
              "          3347,    487,      0,      0,      0,      0,      0,      0,\n",
              "             0,      0,      0,      0,      0,      0,      0,      0,\n",
              "             0,      0,      0,      0,      0,      0,      0,      0,\n",
              "             0,      0,      0,      0,      0,      0,      0,      0,\n",
              "             0,      0,      0,      0,      0,      0,      0,      0,\n",
              "             0,      0,      0,      0,      0,      0,      0,      0,\n",
              "             0,      0,      0,      0,      0,      0,      0,      0,\n",
              "             0,      0,      0,      0,      0,      0,      0,      0,\n",
              "             0,      0,      0,      0,      0,      0,      0,      0,\n",
              "             0,      0,      0,      0,      0,      0,      0,      0,\n",
              "             0,      0,      0,      0,      0,      0,      0,      0,\n",
              "             0,      0,      0,      0],\n",
              "       [  1058,  52916,    520,      0,      0,      0,      0,      0,\n",
              "             0,      0,      0,      0,      0,      0,      0,      0,\n",
              "             0,      0,      0,      0,      0,      0,      0,      0,\n",
              "             0,      0,      0,      0,      0,      0,      0,      0,\n",
              "             0,      0,      0,      0,      0,      0,      0,      0,\n",
              "             0,      0,      0,      0,      0,      0,      0,      0,\n",
              "             0,      0,      0,      0,      0,      0,      0,      0,\n",
              "             0,      0,      0,      0,      0,      0,      0,      0,\n",
              "             0,      0,      0,      0,      0,      0,      0,      0,\n",
              "             0,      0,      0,      0,      0,      0,      0,      0,\n",
              "             0,      0,      0,      0,      0,      0,      0,      0,\n",
              "             0,      0,      0,      0,      0,      0,      0,      0,\n",
              "             0,      0,      0,      0]], dtype=int32)"
            ]
          },
          "metadata": {},
          "execution_count": 27
        }
      ]
    },
    {
      "cell_type": "markdown",
      "source": [
        "frequency of words in the data"
      ],
      "metadata": {
        "id": "QDJSbldsZoQf"
      }
    },
    {
      "cell_type": "code",
      "source": [
        "freq = pd.Series(' '.join(clean_text).split()).value_counts()\n",
        "# freq = list(freq.index)\n",
        "len(freq)"
      ],
      "metadata": {
        "id": "qkQIrPmu4Pel",
        "colab": {
          "base_uri": "https://localhost:8080/"
        },
        "outputId": "297941b8-0ec3-40ab-b07d-620f7f7f0f16"
      },
      "execution_count": null,
      "outputs": [
        {
          "output_type": "execute_result",
          "data": {
            "text/plain": [
              "339270"
            ]
          },
          "metadata": {},
          "execution_count": 38
        }
      ]
    },
    {
      "cell_type": "code",
      "source": [
        "freq.values[:109002],freq.index[:109002]"
      ],
      "metadata": {
        "colab": {
          "base_uri": "https://localhost:8080/"
        },
        "id": "cnRwMPx6VKjV",
        "outputId": "98046090-a864-4acd-b575-d4bb1dbf5e76"
      },
      "execution_count": null,
      "outputs": [
        {
          "output_type": "execute_result",
          "data": {
            "text/plain": [
              "(array([54239, 47760, 31184, ...,     2,     2,     2]),\n",
              " Index(['ان', 'علي', '،', 'جدا', 'الله', 'الي', 'الروايه', 'الكتاب', 'او', '💔',\n",
              "        ...\n",
              "        'يلاحقني', 'يغتر', 'تقاعده', 'اروحا', 'لانجاب', 'تمردنا', 'للاسلامين',\n",
              "        'لربعا', 'المختلف،', 'المغزي،'],\n",
              "       dtype='object', length=109002))"
            ]
          },
          "metadata": {},
          "execution_count": 39
        }
      ]
    },
    {
      "cell_type": "code",
      "source": [
        "freq.values[:20]"
      ],
      "metadata": {
        "colab": {
          "base_uri": "https://localhost:8080/"
        },
        "id": "Kw3WyLFSVKqG",
        "outputId": "a8984663-d873-4025-a3a4-437883b4c365"
      },
      "execution_count": null,
      "outputs": [
        {
          "output_type": "execute_result",
          "data": {
            "text/plain": [
              "array([54239, 47760, 31184, 24986, 23775, 22369, 18279, 15825, 15574,\n",
              "       13532, 13035, 12957, 11720, 11538, 10689, 10183, 10016,  9176,\n",
              "        8579,  8424])"
            ]
          },
          "metadata": {},
          "execution_count": 40
        }
      ]
    },
    {
      "cell_type": "code",
      "source": [],
      "metadata": {
        "id": "Qu1OzJMFZMX2"
      },
      "execution_count": null,
      "outputs": []
    },
    {
      "cell_type": "markdown",
      "source": [
        "## Conv1D model"
      ],
      "metadata": {
        "id": "vxO8W9jajSQp"
      }
    },
    {
      "cell_type": "code",
      "source": [
        "from tensorflow.keras import models,layers,regularizers\n",
        "import tensorflow\n",
        "from sklearn.metrics import confusion_matrix,classification_report\n",
        "\n",
        "embedding_vector_size = 128\n"
      ],
      "metadata": {
        "id": "Xsr6iUx3jQxB"
      },
      "execution_count": null,
      "outputs": []
    },
    {
      "cell_type": "code",
      "source": [
        "model1 = models.Sequential()\n",
        "model1.add(layers.Embedding(n_words+1, 256, input_length=sentence_length,mask_zero=True ))\n",
        "model1.add(layers.Conv1D(128, 5, activation='relu'))\n",
        "model1.add(layers.Conv1D(128, 5, activation='relu'))\n",
        "model1.add(layers.GlobalMaxPooling1D())\n",
        "model1.add(layers.Dense(32, activation='relu'))  \n",
        "# lstm_model.add(layers.LSTM(128,activation='relu')) #,kernel_regularizer=regularizers.l2(0.01)\n",
        "model1.add(layers.Dropout(0.2))\n",
        "model1.add(layers.Dense(1, activation='sigmoid'))\n"
      ],
      "metadata": {
        "id": "a_C-w8XStMgf"
      },
      "execution_count": null,
      "outputs": []
    },
    {
      "cell_type": "code",
      "source": [
        "model1.summary()"
      ],
      "metadata": {
        "colab": {
          "base_uri": "https://localhost:8080/"
        },
        "id": "2RSK3CarsMUh",
        "outputId": "11fd0055-65e9-470e-d71e-cfd1456d9dc0"
      },
      "execution_count": null,
      "outputs": [
        {
          "output_type": "stream",
          "name": "stdout",
          "text": [
            "Model: \"sequential\"\n",
            "_________________________________________________________________\n",
            " Layer (type)                Output Shape              Param #   \n",
            "=================================================================\n",
            " embedding (Embedding)       (None, 100, 256)          64937728  \n",
            "                                                                 \n",
            " conv1d (Conv1D)             (None, 96, 128)           163968    \n",
            "                                                                 \n",
            " conv1d_1 (Conv1D)           (None, 92, 128)           82048     \n",
            "                                                                 \n",
            " global_max_pooling1d (Globa  (None, 128)              0         \n",
            " lMaxPooling1D)                                                  \n",
            "                                                                 \n",
            " dense (Dense)               (None, 32)                4128      \n",
            "                                                                 \n",
            " dropout (Dropout)           (None, 32)                0         \n",
            "                                                                 \n",
            " dense_1 (Dense)             (None, 1)                 33        \n",
            "                                                                 \n",
            "=================================================================\n",
            "Total params: 65,187,905\n",
            "Trainable params: 65,187,905\n",
            "Non-trainable params: 0\n",
            "_________________________________________________________________\n"
          ]
        }
      ]
    },
    {
      "cell_type": "code",
      "source": [
        "tensorflow.keras.utils.plot_model(model1,show_shapes=True)"
      ],
      "metadata": {
        "colab": {
          "base_uri": "https://localhost:8080/",
          "height": 865
        },
        "id": "nyBVuKxosUHF",
        "outputId": "e620328a-471c-4672-8c08-2297399341fd"
      },
      "execution_count": null,
      "outputs": [
        {
          "output_type": "execute_result",
          "data": {
            "image/png": "[encoded data removed]",
            "text/plain": [
              "<IPython.core.display.Image object>"
            ]
          },
          "metadata": {},
          "execution_count": 44
        }
      ]
    },
    {
      "cell_type": "code",
      "source": [
        "import tensorflow as tf\n",
        "model1.compile(loss='binary_crossentropy',optimizer='adam',metrics=['acc'])\n",
        "history = model1.fit(x_train,y_train,batch_size=256,epochs=20, validation_data=[x_valid,y_valid], verbose=1) # validation_split=0.25\n"
      ],
      "metadata": {
        "colab": {
          "base_uri": "https://localhost:8080/"
        },
        "id": "rk_iIJ2ItMoZ",
        "outputId": "821e37ab-bdf7-4512-a19b-878e0ef41892"
      },
      "execution_count": null,
      "outputs": [
        {
          "output_type": "stream",
          "name": "stdout",
          "text": [
            "Epoch 1/20\n",
            "457/457 [==============================] - 98s 204ms/step - loss: 0.3139 - acc: 0.8489 - val_loss: 0.2516 - val_acc: 0.8842\n",
            "Epoch 2/20\n",
            "457/457 [==============================] - 56s 122ms/step - loss: 0.1286 - acc: 0.9529 - val_loss: 0.3117 - val_acc: 0.8791\n",
            "Epoch 3/20\n",
            "457/457 [==============================] - 43s 94ms/step - loss: 0.0397 - acc: 0.9881 - val_loss: 0.3733 - val_acc: 0.8743\n",
            "Epoch 4/20\n",
            "457/457 [==============================] - 36s 80ms/step - loss: 0.0185 - acc: 0.9943 - val_loss: 0.5017 - val_acc: 0.8748\n",
            "Epoch 5/20\n",
            "457/457 [==============================] - 29s 63ms/step - loss: 0.0099 - acc: 0.9963 - val_loss: 0.5965 - val_acc: 0.8700\n",
            "Epoch 6/20\n",
            "457/457 [==============================] - 23s 50ms/step - loss: 0.0075 - acc: 0.9968 - val_loss: 0.6640 - val_acc: 0.8688\n",
            "Epoch 7/20\n",
            "457/457 [==============================] - 26s 56ms/step - loss: 0.0084 - acc: 0.9966 - val_loss: 0.7210 - val_acc: 0.8681\n",
            "Epoch 8/20\n",
            "457/457 [==============================] - 21s 46ms/step - loss: 0.0088 - acc: 0.9964 - val_loss: 0.8032 - val_acc: 0.8711\n",
            "Epoch 9/20\n",
            "457/457 [==============================] - 22s 47ms/step - loss: 0.0083 - acc: 0.9965 - val_loss: 0.6698 - val_acc: 0.8668\n",
            "Epoch 10/20\n",
            "457/457 [==============================] - 21s 46ms/step - loss: 0.0072 - acc: 0.9968 - val_loss: 0.7455 - val_acc: 0.8692\n",
            "Epoch 11/20\n",
            "457/457 [==============================] - 20s 44ms/step - loss: 0.0075 - acc: 0.9967 - val_loss: 0.8356 - val_acc: 0.8672\n",
            "Epoch 12/20\n",
            "457/457 [==============================] - 19s 42ms/step - loss: 0.0062 - acc: 0.9971 - val_loss: 0.8015 - val_acc: 0.8705\n",
            "Epoch 13/20\n",
            "457/457 [==============================] - 20s 45ms/step - loss: 0.0051 - acc: 0.9975 - val_loss: 0.9303 - val_acc: 0.8648\n",
            "Epoch 14/20\n",
            "457/457 [==============================] - 19s 41ms/step - loss: 0.0046 - acc: 0.9976 - val_loss: 1.2478 - val_acc: 0.8649\n",
            "Epoch 15/20\n",
            "457/457 [==============================] - 17s 38ms/step - loss: 0.0055 - acc: 0.9975 - val_loss: 0.9436 - val_acc: 0.8666\n",
            "Epoch 16/20\n",
            "457/457 [==============================] - 17s 37ms/step - loss: 0.0053 - acc: 0.9975 - val_loss: 0.9435 - val_acc: 0.8706\n",
            "Epoch 17/20\n",
            "457/457 [==============================] - 17s 38ms/step - loss: 0.0056 - acc: 0.9976 - val_loss: 0.7838 - val_acc: 0.8689\n",
            "Epoch 18/20\n",
            "457/457 [==============================] - 18s 39ms/step - loss: 0.0055 - acc: 0.9977 - val_loss: 0.7720 - val_acc: 0.8673\n",
            "Epoch 19/20\n",
            "457/457 [==============================] - 17s 37ms/step - loss: 0.0043 - acc: 0.9979 - val_loss: 0.9520 - val_acc: 0.8668\n",
            "Epoch 20/20\n",
            "457/457 [==============================] - 18s 38ms/step - loss: 0.0040 - acc: 0.9978 - val_loss: 0.9815 - val_acc: 0.8652\n"
          ]
        }
      ]
    },
    {
      "cell_type": "code",
      "source": [
        "acc = history.history['acc']\n",
        "loss = history.history['loss']\n",
        "val_acc = history.history['val_acc']\n",
        "val_loss = history.history['val_loss']\n",
        "\n",
        "plt.plot( acc, label='Training acc')\n",
        "plt.plot( val_acc, 'b', label='Validation acc')\n",
        "plt.title('Training and validation accuracy')\n",
        "plt.xlabel('Epochs')\n",
        "plt.ylabel('accuracy')\n",
        "plt.legend()\n",
        "plt.show()\n",
        "\n",
        "plt.plot( loss, label='Training loss')\n",
        "plt.plot( val_loss, 'b', label='Validation loss')\n",
        "plt.title('Training and validation loss')\n",
        "plt.xlabel('Epochs')\n",
        "plt.ylabel('Loss')\n",
        "plt.legend()"
      ],
      "metadata": {
        "id": "OjxmaB40tue3"
      },
      "execution_count": null,
      "outputs": []
    },
    {
      "cell_type": "code",
      "source": [
        "from sklearn.metrics import confusion_matrix,classification_report\n",
        "lstm_pred = model1.predict(x_valid)\n",
        "lstm_pred = np.argmax(lstm_pred, axis=1)\n",
        "print('cm :\\n',confusion_matrix(y_valid, lstm_pred))\n",
        "print('clssification report :\\n',classification_report(y_valid, lstm_pred))"
      ],
      "metadata": {
        "id": "9KFivKRaFaKm"
      },
      "execution_count": null,
      "outputs": []
    },
    {
      "cell_type": "markdown",
      "metadata": {
        "id": "AojjKyG-fJeE"
      },
      "source": [
        "## LSTM model\n"
      ]
    },
    {
      "cell_type": "code",
      "execution_count": null,
      "metadata": {
        "colab": {
          "base_uri": "https://localhost:8080/"
        },
        "id": "Rh4xZjALfIXe",
        "outputId": "1b42d46f-bb90-45ea-82a6-88c2b17a4bef"
      },
      "outputs": [
        {
          "output_type": "stream",
          "name": "stdout",
          "text": [
            "Model: \"sequential\"\n",
            "_________________________________________________________________\n",
            " Layer (type)                Output Shape              Param #   \n",
            "=================================================================\n",
            " embedding (Embedding)       (None, 100, 256)          69855488  \n",
            "                                                                 \n",
            " lstm (LSTM)                 (None, 128)               197120    \n",
            "                                                                 \n",
            " dropout (Dropout)           (None, 128)               0         \n",
            "                                                                 \n",
            " dense (Dense)               (None, 1)                 129       \n",
            "                                                                 \n",
            "=================================================================\n",
            "Total params: 70,052,737\n",
            "Trainable params: 70,052,737\n",
            "Non-trainable params: 0\n",
            "_________________________________________________________________\n"
          ]
        }
      ],
      "source": [
        "from tensorflow.keras import models,layers,regularizers\n",
        "import tensorflow\n",
        "embedding_vector_size = 256\n",
        "lstm_model = models.Sequential()\n",
        "lstm_model.add(layers.Embedding(n_words+1, embedding_vector_size, input_length=sentence_length,mask_zero=True))\n",
        "lstm_model.add(layers.LSTM(128,activation='relu')) #,kernel_regularizer=regularizers.l2(0.01)\n",
        "lstm_model.add(layers.Dropout(.25))\n",
        "lstm_model.add(layers.Dense(1,activation='sigmoid'))\n",
        "lstm_model.summary()\n"
      ]
    },
    {
      "cell_type": "code",
      "execution_count": null,
      "metadata": {
        "colab": {
          "base_uri": "https://localhost:8080/",
          "height": 533
        },
        "id": "8P-YoDgkSNXs",
        "outputId": "2870924d-16c2-448b-a9ca-72fb8761ffd7"
      },
      "outputs": [
        {
          "output_type": "execute_result",
          "data": {
            "image/png": "[encoded data removed]",
            "text/plain": [
              "<IPython.core.display.Image object>"
            ]
          },
          "metadata": {},
          "execution_count": 42
        }
      ],
      "source": [
        "tensorflow.keras.utils.plot_model(lstm_model,show_shapes=True)\n"
      ]
    },
    {
      "cell_type": "code",
      "execution_count": null,
      "metadata": {
        "colab": {
          "base_uri": "https://localhost:8080/"
        },
        "id": "Io8fHC6jgBIG",
        "outputId": "09377a6b-b81d-47a6-d605-7c82264910f8"
      },
      "outputs": [
        {
          "output_type": "stream",
          "name": "stdout",
          "text": [
            "Epoch 1/20\n",
            "613/613 [==============================] - 1124s 2s/step - loss: 0.6113 - acc: 0.7921 - val_loss: 0.3433 - val_acc: 0.8700\n",
            "Epoch 2/20\n",
            "613/613 [==============================] - 1124s 2s/step - loss: 0.3136 - acc: 0.8830 - val_loss: 0.4293 - val_acc: 0.8826\n",
            "Epoch 3/20\n",
            "613/613 [==============================] - 1161s 2s/step - loss: 0.2596 - acc: 0.9072 - val_loss: 3364.7009 - val_acc: 0.8875\n",
            "Epoch 4/20\n",
            "613/613 [==============================] - 1109s 2s/step - loss: 0.2256 - acc: 0.9247 - val_loss: 2.4320 - val_acc: 0.8854\n",
            "Epoch 5/20\n",
            "613/613 [==============================] - 1155s 2s/step - loss: 113.3342 - acc: 0.9371 - val_loss: 8.7950 - val_acc: 0.8875\n",
            "Epoch 6/20\n",
            "613/613 [==============================] - 1158s 2s/step - loss: 0.1741 - acc: 0.9441 - val_loss: 0.3011 - val_acc: 0.8907\n",
            "Epoch 7/20\n",
            "613/613 [==============================] - 1145s 2s/step - loss: 0.1571 - acc: 0.9506 - val_loss: 0.4192 - val_acc: 0.8655\n",
            "Epoch 8/20\n",
            "613/613 [==============================] - 1287s 2s/step - loss: 0.1440 - acc: 0.9559 - val_loss: 0.3052 - val_acc: 0.8893\n",
            "Epoch 9/20\n",
            "613/613 [==============================] - 1208s 2s/step - loss: 0.1311 - acc: 0.9609 - val_loss: 0.3329 - val_acc: 0.8906\n",
            "Epoch 10/20\n",
            "613/613 [==============================] - 1147s 2s/step - loss: 0.1200 - acc: 0.9645 - val_loss: 0.3337 - val_acc: 0.8881\n",
            "Epoch 11/20\n",
            "613/613 [==============================] - 1146s 2s/step - loss: 0.1105 - acc: 0.9683 - val_loss: 0.3316 - val_acc: 0.8914\n",
            "Epoch 12/20\n",
            "613/613 [==============================] - 1150s 2s/step - loss: 0.1015 - acc: 0.9711 - val_loss: 0.3621 - val_acc: 0.8867\n",
            "Epoch 13/20\n",
            "613/613 [==============================] - 1184s 2s/step - loss: 0.0954 - acc: 0.9736 - val_loss: 0.3691 - val_acc: 0.8886\n",
            "Epoch 14/20\n",
            "613/613 [==============================] - 1152s 2s/step - loss: 0.0879 - acc: 0.9760 - val_loss: 0.4673 - val_acc: 0.8661\n",
            "Epoch 15/20\n",
            "613/613 [==============================] - 1150s 2s/step - loss: 0.0829 - acc: 0.9780 - val_loss: 0.4302 - val_acc: 0.8670\n",
            "Epoch 16/20\n",
            "613/613 [==============================] - 1155s 2s/step - loss: 0.0770 - acc: 0.9799 - val_loss: 0.5870 - val_acc: 0.8713\n",
            "Epoch 17/20\n",
            "613/613 [==============================] - 1160s 2s/step - loss: 0.0734 - acc: 0.9816 - val_loss: 0.3969 - val_acc: 0.8880\n",
            "Epoch 18/20\n",
            "613/613 [==============================] - 1160s 2s/step - loss: 0.2745 - acc: 0.9824 - val_loss: 0.4175 - val_acc: 0.8858\n",
            "Epoch 19/20\n",
            "613/613 [==============================] - 1158s 2s/step - loss: 0.0662 - acc: 0.9838 - val_loss: 0.4139 - val_acc: 0.8868\n",
            "Epoch 20/20\n",
            "613/613 [==============================] - 1152s 2s/step - loss: 0.0620 - acc: 0.9846 - val_loss: 0.4618 - val_acc: 0.8774\n"
          ]
        }
      ],
      "source": [
        "lstm_model.compile(loss='binary_crossentropy',optimizer='rmsprop',metrics=['acc'])\n",
        "history2 = lstm_model.fit(x_train,y_train,epochs=20,batch_size=256,validation_data=[x_valid,y_valid],verbose=1) \n"
      ]
    },
    {
      "cell_type": "code",
      "execution_count": null,
      "metadata": {
        "colab": {
          "base_uri": "https://localhost:8080/",
          "height": 944
        },
        "id": "V1Ln6dgLg5CW",
        "outputId": "91b8ec2a-ffef-4ead-c32a-b55f89e65fc2"
      },
      "outputs": [
        {
          "output_type": "display_data",
          "data": {
            "text/plain": [
              "<Figure size 640x480 with 1 Axes>"
            ],
            "image/png": "[encoded data removed]"
          },
          "metadata": {}
        },
        {
          "output_type": "execute_result",
          "data": {
            "text/plain": [
              "<matplotlib.legend.Legend at 0x7feefd4ea2c0>"
            ]
          },
          "metadata": {},
          "execution_count": 44
        },
        {
          "output_type": "display_data",
          "data": {
            "text/plain": [
              "<Figure size 640x480 with 1 Axes>"
            ],
            "image/png": "[encoded data removed]"
          },
          "metadata": {}
        }
      ],
      "source": [
        "acc2 = history2.history['acc']\n",
        "loss2 = history2.history['loss']\n",
        "val_acc2 = history2.history['val_acc']\n",
        "val_loss2 = history2.history['val_loss']\n",
        "\n",
        "plt.plot( acc2, label='Training acc')\n",
        "plt.plot( val_acc2, 'b', label='Validation acc')\n",
        "plt.title('Training and validation accuracy')\n",
        "plt.xlabel('Epochs')\n",
        "plt.ylabel('accuracy')\n",
        "plt.legend()\n",
        "plt.show()\n",
        "\n",
        "plt.plot( loss2, label='Training loss')\n",
        "plt.plot( val_loss2, 'b', label='Validation loss')\n",
        "plt.title('Training and validation loss')\n",
        "plt.xlabel('Epochs')\n",
        "plt.ylabel('Loss')\n",
        "plt.legend()"
      ]
    },
    {
      "cell_type": "code",
      "execution_count": null,
      "metadata": {
        "colab": {
          "base_uri": "https://localhost:8080/"
        },
        "id": "6G8BdQ8EKdbR",
        "outputId": "4d3de357-86d6-461b-c5d1-2b16485fbc1c"
      },
      "outputs": [
        {
          "output_type": "stream",
          "name": "stdout",
          "text": [
            "cm :\n",
            " [[37780  7051]\n",
            " [ 2559 31020]]\n",
            "clssification report :\n",
            "               precision    recall  f1-score   support\n",
            "\n",
            "           0       0.84      0.94      0.89     40339\n",
            "           1       0.92      0.81      0.87     38071\n",
            "\n",
            "    accuracy                           0.88     78410\n",
            "   macro avg       0.88      0.88      0.88     78410\n",
            "weighted avg       0.88      0.88      0.88     78410\n",
            "\n"
          ]
        }
      ],
      "source": [
        "# lstm_pred = lstm_model.predict(x_valid) \n",
        "lstm_pred = np.round(lstm_pred)\n",
        "print('cm :\\n',confusion_matrix(lstm_pred ,y_valid ))\n",
        "print('clssification report :\\n',classification_report(y_valid, lstm_pred))"
      ]
    },
    {
      "cell_type": "code",
      "execution_count": null,
      "metadata": {
        "id": "C5grfIapKc6S",
        "colab": {
          "base_uri": "https://localhost:8080/"
        },
        "outputId": "3b03ce79-2d5c-4cba-c738-bff745a0cd3c"
      },
      "outputs": [
        {
          "output_type": "stream",
          "name": "stderr",
          "text": [
            "WARNING:absl:Found untraced functions such as _update_step_xla while saving (showing 1 of 1). These functions will not be directly callable after loading.\n"
          ]
        }
      ],
      "source": [
        "lstm_model.save('/content/gdrive/MyDrive/Arete/Arabic_sentiment_analysis/lstm_model')\n",
        "\n",
        "# lstm_model link \n",
        "# https://drive.google.com/drive/folders/1TSnCsL-tWh5InWyd-9EuRVvI2RmJcAAk?usp=sharing"
      ]
    },
    {
      "cell_type": "markdown",
      "source": [
        "## pytorch model"
      ],
      "metadata": {
        "id": "BGFtArftWFUp"
      }
    },
    {
      "cell_type": "code",
      "execution_count": null,
      "metadata": {
        "colab": {
          "base_uri": "https://localhost:8080/"
        },
        "id": "TBBB3f9mFYQt",
        "outputId": "be9d8507-12cc-4925-c33b-a0bef19605f8"
      },
      "outputs": [
        {
          "output_type": "execute_result",
          "data": {
            "text/plain": [
              "((156820, 100), numpy.ndarray, (26137, 100))"
            ]
          },
          "metadata": {},
          "execution_count": 65
        }
      ],
      "source": [
        "x_train.shape, type(x_train), x_test.shape"
      ]
    },
    {
      "cell_type": "code",
      "execution_count": null,
      "metadata": {
        "id": "7QsnAxIcDYaz"
      },
      "outputs": [],
      "source": [
        "import torch\n",
        "from torch import nn\n",
        "import torch.nn.functional as F\n",
        "from torch.utils.data import TensorDataset, DataLoader\n",
        "from sklearn.utils import shuffle\n"
      ]
    },
    {
      "cell_type": "code",
      "execution_count": null,
      "metadata": {
        "id": "HF0Qo-KTG9vD"
      },
      "outputs": [],
      "source": [
        "from sklearn.utils import shuffle\n",
        "\n",
        "train_data = TensorDataset(torch.from_numpy(np.array(x_train)),torch.from_numpy(np.array(y_train)))\n",
        "valid_data = TensorDataset(torch.from_numpy(np.array(x_valid)),torch.from_numpy(np.array(y_valid)))\n",
        "test_data  = TensorDataset(torch.from_numpy(np.array(x_test)), torch.from_numpy(np.array(y_test)))\n",
        "\n",
        "batch_size = 256\n",
        "\n",
        "train_loader = DataLoader(train_data, shuffle=True, batch_size=batch_size, drop_last=True)\n",
        "valid_loader = DataLoader(valid_data, shuffle=True, batch_size=batch_size, drop_last=True)\n",
        "test_loader  = DataLoader(test_data , shuffle=True, batch_size=x_test.shape[0])\n"
      ]
    },
    {
      "cell_type": "code",
      "execution_count": null,
      "metadata": {
        "colab": {
          "base_uri": "https://localhost:8080/"
        },
        "id": "4lXTjUBxCRz7",
        "outputId": "f9cd55c9-2738-497c-da95-437e91a31f7f"
      },
      "outputs": [
        {
          "output_type": "execute_result",
          "data": {
            "text/plain": [
              "156820"
            ]
          },
          "metadata": {},
          "execution_count": 36
        }
      ],
      "source": [
        "len(train_data)"
      ]
    },
    {
      "cell_type": "code",
      "execution_count": null,
      "metadata": {
        "colab": {
          "base_uri": "https://localhost:8080/"
        },
        "id": "zPjOMvxqKGK1",
        "outputId": "485195a0-71aa-4521-e1f3-25d36de8749b"
      },
      "outputs": [
        {
          "output_type": "stream",
          "name": "stdout",
          "text": [
            "Sample input size:  torch.Size([256, 100])\n",
            "Sample input: \n",
            " tensor([[     8,      0,      0,  ...,      0,      0,      0],\n",
            "        [ 12858,  58180,      7,  ...,      0,      0,      0],\n",
            "        [ 17791,   1918,    414,  ...,      0,      0,      0],\n",
            "        ...,\n",
            "        [   460,    980,   3376,  ...,      0,      0,      0],\n",
            "        [    62,    196,    396,  ...,      0,      0,      0],\n",
            "        [  8884, 104408,   1270,  ...,      0,      0,      0]],\n",
            "       dtype=torch.int32)\n",
            "Sample input: \n",
            " tensor([0, 0, 1, 1, 1, 1, 1, 0, 0, 0, 1, 1, 1, 0, 1, 1, 1, 0, 1, 1, 1, 1, 1, 0,\n",
            "        1, 1, 0, 1, 1, 1, 1, 0, 1, 0, 1, 0, 0, 0, 0, 1, 1, 0, 0, 0, 1, 0, 0, 0,\n",
            "        1, 1, 1, 1, 0, 0, 1, 0, 1, 0, 0, 0, 0, 1, 0, 0, 0, 0, 1, 1, 1, 0, 0, 1,\n",
            "        0, 1, 0, 0, 1, 0, 1, 0, 1, 1, 1, 1, 1, 1, 1, 1, 1, 0, 1, 0, 0, 1, 1, 0,\n",
            "        1, 1, 1, 0, 0, 1, 1, 1, 1, 0, 0, 0, 0, 0, 0, 0, 1, 0, 0, 1, 1, 0, 0, 0,\n",
            "        0, 1, 1, 0, 1, 0, 1, 0, 0, 1, 1, 1, 1, 1, 0, 0, 0, 0, 0, 1, 1, 1, 0, 0,\n",
            "        0, 0, 1, 0, 1, 0, 0, 0, 0, 1, 0, 1, 0, 0, 0, 0, 1, 1, 0, 0, 0, 1, 1, 1,\n",
            "        1, 0, 0, 0, 0, 1, 0, 0, 0, 0, 1, 1, 0, 0, 1, 0, 1, 0, 1, 0, 0, 1, 0, 0,\n",
            "        1, 1, 1, 1, 0, 1, 0, 0, 1, 1, 0, 1, 1, 0, 0, 0, 0, 1, 0, 1, 0, 0, 0, 0,\n",
            "        0, 0, 1, 1, 0, 0, 0, 0, 0, 0, 0, 0, 0, 0, 1, 0, 0, 0, 0, 0, 0, 0, 1, 0,\n",
            "        0, 0, 1, 0, 0, 0, 0, 0, 1, 1, 1, 0, 0, 1, 0, 0])\n"
          ]
        }
      ],
      "source": [
        "# obtain one batch of training data\n",
        "dataiter = iter(train_loader)\n",
        "sample_x, sample_y = next(dataiter)\n",
        "\n",
        "print('Sample input size: ', sample_x.size()) # batch_size, seq_length\n",
        "print('Sample input: \\n', sample_x)\n",
        "print('Sample input: \\n', sample_y)"
      ]
    },
    {
      "cell_type": "code",
      "source": [
        "# First checking if GPU is available\n",
        "train_on_gpu=torch.cuda.is_available()\n",
        "\n",
        "if(train_on_gpu):\n",
        "    print('Training on GPU.')\n",
        "else:\n",
        "    print('No GPU available, training on CPU.')"
      ],
      "metadata": {
        "colab": {
          "base_uri": "https://localhost:8080/"
        },
        "id": "CKoijScjMo19",
        "outputId": "40705aae-0808-4e70-e2fd-58ee469eeecd"
      },
      "execution_count": null,
      "outputs": [
        {
          "output_type": "stream",
          "name": "stdout",
          "text": [
            "Training on GPU.\n"
          ]
        }
      ]
    },
    {
      "cell_type": "markdown",
      "source": [
        "Torch model\n",
        "\n",
        "embedding size = 128\n",
        "\n",
        "hidden_size = 128\n",
        "\n",
        "dropout = .25\n",
        "\n",
        "Sigmoid\n",
        "\n"
      ],
      "metadata": {
        "id": "-QoeWmx9ROPy"
      }
    },
    {
      "cell_type": "code",
      "execution_count": null,
      "metadata": {
        "id": "vDXGxr6ED5Ol"
      },
      "outputs": [],
      "source": [
        "from torch.nn.modules import dropout\n",
        "class torch_lstm(nn.Module):\n",
        "\n",
        "  # def __init__(self, vocab_size, embedd_size, hidden_dim, dropout, n_layers):\n",
        "  def __init__(self, vocab_size, embedd_size, dropout, n_layers):\n",
        "    super(torch_lstm, self).__init__()\n",
        "    self.n_layers = n_layers\n",
        "    self.embedding = nn.Embedding(vocab_size, embedd_size) \n",
        "    # self.lstm = nn.LSTM( embedd_size, hidden_dim, n_layers, batch_first=True) \n",
        "    self.lstm = nn.LSTM( embedd_size, hidden_dim, batch_first=True) \n",
        "    self.dropout = nn.Dropout(dropout)\n",
        "    self.fc1 = nn.Linear(hidden_dim,64)\n",
        "    self.fc2 = nn.Linear(64,1)\n",
        "\n",
        "\n",
        "  # def forward(self,x,hidden):\n",
        "  def forward(self,x):\n",
        "    x = self.embedding(x)\n",
        "    # x, hidden = self.lstm(x, hidden) \n",
        "    x, _ = self.lstm(x) \n",
        "    x = x[:, -1, :] # getting the last time_step output # [128, 40, 128]\n",
        "    x = self.dropout(x)\n",
        "    x = F.relu(self.fc1(x))\n",
        "    x = F.sigmoid(self.fc2(x))\n",
        "\n",
        "    # return x, hidden\n",
        "    return x\n",
        "\n",
        "  def init_hidden(self, batch_size):\n",
        "    weights = next(self.parameters()).data\n",
        "    if train_on_gpu:\n",
        "      hidden = (weights.new(self.n_layers, batch_size, hidden_dim).zero_().cuda(),\n",
        "                weights.new(self.n_layers, batch_size, hidden_dim).zero_().cuda())\n",
        "    else:\n",
        "      hidden = (weights.new(self.n_layers, batch_size, hidden_dim).zero_(),\n",
        "                weights.new(self.n_layers, batch_size, hidden_dim).zero_())\n",
        "    return hidden\n"
      ]
    },
    {
      "cell_type": "code",
      "execution_count": null,
      "metadata": {
        "colab": {
          "base_uri": "https://localhost:8080/"
        },
        "id": "Z4mV-ztsR0Op",
        "outputId": "69e2058d-9283-45e8-ba97-67f96fd2dd0f"
      },
      "outputs": [
        {
          "output_type": "stream",
          "name": "stdout",
          "text": [
            "torch_lstm(\n",
            "  (embedding): Embedding(272873, 256)\n",
            "  (lstm): LSTM(256, 128, batch_first=True)\n",
            "  (dropout): Dropout(p=0.25, inplace=False)\n",
            "  (fc1): Linear(in_features=128, out_features=64, bias=True)\n",
            "  (fc2): Linear(in_features=64, out_features=1, bias=True)\n",
            ")\n"
          ]
        }
      ],
      "source": [
        "vocab_size = n_words+1\n",
        "embedd_size = 256\n",
        "hidden_dim = 128\n",
        "n_layers = 2\n",
        "dropout = .25\n",
        "\n",
        "# torch_model = torch_lstm(vocab_size, embedd_size, hidden_dim, dropout, n_layers)\n",
        "torch_model = torch_lstm(vocab_size, embedd_size, dropout, n_layers)\n",
        "\n",
        "print(torch_model)"
      ]
    },
    {
      "cell_type": "markdown",
      "source": [
        "epochs = 30\n",
        "\n",
        "loss = cross entropy\n",
        "\n",
        "optim = rmsprop"
      ],
      "metadata": {
        "id": "n1ESODFTR0PI"
      }
    },
    {
      "cell_type": "code",
      "execution_count": null,
      "metadata": {
        "colab": {
          "base_uri": "https://localhost:8080/"
        },
        "id": "Zuj_xgDASN2a",
        "outputId": "6e61f345-1bc0-4df5-91f7-2de417dcf45b"
      },
      "outputs": [
        {
          "output_type": "stream",
          "name": "stdout",
          "text": [
            "Epoch: 1/20     =====  Loss: 0.2599 -  acc: 0.8959 -  Val_Loss: 0.3845 -  Val_acc: 0.8336  \n",
            "Epoch: 2/20     =====  Loss: 0.2223 -  acc: 0.9124 -  Val_Loss: 0.3694 -  Val_acc: 0.8375  \n",
            "Epoch: 3/20     =====  Loss: 0.2000 -  acc: 0.9225 -  Val_Loss: 0.3735 -  Val_acc: 0.8392  \n",
            "Epoch: 4/20     =====  Loss: 0.1857 -  acc: 0.9298 -  Val_Loss: 0.3723 -  Val_acc: 0.8410  \n",
            "Epoch: 5/20     =====  Loss: 0.1720 -  acc: 0.9358 -  Val_Loss: 0.3768 -  Val_acc: 0.8418  \n",
            "Epoch: 6/20     =====  Loss: 0.1596 -  acc: 0.9410 -  Val_Loss: 0.3857 -  Val_acc: 0.8453  \n",
            "Epoch: 7/20     =====  Loss: 0.1509 -  acc: 0.9453 -  Val_Loss: 0.4064 -  Val_acc: 0.8456  \n",
            "Epoch: 8/20     =====  Loss: 0.1452 -  acc: 0.9468 -  Val_Loss: 0.4081 -  Val_acc: 0.8457  \n",
            "Epoch: 9/20     =====  Loss: 0.1358 -  acc: 0.9518 -  Val_Loss: 0.4015 -  Val_acc: 0.8465  \n",
            "Epoch: 10/20    =====  Loss: 0.1292 -  acc: 0.9531 -  Val_Loss: 0.4182 -  Val_acc: 0.8482  \n",
            "Epoch: 11/20    =====  Loss: 0.1250 -  acc: 0.9554 -  Val_Loss: 0.3883 -  Val_acc: 0.8491  \n",
            "Epoch: 12/20    =====  Loss: 0.1195 -  acc: 0.9567 -  Val_Loss: 0.4382 -  Val_acc: 0.8486  \n",
            "Epoch: 13/20    =====  Loss: 0.1185 -  acc: 0.9571 -  Val_Loss: 0.4083 -  Val_acc: 0.8526  \n",
            "Epoch: 14/20    =====  Loss: 0.1128 -  acc: 0.9592 -  Val_Loss: 0.4018 -  Val_acc: 0.8489  \n",
            "Epoch: 15/20    =====  Loss: 0.1104 -  acc: 0.9605 -  Val_Loss: 0.4276 -  Val_acc: 0.8500  \n",
            "Epoch: 16/20    =====  Loss: 0.1109 -  acc: 0.9598 -  Val_Loss: 0.4414 -  Val_acc: 0.8463  \n",
            "Epoch: 17/20    =====  Loss: 0.1027 -  acc: 0.9636 -  Val_Loss: 0.4344 -  Val_acc: 0.8527  \n",
            "Epoch: 18/20    =====  Loss: 0.1055 -  acc: 0.9624 -  Val_Loss: 0.4027 -  Val_acc: 0.8489  \n",
            "Epoch: 19/20    =====  Loss: 0.1018 -  acc: 0.9640 -  Val_Loss: 0.4870 -  Val_acc: 0.8485  \n",
            "Epoch: 20/20    =====  Loss: 0.0967 -  acc: 0.9654 -  Val_Loss: 0.4578 -  Val_acc: 0.8480  \n"
          ]
        }
      ],
      "source": [
        "\n",
        "criterion = nn.BCELoss() # CrossEntropyLoss()\n",
        "optimizer = torch.optim.RMSprop(torch_model.parameters())\n",
        "\n",
        "epochs = 20\n",
        "epoch_tr_loss,epoch_vl_loss = [],[]\n",
        "epoch_tr_acc,epoch_vl_acc = [],[]\n",
        "\n",
        "# move model to GPU, if available\n",
        "if(train_on_gpu):\n",
        "    torch_model.cuda()\n",
        "\n",
        "for epoch in range(epochs):\n",
        "  train_losses = []\n",
        "  train_acc = 0.0\n",
        "\n",
        "  # hidden = torch_model.init_hidden(batch_size)\n",
        "  torch_model.train()\n",
        "\n",
        "  for sentenc, label in train_loader:\n",
        "    if(train_on_gpu):\n",
        "            sentenc, label = sentenc.cuda(), label.cuda()\n",
        "    # hidden = tuple([each.data for each in hidden])\n",
        "    torch_model.zero_grad()\n",
        "    # output, hidden = torch_model(sentenc, hidden)\n",
        "    output = torch_model(sentenc)\n",
        "    label =  label.float() \n",
        "\n",
        "    loss = criterion(output.squeeze(), label)\n",
        "    # loss = torch.sum(loss)\n",
        "    loss.backward()\n",
        "\n",
        "    optimizer.step()\n",
        "\n",
        "    train_losses.append(loss.item())\n",
        "    pred = torch.round(output.squeeze())\n",
        "    # print(pred)\n",
        "    acc = sum(pred == label).item()\n",
        "    # print(acc)\n",
        "    train_acc += acc\n",
        "\n",
        "  \n",
        "  val_losses = []\n",
        "  val_acc = 0.0\n",
        "  torch_model.eval()\n",
        "  # val_h = torch_model.init_hidden(batch_size)\n",
        "\n",
        "  for inputs, labels in valid_loader:\n",
        "    if(train_on_gpu):\n",
        "            inputs, labels = inputs.cuda(), labels.cuda()\n",
        "\n",
        "    # val_h = tuple([each.data for each in val_h])\n",
        "    # output, val_h= torch_model(inputs, val_h)\n",
        "    labels = labels.float()\n",
        "    output= torch_model(inputs)\n",
        "    val_loss = criterion(output.squeeze(), labels)\n",
        "    # print('output ',output,' ouptue.squeeze ',output.squeeze())\n",
        "    # print('before',val_loss)\n",
        "    # val_loss = torch.sum(val_loss)\n",
        "    # print('vall loss ',val_loss,' val loss.item() ',val_loss.item)\n",
        "    val_losses.append(val_loss.item())\n",
        "    \n",
        "    pred = torch.round(output.squeeze())\n",
        "    acc = sum((pred) == labels).item()\n",
        "    val_acc += acc\n",
        "\n",
        "  epoch_tr_loss.append(np.mean(train_losses))\n",
        "  epoch_tr_acc.append(train_acc/len(train_data))\n",
        "  epoch_vl_loss.append(np.mean(val_losses))\n",
        "  epoch_vl_acc.append(val_acc/len(valid_data))\n",
        "\n",
        "  print(f\"{'Epoch: {}/{}  '.format(epoch+1, epochs): <14}\",\" ===== \", # 'Epoch: {}/{}...'.format(epoch+1, epochs)\n",
        "                  \"Loss: {:.4f} - \".format(epoch_tr_loss[-1]),\n",
        "                  \"acc: {:.4f} - \".format(epoch_tr_acc[-1]),\n",
        "                  \"Val_Loss: {:.4f} - \".format(epoch_vl_loss[-1]),\n",
        "                  \"Val_acc: {:.4f}  \".format(epoch_vl_acc[-1]))\n"
      ]
    },
    {
      "cell_type": "code",
      "execution_count": null,
      "metadata": {
        "colab": {
          "base_uri": "https://localhost:8080/",
          "height": 927
        },
        "id": "0Ij8AaGv_kD8",
        "outputId": "104fe418-86d4-4807-c4d3-a85e08aa4d4f"
      },
      "outputs": [
        {
          "output_type": "display_data",
          "data": {
            "text/plain": [
              "<Figure size 640x480 with 1 Axes>"
            ],
            "image/png": "[encoded data removed]"
          },
          "metadata": {}
        },
        {
          "output_type": "display_data",
          "data": {
            "text/plain": [
              "<Figure size 640x480 with 1 Axes>"
            ],
            "image/png": "[encoded data removed]"
          },
          "metadata": {}
        }
      ],
      "source": [
        "epochs = range(len(epoch_tr_acc))\n",
        "\n",
        "plt.plot(epochs, epoch_tr_acc, label='Training acc')\n",
        "plt.plot(epochs, epoch_vl_acc, label='Validation acc')\n",
        "plt.title('Training and validation accuracy')\n",
        "plt.xlabel('Epochs')\n",
        "plt.ylabel('accuracy')\n",
        "plt.legend()\n",
        "plt.show()\n",
        "\n",
        "plt.plot(epochs, epoch_tr_loss, label='Training loss')\n",
        "plt.plot(epochs, epoch_vl_loss, label='Validation loss')\n",
        "plt.title('Training and validation loss')\n",
        "plt.xlabel('Epochs')\n",
        "plt.ylabel('Loss')\n",
        "plt.legend()\n",
        "plt.show()"
      ]
    },
    {
      "cell_type": "code",
      "execution_count": null,
      "metadata": {
        "colab": {
          "base_uri": "https://localhost:8080/"
        },
        "id": "TOZgxSFAO9wh",
        "outputId": "ec28dc88-298c-4ca1-9081-891a852315d1"
      },
      "outputs": [
        {
          "output_type": "stream",
          "name": "stdout",
          "text": [
            "cm :\n",
            " [[36019  4280]\n",
            " [ 7565 30472]]\n",
            "clssification report :\n",
            "               precision    recall  f1-score   support\n",
            "\n",
            "           0       0.83      0.89      0.86     40299\n",
            "           1       0.88      0.80      0.84     38037\n",
            "\n",
            "    accuracy                           0.85     78336\n",
            "   macro avg       0.85      0.85      0.85     78336\n",
            "weighted avg       0.85      0.85      0.85     78336\n",
            "\n"
          ]
        }
      ],
      "source": [
        "y_pred = []\n",
        "y_true = []\n",
        "for inputs, labels in valid_loader:\n",
        "    if(train_on_gpu):\n",
        "      inputs, labels = inputs.cuda(), labels.cuda()\n",
        "\n",
        "    # val_h = torch_model.init_hidden(batch_size)\n",
        "    # val_h = tuple([each.data for each in val_h])\n",
        "    # output, val_h = torch_model(inputs, val_h)\n",
        "    output = torch_model(inputs)\n",
        "    pred = torch.round(output.squeeze())\n",
        "    y_pred.extend(pred)\n",
        "    y_true.extend(labels)\n",
        "\n",
        "print('cm :\\n',confusion_matrix(torch.tensor(y_true), torch.tensor(y_pred)))\n",
        "print('clssification report :\\n',classification_report(torch.tensor(y_true), torch.tensor(y_pred)))"
      ]
    },
    {
      "cell_type": "code",
      "execution_count": null,
      "metadata": {
        "id": "R2u26m0qcVo0"
      },
      "outputs": [],
      "source": [
        "# torch_model.save('/content/gdrive/MyDrive/Arete/Arabic_sentiment_analysis/torch_model')\n",
        "\n",
        "# Define the file path to save the model\n",
        "model_path = '/content/gdrive/MyDrive/Arete/Arabic_sentiment_analysis/torch_model.pt'\n",
        "\n",
        "# Save the model\n",
        "torch.save(torch_model.state_dict(), model_path)"
      ]
    },
    {
      "cell_type": "code",
      "source": [
        "# # Define the file path to load the model\n",
        "# model_path = '/content/gdrive/MyDrive/Arete/Arabic_sentiment_analysis/torch_model.pt'\n",
        "\n",
        "# # Load the model\n",
        "# torch_model0 = torch_lstm(vocab_size, embedd_size, dropout, n_layers)\n",
        "# torch_model0.load_state_dict(torch.load(model_path))"
      ],
      "metadata": {
        "id": "seLqK6W_GZAS"
      },
      "execution_count": null,
      "outputs": []
    },
    {
      "cell_type": "markdown",
      "source": [
        "Conv1d model\n"
      ],
      "metadata": {
        "id": "knb0a2aDeIav"
      }
    },
    {
      "cell_type": "code",
      "source": [
        "from torch.nn.modules import dropout\n",
        "class conv_model(nn.Module):\n",
        "\n",
        "  # def __init__(self, vocab_size, embedd_size, hidden_dim, dropout, n_layers):\n",
        "  def __init__(self, vocab_size, embedd_size, dropout, n_layers):\n",
        "    super(conv_model, self).__init__()\n",
        "    self.embedding = nn.Embedding(vocab_size, embedd_size, padding_idx=0)\n",
        "    self.conv1 = nn.Conv1d(embedd_size, 128, 5)\n",
        "    self.conv2 = nn.Conv1d(128, 128, 5)\n",
        "    self.pool = nn.AdaptiveMaxPool1d(1)\n",
        "    self.dense1 = nn.Linear(128, 32)\n",
        "    self.dropout = nn.Dropout(0.2)\n",
        "    self.dense2 = nn.Linear(32, 1)\n",
        "    self.sigmoid = nn.Sigmoid()\n",
        "\n",
        "  def forward(self, x):\n",
        "    x = self.embedding(x)\n",
        "    x = x.permute(0, 2, 1)\n",
        "    x = self.conv1(x)\n",
        "    x = nn.functional.relu(x)\n",
        "    x = self.conv2(x)\n",
        "    x = nn.functional.relu(x)\n",
        "    x = self.pool(x).squeeze(-1)\n",
        "    x = self.dense1(x)\n",
        "    x = nn.functional.relu(x)\n",
        "    x = self.dropout(x)\n",
        "    x = self.dense2(x)\n",
        "    x = self.sigmoid(x)\n",
        "    return x\n",
        "\n",
        "  def init_hidden(self, batch_size):\n",
        "    weights = next(self.parameters()).data\n",
        "    if train_on_gpu:\n",
        "      hidden = (weights.new(self.n_layers, batch_size, hidden_dim).zero_().cuda(),\n",
        "                weights.new(self.n_layers, batch_size, hidden_dim).zero_().cuda())\n",
        "    else:\n",
        "      hidden = (weights.new(self.n_layers, batch_size, hidden_dim).zero_(),\n",
        "                weights.new(self.n_layers, batch_size, hidden_dim).zero_())\n",
        "    return hidden\n"
      ],
      "metadata": {
        "id": "FhV40BmxeH0w"
      },
      "execution_count": null,
      "outputs": []
    },
    {
      "cell_type": "code",
      "source": [
        "vocab_size = n_words+1\n",
        "embedd_size = 128\n",
        "hidden_dim = 128\n",
        "n_layers = 2\n",
        "dropout = .25\n",
        "\n",
        "# torch_model = torch_lstm(vocab_size, embedd_size, hidden_dim, dropout, n_layers)\n",
        "torch_model2 = conv_model(vocab_size, embedd_size, dropout, n_layers)\n",
        "\n",
        "print(torch_model2)"
      ],
      "metadata": {
        "colab": {
          "base_uri": "https://localhost:8080/"
        },
        "id": "f2u0dAxieG7Q",
        "outputId": "a76f5a0e-f73b-417d-dc1a-9b55c33bf401"
      },
      "execution_count": null,
      "outputs": [
        {
          "output_type": "stream",
          "name": "stdout",
          "text": [
            "conv_model(\n",
            "  (embedding): Embedding(272873, 128, padding_idx=0)\n",
            "  (conv1): Conv1d(128, 128, kernel_size=(5,), stride=(1,))\n",
            "  (conv2): Conv1d(128, 128, kernel_size=(5,), stride=(1,))\n",
            "  (pool): AdaptiveMaxPool1d(output_size=1)\n",
            "  (dense1): Linear(in_features=128, out_features=32, bias=True)\n",
            "  (dropout): Dropout(p=0.2, inplace=False)\n",
            "  (dense2): Linear(in_features=32, out_features=1, bias=True)\n",
            "  (sigmoid): Sigmoid()\n",
            ")\n"
          ]
        }
      ]
    },
    {
      "cell_type": "code",
      "source": [
        "\n",
        "criterion = nn.BCELoss() # CrossEntropyLoss()\n",
        "optimizer = torch.optim.RMSprop(torch_model2.parameters())\n",
        "\n",
        "epochs = 30\n",
        "epoch_tr_loss,epoch_vl_loss = [],[]\n",
        "epoch_tr_acc,epoch_vl_acc = [],[]\n",
        "\n",
        "# move model to GPU, if available\n",
        "if(train_on_gpu):\n",
        "    torch_model2.cuda()\n",
        "\n",
        "for epoch in range(epochs):\n",
        "  train_losses = []\n",
        "  train_acc = 0.0\n",
        "\n",
        "  # hidden = torch_model2.init_hidden(batch_size)\n",
        "  torch_model2.train()\n",
        "\n",
        "  for sentenc, label in train_loader:\n",
        "    if(train_on_gpu):\n",
        "            sentenc, label = sentenc.cuda(), label.cuda()\n",
        "    # hidden = tuple([each.data for each in hidden])\n",
        "    torch_model2.zero_grad()\n",
        "    # output, hidden = torch_model2(sentenc, hidden)\n",
        "    output = torch_model2(sentenc)\n",
        "    label =  label.float() \n",
        "\n",
        "    loss = criterion(output.squeeze(), label)\n",
        "    # loss = torch.sum(loss)\n",
        "    loss.backward()\n",
        "\n",
        "    optimizer.step()\n",
        "\n",
        "    train_losses.append(loss.item())\n",
        "    pred = torch.round(output.squeeze())\n",
        "    # print(pred)\n",
        "    acc = sum(pred == label).item()\n",
        "    # print(acc)\n",
        "    train_acc += acc\n",
        "\n",
        "  \n",
        "  val_losses = []\n",
        "  val_acc = 0.0\n",
        "  torch_model2.eval()\n",
        "  # val_h = torch_model2.init_hidden(batch_size)\n",
        "\n",
        "  for inputs, labels in valid_loader:\n",
        "    if(train_on_gpu):\n",
        "            inputs, labels = inputs.cuda(), labels.cuda().float()\n",
        "\n",
        "    # val_h = tuple([each.data for each in val_h])\n",
        "    # output, val_h= torch_model2(inputs, val_h)\n",
        "    # labels = labels.float()\n",
        "    output= torch_model2(inputs)\n",
        "    val_loss = criterion(output.squeeze(), labels)\n",
        "    # print('output ',output,' ouptue.squeeze ',output.squeeze())\n",
        "    # print('before',val_loss)\n",
        "    # val_loss = torch.sum(val_loss)\n",
        "    # print('vall loss ',val_loss,' val loss.item() ',val_loss.item)\n",
        "    val_losses.append(val_loss.item())\n",
        "    \n",
        "    pred = torch.round(output.squeeze())\n",
        "    acc = sum((pred) == labels).item()\n",
        "    val_acc += acc\n",
        "\n",
        "  epoch_tr_loss.append(np.mean(train_losses))\n",
        "  epoch_tr_acc.append(train_acc/len(train_data))\n",
        "  epoch_vl_loss.append(np.mean(val_losses))\n",
        "  epoch_vl_acc.append(val_acc/len(valid_data))\n",
        "  \n",
        "  # print(f\"Epoch {epoch+1}/{epochs}, Train Loss: {epoch_tr_loss[-1]:.4f}, Train Acc: {epoch_tr_acc[-1]:.4f}\\\n",
        "  #       , Val Loss: {epoch_vl_loss[-1]:.4f}, Val Acc: {epoch_vl_acc[-1]:.4f}\")\n",
        "  print(f\"{'Epoch: {}/{}  '.format(epoch+1, epochs): <14}\",\" ===== \", # 'Epoch: {}/{}...'.format(epoch+1, epochs)\n",
        "                  \"Loss: {:.4f} - \".format(epoch_tr_loss[-1]),\n",
        "                  \"acc: {:.4f} - \".format(epoch_tr_acc[-1]),\n",
        "                  \"Val_Loss: {:.4f} - \".format(epoch_vl_loss[-1]),\n",
        "                  \"Val_acc: {:.4f}  \".format(epoch_vl_acc[-1]))\n"
      ],
      "metadata": {
        "colab": {
          "base_uri": "https://localhost:8080/"
        },
        "id": "xPuSfy3leHCL",
        "outputId": "77641556-0795-417b-bc1f-9dbff79ab5f4"
      },
      "execution_count": null,
      "outputs": [
        {
          "output_type": "stream",
          "name": "stdout",
          "text": [
            "Epoch: 1/30     =====  Loss: 2.6100 -  acc: 0.8060 -  Val_Loss: 0.2688 -  Val_acc: 0.8768  \n",
            "Epoch: 2/30     =====  Loss: 0.2396 -  acc: 0.9024 -  Val_Loss: 0.2676 -  Val_acc: 0.8807  \n",
            "Epoch: 3/30     =====  Loss: 0.1702 -  acc: 0.9390 -  Val_Loss: 0.2697 -  Val_acc: 0.8800  \n",
            "Epoch: 4/30     =====  Loss: 0.1129 -  acc: 0.9623 -  Val_Loss: 0.4271 -  Val_acc: 0.8850  \n",
            "Epoch: 5/30     =====  Loss: 0.1268 -  acc: 0.9691 -  Val_Loss: 0.4656 -  Val_acc: 0.8846  \n",
            "Epoch: 6/30     =====  Loss: 0.0919 -  acc: 0.9731 -  Val_Loss: 0.6279 -  Val_acc: 0.8777  \n",
            "Epoch: 7/30     =====  Loss: 0.0860 -  acc: 0.9773 -  Val_Loss: 0.9384 -  Val_acc: 0.8788  \n",
            "Epoch: 8/30     =====  Loss: 0.0807 -  acc: 0.9787 -  Val_Loss: 1.2813 -  Val_acc: 0.8790  \n",
            "Epoch: 9/30     =====  Loss: 0.0970 -  acc: 0.9791 -  Val_Loss: 0.9185 -  Val_acc: 0.8737  \n",
            "Epoch: 10/30    =====  Loss: 0.1027 -  acc: 0.9790 -  Val_Loss: 1.1440 -  Val_acc: 0.8784  \n",
            "Epoch: 11/30    =====  Loss: 0.1375 -  acc: 0.9776 -  Val_Loss: 1.9054 -  Val_acc: 0.8732  \n",
            "Epoch: 12/30    =====  Loss: 0.1151 -  acc: 0.9780 -  Val_Loss: 2.0633 -  Val_acc: 0.8694  \n",
            "Epoch: 13/30    =====  Loss: 0.1217 -  acc: 0.9781 -  Val_Loss: 4.0571 -  Val_acc: 0.8716  \n",
            "Epoch: 14/30    =====  Loss: 0.1373 -  acc: 0.9767 -  Val_Loss: 4.4274 -  Val_acc: 0.8714  \n",
            "Epoch: 15/30    =====  Loss: 0.2003 -  acc: 0.9772 -  Val_Loss: 3.0585 -  Val_acc: 0.8581  \n",
            "Epoch: 16/30    =====  Loss: 0.1951 -  acc: 0.9742 -  Val_Loss: 4.9406 -  Val_acc: 0.8769  \n",
            "Epoch: 17/30    =====  Loss: 0.1941 -  acc: 0.9761 -  Val_Loss: 4.9397 -  Val_acc: 0.8742  \n",
            "Epoch: 18/30    =====  Loss: 0.2027 -  acc: 0.9761 -  Val_Loss: 2.9423 -  Val_acc: 0.8744  \n",
            "Epoch: 19/30    =====  Loss: 0.2939 -  acc: 0.9752 -  Val_Loss: 3.4490 -  Val_acc: 0.8611  \n",
            "Epoch: 20/30    =====  Loss: 0.2699 -  acc: 0.9733 -  Val_Loss: 4.5805 -  Val_acc: 0.8721  \n",
            "Epoch: 21/30    =====  Loss: 0.2577 -  acc: 0.9720 -  Val_Loss: 5.0288 -  Val_acc: 0.8691  \n",
            "Epoch: 22/30    =====  Loss: 0.2452 -  acc: 0.9708 -  Val_Loss: 4.2669 -  Val_acc: 0.8701  \n",
            "Epoch: 23/30    =====  Loss: 0.2854 -  acc: 0.9731 -  Val_Loss: 4.6198 -  Val_acc: 0.8669  \n",
            "Epoch: 24/30    =====  Loss: 0.3403 -  acc: 0.9711 -  Val_Loss: 4.0515 -  Val_acc: 0.8715  \n",
            "Epoch: 25/30    =====  Loss: 0.3161 -  acc: 0.9677 -  Val_Loss: 6.7542 -  Val_acc: 0.8699  \n",
            "Epoch: 26/30    =====  Loss: 0.3378 -  acc: 0.9691 -  Val_Loss: 3.8825 -  Val_acc: 0.8581  \n",
            "Epoch: 27/30    =====  Loss: 0.3170 -  acc: 0.9697 -  Val_Loss: 3.7228 -  Val_acc: 0.8459  \n",
            "Epoch: 28/30    =====  Loss: 0.4082 -  acc: 0.9661 -  Val_Loss: 5.2867 -  Val_acc: 0.8619  \n",
            "Epoch: 29/30    =====  Loss: 0.3419 -  acc: 0.9652 -  Val_Loss: 6.3344 -  Val_acc: 0.8743  \n",
            "Epoch: 30/30    =====  Loss: 0.4195 -  acc: 0.9680 -  Val_Loss: 3.9623 -  Val_acc: 0.8699  \n"
          ]
        }
      ]
    },
    {
      "cell_type": "code",
      "source": [
        "epochs = range(len(epoch_tr_acc))\n",
        "\n",
        "plt.plot(epochs, epoch_tr_acc, label='Training acc')\n",
        "plt.plot(epochs, epoch_vl_acc, label='Validation acc')\n",
        "plt.title('Training and validation accuracy')\n",
        "plt.xlabel('Epochs')\n",
        "plt.ylabel('accuracy')\n",
        "plt.legend()\n",
        "plt.show()\n",
        "\n",
        "plt.plot(epochs, epoch_tr_loss, label='Training loss')\n",
        "plt.plot(epochs, epoch_vl_loss, label='Validation loss')\n",
        "plt.title('Training and validation loss')\n",
        "plt.xlabel('Epochs')\n",
        "plt.ylabel('Loss')\n",
        "plt.legend()\n",
        "plt.show()"
      ],
      "metadata": {
        "colab": {
          "base_uri": "https://localhost:8080/",
          "height": 927
        },
        "id": "_dphDXm8ocAZ",
        "outputId": "a48e30c2-f86d-477d-8b59-72db6ffb10da"
      },
      "execution_count": null,
      "outputs": [
        {
          "output_type": "display_data",
          "data": {
            "text/plain": [
              "<Figure size 640x480 with 1 Axes>"
            ],
            "image/png": "[encoded data removed]"
          },
          "metadata": {}
        },
        {
          "output_type": "display_data",
          "data": {
            "text/plain": [
              "<Figure size 640x480 with 1 Axes>"
            ],
            "image/png": "[encoded data removed]"
          },
          "metadata": {}
        }
      ]
    },
    {
      "cell_type": "code",
      "source": [
        "y_pred = []\n",
        "y_true = []\n",
        "for inputs, labels in valid_loader:\n",
        "    if(train_on_gpu):\n",
        "      inputs, labels = inputs.cuda(), labels.cuda()\n",
        "\n",
        "    # val_h = torch_model2.init_hidden(batch_size)\n",
        "    # val_h = tuple([each.data for each in val_h])\n",
        "    # output, val_h = torch_model2(inputs, val_h)\n",
        "    output = torch_model2(inputs)\n",
        "    pred = torch.round(output.squeeze())\n",
        "    y_pred.extend(pred)\n",
        "    y_true.extend(labels)\n",
        "\n",
        "print('cm :\\n',confusion_matrix(torch.tensor(y_true), torch.tensor(y_pred)))\n",
        "print('clssification report :\\n',classification_report(torch.tensor(y_true), torch.tensor(y_pred)))"
      ],
      "metadata": {
        "id": "dAXiid2Tgl7s"
      },
      "execution_count": null,
      "outputs": []
    },
    {
      "cell_type": "code",
      "source": [],
      "metadata": {
        "id": "oZnOQkuhofCt"
      },
      "execution_count": null,
      "outputs": []
    },
    {
      "cell_type": "code",
      "source": [],
      "metadata": {
        "id": "WtAosSz4ofKv"
      },
      "execution_count": null,
      "outputs": []
    },
    {
      "cell_type": "markdown",
      "source": [
        "## Another data set "
      ],
      "metadata": {
        "id": "bwbWj2ufH7kl"
      }
    },
    {
      "cell_type": "code",
      "source": [],
      "metadata": {
        "id": "vxNYV24xtkfM"
      },
      "execution_count": null,
      "outputs": []
    },
    {
      "cell_type": "code",
      "source": [
        "#  5 classes: sport, politic, culture, economy and diverse.\n",
        "df7 = pd.read_csv('/content/gdrive/MyDrive/Arete/Arabic_sentiment_analysis/arabic_dataset_classifiction.csv')\n",
        "df7.drop_duplicates(inplace=True)\n",
        "df7.dropna(inplace=True)\n",
        "print(df7.shape)\n",
        "df7.rename(columns=({str(df7.columns[1]):'labels',str(df7.columns[0]):'text'}),inplace=True)\n",
        "print(df7.head(10))"
      ],
      "metadata": {
        "colab": {
          "base_uri": "https://localhost:8080/"
        },
        "id": "p-hcJfoz7t9w",
        "outputId": "a5a3a0b1-042b-4479-a88d-334b061e2319"
      },
      "execution_count": null,
      "outputs": [
        {
          "output_type": "stream",
          "name": "stdout",
          "text": [
            "(105586, 2)\n",
            "                                                text  labels\n",
            "0  بين أستوديوهات ورزازات وصحراء مرزوكة وآثار ولي...       0\n",
            "1  قررت النجمة الأمريكية أوبرا وينفري ألا يقتصر ع...       0\n",
            "2  أخبارنا المغربية الوزاني تصوير الشملالي ألهب ا...       0\n",
            "3  اخبارنا المغربية قال ابراهيم الراشدي محامي سعد...       0\n",
            "4  تزال صناعة الجلود في المغرب تتبع الطريقة التقل...       0\n",
            "5  مصطفى الصوفي انطلقت أمس فعاليات الدورة الثالثة...       0\n",
            "6  الاتحاد الاشتراكي تحيي الفنانة اللبنانية نجوى ...       0\n",
            "7  أقدمت كاثريونا وايت حبيبة الممثل جيم كاري على ...       0\n",
            "8  أحمد الريدي تطور جديد شهدته قضية الفنانة زينة ...       0\n",
            "9  أخبارنا المغربية بشراكة بين مؤسسة البشير للتعل...       0\n"
          ]
        }
      ]
    },
    {
      "cell_type": "code",
      "source": [
        "plt.hist(df7.iloc[:,1])"
      ],
      "metadata": {
        "colab": {
          "base_uri": "https://localhost:8080/"
        },
        "id": "R8AfUsF9-P2K",
        "outputId": "c088c3e4-a851-4986-8cc0-39e35d2d77b2"
      },
      "execution_count": null,
      "outputs": [
        {
          "output_type": "execute_result",
          "data": {
            "text/plain": [
              "(array([13398.,     0., 15965.,     0.,     0., 13708.,     0., 19818.,\n",
              "            0., 42697.]),\n",
              " array([0. , 0.4, 0.8, 1.2, 1.6, 2. , 2.4, 2.8, 3.2, 3.6, 4. ]),\n",
              " <BarContainer object of 10 artists>)"
            ]
          },
          "metadata": {},
          "execution_count": 54
        },
        {
          "output_type": "display_data",
          "data": {
            "text/plain": [
              "<Figure size 640x480 with 1 Axes>"
            ],
            "image/png": "[encoded data removed]"
          },
          "metadata": {}
        }
      ]
    },
    {
      "cell_type": "code",
      "source": [
        "df7['text'][111533]"
      ],
      "metadata": {
        "colab": {
          "base_uri": "https://localhost:8080/"
        },
        "id": "aXRXum-X_aD8",
        "outputId": "add557e0-0037-4c39-c328-80318b69ef92"
      },
      "execution_count": null,
      "outputs": [
        {
          "output_type": "execute_result",
          "data": {
            "text/plain": [
              "'قال لـ الصباح الرياضي إن المنتخب الوطني جاهز لتصفيات المونديال قال عزيز بوحدوز الدولي المغربي والمحترف بسانت باولي الألماني إن المنتخب الوطني نجح في إقناع جماهيره بعد الفوز في مباراتي بوركينافاسو وتونس وأضاف بوحدوز في حوار مع الصباح الرياضي ”، أن المباراتين لم تكونا سهلتين بالنظر إلى قوة المنافسين وتوفرهما على لاعبين متميزين مشيرا إلى أن التحاق العديد من المحليين بالمنتخب الوطني سيفيده أكثر وعبر بوحدوز عن ارتياحه باللعب لفريق سانت باولي الألماني الممارس بالقسم الثاني في ألمانيا مشيرا إلى أنه يحترم العقد الذي يربطه بالنادي ولا يعلم ما إذا كان سيستمر معه في الموسم المقبل أم سيغير الأجواء وفي ما يلي نص الحوار إلى أي حد نجح المنتخب الوطني في مباراتي بوركينافاسو وتونس أعتقد أن الفوز في مباراتي بوركينافاسو وتونس مهم جدا بالنسبة إلينا خاصة بعد تجربتنا الناجحة في النسخة الأخيرة لكأس أمم إفريقيا بالغابون والتي بلغنا من خلالها ربع النهائي كان لا بد من تحقيق الفوز على منتخبين قويين والحمد الله تمكنا من ذلك بفضل إرادة اللاعبين ومجهوداتهم والعمل المضني للمدرب هيرفي رونار وباقي أفراد طاقمه الفني والطبي والإداري ورغم قوة المنتخبين البوركينابي والتونسي ونديتهما إلا أننا نجحنا في فرض أسلوب لعبنا المعتاد ما هي الصعوبات التي واجهتموها في المباراتين معا لم تكن المباراتان سهلتين بالنسبة إلينا في ظل توفر المنتخبين البوركينابي والتونسي على فرديات جيدة إضافة إلى اعتمادهم على اللعب الجماعي وأعتقد أن المباراتين هامتان للأسود من أجل ضمان تحضير جيد للتصفيات المؤهلة إلى نهائيات كأسي العالم بروسيا وإفريقيا بالكامرون إننا واثقون من قدرة منتخبنا على المضي قدما من أجل تلميع صورته أكثر خاصة أن هناك لاعبين جددا قدموا مستوى جيدا في المباراتين الإعداديتين كيف تنظر إلى بعض التغييرات التي طرأت على تشكيلة الأسود لقد انضم إلى المنتخب الوطني مجموعة من اللاعبين المحليين في مباراتي بوركينافاسو وتونس من بينهم جواد اليميق ومحمد الناهيري ووليد أزارو وعبد الإله الحافظي وآخرون والذين نجحوا في التوقيع على حضور متميز في انتظار أن يتأقلموا أكثر مع باقي المحترفين ومما لاشك فيه أن التحاق هؤلاء المحليين سيكون في صالح المنتخب الوطني كيف هي وضعيتك مع سانت باولي الألماني إنها جيدة للغاية أنا مليح دابا لأنني ألعب أساسيا في الفريق وأطمح إلى تحسين مستواي أكثر والحمد الله أنني أبصم على حضور جيد من خلال إحرازي العديد من الأهداف الحاسمة هل تفكر في تغيير الأجواء مازلت مرتبطا بفريق سانت باولي بعقد احترافي ويجب علي احترامه وبالتالي لا أعرف ما سيخبئه لي القدر فالله سبحانه وتعالى من يعلم بذلك المهم أن أبقى مركزا مع فريقي في المباريات المقبلة حتى أكون جاهزا لخدمة المنتخب الوطني في الاستحقاقات المقبلة أجرى الحوار عيسى الكامحي في سطور الاسم الكامل عزيز بوحدوز تاريخ ومكان الميلاد مارس في القرية ضاحية الناظور الطول سنتمترا الوزن كيلوغراما الفريق الحالي سانت باولي الألماني مساره لعب للعديد من الأندية الألمانية إف سي فرانكفورت وفيسبادن وفيكتوريا كون وبايرن ليفركوزن وسندهاوزن لعب للمنتخب الوطني مباريات وأحرز له ثلاثة أهداف'"
            ],
            "application/vnd.google.colaboratory.intrinsic+json": {
              "type": "string"
            }
          },
          "metadata": {},
          "execution_count": 55
        }
      ]
    },
    {
      "cell_type": "code",
      "source": [
        "data = df7"
      ],
      "metadata": {
        "id": "L3IfIe6u-QAg"
      },
      "execution_count": null,
      "outputs": []
    }
  ]
}